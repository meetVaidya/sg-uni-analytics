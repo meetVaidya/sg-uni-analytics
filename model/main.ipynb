{
 "cells": [
  {
   "cell_type": "markdown",
   "metadata": {},
   "source": [
    "# ML Mini Project\n",
    "# Meet Hemant Vaidya\n",
    "# 60009220125"
   ]
  },
  {
   "cell_type": "code",
   "execution_count": 1,
   "metadata": {},
   "outputs": [],
   "source": [
    "import pandas as pd\n",
    "import numpy as np\n",
    "import matplotlib.pyplot as plt\n",
    "import seaborn as sns"
   ]
  },
  {
   "cell_type": "code",
   "execution_count": 3,
   "metadata": {},
   "outputs": [],
   "source": [
    "df = pd.read_csv('./datasets/GraduateStudentData.csv')"
   ]
  },
  {
   "cell_type": "code",
   "execution_count": 4,
   "metadata": {},
   "outputs": [
    {
     "data": {
      "text/html": [
       "<div>\n",
       "<style scoped>\n",
       "    .dataframe tbody tr th:only-of-type {\n",
       "        vertical-align: middle;\n",
       "    }\n",
       "\n",
       "    .dataframe tbody tr th {\n",
       "        vertical-align: top;\n",
       "    }\n",
       "\n",
       "    .dataframe thead th {\n",
       "        text-align: right;\n",
       "    }\n",
       "</style>\n",
       "<table border=\"1\" class=\"dataframe\">\n",
       "  <thead>\n",
       "    <tr style=\"text-align: right;\">\n",
       "      <th></th>\n",
       "      <th>year</th>\n",
       "      <th>university</th>\n",
       "      <th>school</th>\n",
       "      <th>degree</th>\n",
       "      <th>employment_rate_overall</th>\n",
       "      <th>employment_rate_ft_perm</th>\n",
       "      <th>basic_monthly_mean</th>\n",
       "      <th>basic_monthly_median</th>\n",
       "      <th>gross_monthly_mean</th>\n",
       "      <th>gross_monthly_median</th>\n",
       "      <th>gross_mthly_25_percentile</th>\n",
       "      <th>gross_mthly_75_percentile</th>\n",
       "    </tr>\n",
       "  </thead>\n",
       "  <tbody>\n",
       "    <tr>\n",
       "      <th>0</th>\n",
       "      <td>2013</td>\n",
       "      <td>Nanyang Technological University</td>\n",
       "      <td>College of Business (Nanyang Business School)</td>\n",
       "      <td>Accountancy and Business</td>\n",
       "      <td>97.4</td>\n",
       "      <td>96.1</td>\n",
       "      <td>3701</td>\n",
       "      <td>3200</td>\n",
       "      <td>3727</td>\n",
       "      <td>3350</td>\n",
       "      <td>2900</td>\n",
       "      <td>4000</td>\n",
       "    </tr>\n",
       "    <tr>\n",
       "      <th>1</th>\n",
       "      <td>2013</td>\n",
       "      <td>Nanyang Technological University</td>\n",
       "      <td>College of Business (Nanyang Business School)</td>\n",
       "      <td>Accountancy (3-yr direct Honours Programme)</td>\n",
       "      <td>97.1</td>\n",
       "      <td>95.7</td>\n",
       "      <td>2850</td>\n",
       "      <td>2700</td>\n",
       "      <td>2938</td>\n",
       "      <td>2700</td>\n",
       "      <td>2700</td>\n",
       "      <td>2900</td>\n",
       "    </tr>\n",
       "    <tr>\n",
       "      <th>2</th>\n",
       "      <td>2013</td>\n",
       "      <td>Nanyang Technological University</td>\n",
       "      <td>College of Business (Nanyang Business School)</td>\n",
       "      <td>Business (3-yr direct Honours Programme)</td>\n",
       "      <td>90.9</td>\n",
       "      <td>85.7</td>\n",
       "      <td>3053</td>\n",
       "      <td>3000</td>\n",
       "      <td>3214</td>\n",
       "      <td>3000</td>\n",
       "      <td>2700</td>\n",
       "      <td>3500</td>\n",
       "    </tr>\n",
       "    <tr>\n",
       "      <th>3</th>\n",
       "      <td>2013</td>\n",
       "      <td>Nanyang Technological University</td>\n",
       "      <td>College of Business (Nanyang Business School)</td>\n",
       "      <td>Business and Computing</td>\n",
       "      <td>87.5</td>\n",
       "      <td>87.5</td>\n",
       "      <td>3557</td>\n",
       "      <td>3400</td>\n",
       "      <td>3615</td>\n",
       "      <td>3400</td>\n",
       "      <td>3000</td>\n",
       "      <td>4100</td>\n",
       "    </tr>\n",
       "    <tr>\n",
       "      <th>4</th>\n",
       "      <td>2013</td>\n",
       "      <td>Nanyang Technological University</td>\n",
       "      <td>College of Engineering</td>\n",
       "      <td>Aerospace Engineering</td>\n",
       "      <td>95.3</td>\n",
       "      <td>95.3</td>\n",
       "      <td>3494</td>\n",
       "      <td>3500</td>\n",
       "      <td>3536</td>\n",
       "      <td>3500</td>\n",
       "      <td>3100</td>\n",
       "      <td>3816</td>\n",
       "    </tr>\n",
       "  </tbody>\n",
       "</table>\n",
       "</div>"
      ],
      "text/plain": [
       "   year                        university  \\\n",
       "0  2013  Nanyang Technological University   \n",
       "1  2013  Nanyang Technological University   \n",
       "2  2013  Nanyang Technological University   \n",
       "3  2013  Nanyang Technological University   \n",
       "4  2013  Nanyang Technological University   \n",
       "\n",
       "                                          school  \\\n",
       "0  College of Business (Nanyang Business School)   \n",
       "1  College of Business (Nanyang Business School)   \n",
       "2  College of Business (Nanyang Business School)   \n",
       "3  College of Business (Nanyang Business School)   \n",
       "4                         College of Engineering   \n",
       "\n",
       "                                        degree employment_rate_overall  \\\n",
       "0                     Accountancy and Business                    97.4   \n",
       "1  Accountancy (3-yr direct Honours Programme)                    97.1   \n",
       "2     Business (3-yr direct Honours Programme)                    90.9   \n",
       "3                       Business and Computing                    87.5   \n",
       "4                        Aerospace Engineering                    95.3   \n",
       "\n",
       "  employment_rate_ft_perm basic_monthly_mean basic_monthly_median  \\\n",
       "0                    96.1               3701                 3200   \n",
       "1                    95.7               2850                 2700   \n",
       "2                    85.7               3053                 3000   \n",
       "3                    87.5               3557                 3400   \n",
       "4                    95.3               3494                 3500   \n",
       "\n",
       "  gross_monthly_mean gross_monthly_median gross_mthly_25_percentile  \\\n",
       "0               3727                 3350                      2900   \n",
       "1               2938                 2700                      2700   \n",
       "2               3214                 3000                      2700   \n",
       "3               3615                 3400                      3000   \n",
       "4               3536                 3500                      3100   \n",
       "\n",
       "  gross_mthly_75_percentile  \n",
       "0                      4000  \n",
       "1                      2900  \n",
       "2                      3500  \n",
       "3                      4100  \n",
       "4                      3816  "
      ]
     },
     "execution_count": 4,
     "metadata": {},
     "output_type": "execute_result"
    }
   ],
   "source": [
    "df.head()"
   ]
  },
  {
   "cell_type": "code",
   "execution_count": 5,
   "metadata": {},
   "outputs": [
    {
     "data": {
      "text/html": [
       "<div>\n",
       "<style scoped>\n",
       "    .dataframe tbody tr th:only-of-type {\n",
       "        vertical-align: middle;\n",
       "    }\n",
       "\n",
       "    .dataframe tbody tr th {\n",
       "        vertical-align: top;\n",
       "    }\n",
       "\n",
       "    .dataframe thead th {\n",
       "        text-align: right;\n",
       "    }\n",
       "</style>\n",
       "<table border=\"1\" class=\"dataframe\">\n",
       "  <thead>\n",
       "    <tr style=\"text-align: right;\">\n",
       "      <th></th>\n",
       "      <th>year</th>\n",
       "    </tr>\n",
       "  </thead>\n",
       "  <tbody>\n",
       "    <tr>\n",
       "      <th>count</th>\n",
       "      <td>1121.000000</td>\n",
       "    </tr>\n",
       "    <tr>\n",
       "      <th>mean</th>\n",
       "      <td>2017.303301</td>\n",
       "    </tr>\n",
       "    <tr>\n",
       "      <th>std</th>\n",
       "      <td>2.492646</td>\n",
       "    </tr>\n",
       "    <tr>\n",
       "      <th>min</th>\n",
       "      <td>2013.000000</td>\n",
       "    </tr>\n",
       "    <tr>\n",
       "      <th>25%</th>\n",
       "      <td>2015.000000</td>\n",
       "    </tr>\n",
       "    <tr>\n",
       "      <th>50%</th>\n",
       "      <td>2017.000000</td>\n",
       "    </tr>\n",
       "    <tr>\n",
       "      <th>75%</th>\n",
       "      <td>2019.000000</td>\n",
       "    </tr>\n",
       "    <tr>\n",
       "      <th>max</th>\n",
       "      <td>2021.000000</td>\n",
       "    </tr>\n",
       "  </tbody>\n",
       "</table>\n",
       "</div>"
      ],
      "text/plain": [
       "              year\n",
       "count  1121.000000\n",
       "mean   2017.303301\n",
       "std       2.492646\n",
       "min    2013.000000\n",
       "25%    2015.000000\n",
       "50%    2017.000000\n",
       "75%    2019.000000\n",
       "max    2021.000000"
      ]
     },
     "execution_count": 5,
     "metadata": {},
     "output_type": "execute_result"
    }
   ],
   "source": [
    "df.describe()"
   ]
  },
  {
   "cell_type": "markdown",
   "metadata": {},
   "source": [
    "Checking for null values"
   ]
  },
  {
   "cell_type": "code",
   "execution_count": 6,
   "metadata": {},
   "outputs": [
    {
     "name": "stdout",
     "output_type": "stream",
     "text": [
      "year                         0\n",
      "university                   0\n",
      "school                       0\n",
      "degree                       0\n",
      "employment_rate_overall      0\n",
      "employment_rate_ft_perm      0\n",
      "basic_monthly_mean           0\n",
      "basic_monthly_median         0\n",
      "gross_monthly_mean           0\n",
      "gross_monthly_median         0\n",
      "gross_mthly_25_percentile    0\n",
      "gross_mthly_75_percentile    0\n",
      "dtype: int64\n"
     ]
    }
   ],
   "source": [
    "null_values = df.isnull().sum()\n",
    "\n",
    "print(null_values)"
   ]
  },
  {
   "cell_type": "code",
   "execution_count": 7,
   "metadata": {},
   "outputs": [],
   "source": [
    "df = df.replace('na', np.nan)"
   ]
  },
  {
   "cell_type": "code",
   "execution_count": 8,
   "metadata": {},
   "outputs": [
    {
     "name": "stdout",
     "output_type": "stream",
     "text": [
      "year                          0\n",
      "university                    0\n",
      "school                       28\n",
      "degree                        0\n",
      "employment_rate_overall      89\n",
      "employment_rate_ft_perm      89\n",
      "basic_monthly_mean           89\n",
      "basic_monthly_median         89\n",
      "gross_monthly_mean           89\n",
      "gross_monthly_median         89\n",
      "gross_mthly_25_percentile    89\n",
      "gross_mthly_75_percentile    89\n",
      "dtype: int64\n"
     ]
    }
   ],
   "source": [
    "null_values = df.isnull().sum()\n",
    "\n",
    "print(null_values)"
   ]
  },
  {
   "cell_type": "code",
   "execution_count": 9,
   "metadata": {},
   "outputs": [],
   "source": [
    "df.dropna(inplace=True)"
   ]
  },
  {
   "cell_type": "markdown",
   "metadata": {},
   "source": [
    "---"
   ]
  },
  {
   "cell_type": "code",
   "execution_count": 10,
   "metadata": {},
   "outputs": [
    {
     "name": "stdout",
     "output_type": "stream",
     "text": [
      "<class 'pandas.core.frame.DataFrame'>\n",
      "Index: 1007 entries, 0 to 1116\n",
      "Data columns (total 12 columns):\n",
      " #   Column                     Non-Null Count  Dtype \n",
      "---  ------                     --------------  ----- \n",
      " 0   year                       1007 non-null   int64 \n",
      " 1   university                 1007 non-null   object\n",
      " 2   school                     1007 non-null   object\n",
      " 3   degree                     1007 non-null   object\n",
      " 4   employment_rate_overall    1007 non-null   object\n",
      " 5   employment_rate_ft_perm    1007 non-null   object\n",
      " 6   basic_monthly_mean         1007 non-null   object\n",
      " 7   basic_monthly_median       1007 non-null   object\n",
      " 8   gross_monthly_mean         1007 non-null   object\n",
      " 9   gross_monthly_median       1007 non-null   object\n",
      " 10  gross_mthly_25_percentile  1007 non-null   object\n",
      " 11  gross_mthly_75_percentile  1007 non-null   object\n",
      "dtypes: int64(1), object(11)\n",
      "memory usage: 102.3+ KB\n"
     ]
    }
   ],
   "source": [
    "df.info()"
   ]
  },
  {
   "cell_type": "markdown",
   "metadata": {},
   "source": [
    "#### First we will be changing the data types of the columns related to the employment rate and monthly income to int64 from object"
   ]
  },
  {
   "cell_type": "code",
   "execution_count": 11,
   "metadata": {},
   "outputs": [],
   "source": [
    "object_to_int = ['employment_rate_overall', 'employment_rate_ft_perm', 'basic_monthly_mean', 'basic_monthly_median', 'gross_monthly_mean', 'gross_monthly_median', 'gross_mthly_25_percentile', 'gross_mthly_75_percentile']\n",
    "\n",
    "for col in object_to_int:\n",
    "    df[col] = df[col].astype(float)\n",
    "\n",
    "object_to_str = ['university', 'school', 'degree']\n",
    "\n",
    "for col in object_to_str:\n",
    "    df[col] = df[col].astype('string')"
   ]
  },
  {
   "cell_type": "code",
   "execution_count": 12,
   "metadata": {},
   "outputs": [
    {
     "name": "stdout",
     "output_type": "stream",
     "text": [
      "<class 'pandas.core.frame.DataFrame'>\n",
      "Index: 1007 entries, 0 to 1116\n",
      "Data columns (total 12 columns):\n",
      " #   Column                     Non-Null Count  Dtype  \n",
      "---  ------                     --------------  -----  \n",
      " 0   year                       1007 non-null   int64  \n",
      " 1   university                 1007 non-null   string \n",
      " 2   school                     1007 non-null   string \n",
      " 3   degree                     1007 non-null   string \n",
      " 4   employment_rate_overall    1007 non-null   float64\n",
      " 5   employment_rate_ft_perm    1007 non-null   float64\n",
      " 6   basic_monthly_mean         1007 non-null   float64\n",
      " 7   basic_monthly_median       1007 non-null   float64\n",
      " 8   gross_monthly_mean         1007 non-null   float64\n",
      " 9   gross_monthly_median       1007 non-null   float64\n",
      " 10  gross_mthly_25_percentile  1007 non-null   float64\n",
      " 11  gross_mthly_75_percentile  1007 non-null   float64\n",
      "dtypes: float64(8), int64(1), string(3)\n",
      "memory usage: 102.3 KB\n"
     ]
    }
   ],
   "source": [
    "df.info()"
   ]
  },
  {
   "cell_type": "markdown",
   "metadata": {},
   "source": [
    "---"
   ]
  },
  {
   "cell_type": "code",
   "execution_count": 13,
   "metadata": {},
   "outputs": [
    {
     "name": "stdout",
     "output_type": "stream",
     "text": [
      "<StringArray>\n",
      "[       'Nanyang Technological University',\n",
      "        'National University of Singapore',\n",
      "         'Singapore Management University',\n",
      "       'Singapore Institute of Technology',\n",
      " 'Singapore University of Social Sciences']\n",
      "Length: 5, dtype: string\n"
     ]
    }
   ],
   "source": [
    "print(df['university'].unique())"
   ]
  },
  {
   "cell_type": "code",
   "execution_count": 14,
   "metadata": {},
   "outputs": [
    {
     "data": {
      "image/png": "[encoded data removed]",
      "text/plain": [
       "<Figure size 640x480 with 1 Axes>"
      ]
     },
     "metadata": {},
     "output_type": "display_data"
    }
   ],
   "source": [
    "# Visualize the distribution of the university column using a bar plot\n",
    "sns.countplot(x='university', data=df)\n",
    "\n",
    "# Set the plot title and axis labels\n",
    "plt.title('Distribution of Universities')\n",
    "plt.xticks(rotation=90)\n",
    "plt.xlabel('University')\n",
    "plt.ylabel('Count')\n",
    "\n",
    "# Show the plot\n",
    "plt.show()"
   ]
  },
  {
   "cell_type": "markdown",
   "metadata": {},
   "source": [
    "### Therefore we can say there are 6 universities in the dataset. They are:\n",
    "1. Nanyang Technological University\n",
    "2. National University of Singapore\n",
    "3. Singapore Management University\n",
    "4. Singapore Institute of Technology\n",
    "5. Singapore University of Technology and Design\n",
    "6. Singapore University of Social Sciences"
   ]
  },
  {
   "cell_type": "markdown",
   "metadata": {},
   "source": [
    "---"
   ]
  },
  {
   "cell_type": "markdown",
   "metadata": {},
   "source": [
    "## Let us check all the schools present in all the universities"
   ]
  },
  {
   "cell_type": "markdown",
   "metadata": {},
   "source": [
    "## 1. Nanyang Technological University"
   ]
  },
  {
   "cell_type": "code",
   "execution_count": 15,
   "metadata": {},
   "outputs": [
    {
     "name": "stdout",
     "output_type": "stream",
     "text": [
      "<StringArray>\n",
      "['College of Business (Nanyang Business School)',\n",
      "                        'College of Engineering',\n",
      " 'College of Humanities, Arts & Social Sciences',\n",
      "                           'College of Sciences',\n",
      "         'National Institute of Education (NIE)',\n",
      "                 'Sports Science and Management',\n",
      "             'Lee Kong Chian School of Medicine',\n",
      "                            'College of Science']\n",
      "Length: 8, dtype: string\n",
      "8\n"
     ]
    }
   ],
   "source": [
    "ntu_schools = df[df['university'] == 'Nanyang Technological University']['school'].unique()\n",
    "print(ntu_schools)\n",
    "print(len(ntu_schools))"
   ]
  },
  {
   "cell_type": "code",
   "execution_count": 16,
   "metadata": {},
   "outputs": [
    {
     "name": "stderr",
     "output_type": "stream",
     "text": [
      "C:\\Users\\Meet\\AppData\\Local\\Temp\\ipykernel_10092\\424867313.py:12: FutureWarning: \n",
      "\n",
      "Passing `palette` without assigning `hue` is deprecated and will be removed in v0.14.0. Assign the `x` variable to `hue` and set `legend=False` for the same effect.\n",
      "\n",
      "  sns.barplot(x=school_counts.index, y=school_counts.values, palette='viridis')\n"
     ]
    },
    {
     "data": {
      "image/png": "[encoded data removed]",
      "text/plain": [
       "<Figure size 1000x600 with 1 Axes>"
      ]
     },
     "metadata": {},
     "output_type": "display_data"
    }
   ],
   "source": [
    "import matplotlib.pyplot as plt\n",
    "import seaborn as sns\n",
    "\n",
    "# Assuming 'university' and 'school' are the column names\n",
    "ntu_df = df[df['university'] == 'Nanyang Technological University']\n",
    "\n",
    "# Count the number of occurrences of each school\n",
    "school_counts = ntu_df['school'].value_counts()\n",
    "\n",
    "# Create a bar plot\n",
    "plt.figure(figsize=(10,6))\n",
    "sns.barplot(x=school_counts.index, y=school_counts.values, palette='viridis')\n",
    "plt.title('Schools in Nanyang Technological University')\n",
    "plt.xlabel('School')\n",
    "plt.ylabel('Count')\n",
    "plt.xticks(rotation=90)  # Rotate x-axis labels for readability\n",
    "plt.show()"
   ]
  },
  {
   "cell_type": "markdown",
   "metadata": {},
   "source": [
    "### The schools present in NTU\n",
    "1. College of Business (Nanyang Business School)\n",
    "2. College of Engineering\n",
    "3. College of Humanities, Arts & Social Sciences \n",
    "4. College of Sciences\n",
    "5. National Institute of Education (NIE)\n",
    "6. Sports Science and Management\n",
    "7. Lee Kong Chian School of Medicine\n",
    "8. College of Science"
   ]
  },
  {
   "cell_type": "markdown",
   "metadata": {},
   "source": [
    "We can see that there is a duplication in \"college of science\" so we will be renaming the value to \"College of Science\" as there are significant number of data points"
   ]
  },
  {
   "cell_type": "code",
   "execution_count": 17,
   "metadata": {},
   "outputs": [],
   "source": [
    "df['school'] = df['school'].replace({'College of Sciences': 'College of Science'})"
   ]
  },
  {
   "cell_type": "markdown",
   "metadata": {},
   "source": [
    "Visualization after removing duplicates"
   ]
  },
  {
   "cell_type": "code",
   "execution_count": 18,
   "metadata": {},
   "outputs": [
    {
     "name": "stderr",
     "output_type": "stream",
     "text": [
      "C:\\Users\\Meet\\AppData\\Local\\Temp\\ipykernel_10092\\424867313.py:12: FutureWarning: \n",
      "\n",
      "Passing `palette` without assigning `hue` is deprecated and will be removed in v0.14.0. Assign the `x` variable to `hue` and set `legend=False` for the same effect.\n",
      "\n",
      "  sns.barplot(x=school_counts.index, y=school_counts.values, palette='viridis')\n"
     ]
    },
    {
     "data": {
      "image/png": "[encoded data removed]",
      "text/plain": [
       "<Figure size 1000x600 with 1 Axes>"
      ]
     },
     "metadata": {},
     "output_type": "display_data"
    }
   ],
   "source": [
    "import matplotlib.pyplot as plt\n",
    "import seaborn as sns\n",
    "\n",
    "# Assuming 'university' and 'school' are the column names\n",
    "ntu_df = df[df['university'] == 'Nanyang Technological University']\n",
    "\n",
    "# Count the number of occurrences of each school\n",
    "school_counts = ntu_df['school'].value_counts()\n",
    "\n",
    "# Create a bar plot\n",
    "plt.figure(figsize=(10,6))\n",
    "sns.barplot(x=school_counts.index, y=school_counts.values, palette='viridis')\n",
    "plt.title('Schools in Nanyang Technological University')\n",
    "plt.xlabel('School')\n",
    "plt.ylabel('Count')\n",
    "plt.xticks(rotation=90)  # Rotate x-axis labels for readability\n",
    "plt.show()"
   ]
  },
  {
   "cell_type": "markdown",
   "metadata": {},
   "source": [
    "#### Checking for duplicates and redundant data in degrees present in Nanyang Technological University"
   ]
  },
  {
   "cell_type": "code",
   "execution_count": 19,
   "metadata": {},
   "outputs": [],
   "source": [
    "from difflib import SequenceMatcher\n",
    "\n",
    "def find_similar_duplicates(string_array):\n",
    "    duplicates = []\n",
    "    for i in range(len(string_array)):\n",
    "        for j in range(i + 1, len(string_array)):\n",
    "            string1 = string_array[i]\n",
    "            string2 = string_array[j]\n",
    "            # Skip strings containing 'Hons'\n",
    "            if 'Hons' in string1 or 'Hons' in string2:\n",
    "                continue\n",
    "            string1_cleaned = ''.join(string1.split()).lower()\n",
    "            string2_cleaned = ''.join(string2.split()).lower()\n",
    "            diff_count = sum(c1 != c2 for c1, c2 in zip(string1_cleaned, string2_cleaned))\n",
    "            if diff_count <= 1:\n",
    "                similarity_ratio = SequenceMatcher(None, string1, string2).ratio()\n",
    "                if similarity_ratio > 0.8: \n",
    "                    duplicates.append((string1, string2))\n",
    "    return duplicates"
   ]
  },
  {
   "cell_type": "code",
   "execution_count": 20,
   "metadata": {},
   "outputs": [
    {
     "name": "stdout",
     "output_type": "stream",
     "text": [
      "<StringArray>\n",
      "[                                                                          'Accountancy and Business',\n",
      "                                                        'Accountancy (3-yr direct Honours Programme)',\n",
      "                                                           'Business (3-yr direct Honours Programme)',\n",
      "                                                                             'Business and Computing',\n",
      "                                                                                        'Accountancy',\n",
      "                                                                                           'Business',\n",
      "                                                                     'Bachelor of Accountancy (Hons)',\n",
      "                    'Double Degree in Bachelor of Accountancy (Hons) and Bachelor of Business (Hons)',\n",
      "                                                                        'Bachelor of Business (Hons)',\n",
      " 'Double Degree in Bachelor of Business (Hons) and Bachelor of Engineering (Hons) (Computer Science)',\n",
      "                                                                           'Business and Computing ^',\n",
      "                                       'Double Degree in Business and Computer Engineering/Computing']\n",
      "Length: 12, dtype: string\n",
      "12\n"
     ]
    }
   ],
   "source": [
    "# checking in College of Business (Nanyang Business School)\n",
    "nanyang_business_school = df[df['school'] == 'College of Business (Nanyang Business School)']['degree'].unique()\n",
    "print(nanyang_business_school)\n",
    "print(len(nanyang_business_school))"
   ]
  },
  {
   "cell_type": "markdown",
   "metadata": {},
   "source": [
    "Dropping 'Business and Computing ^' as according to the details provided by the data.gov.sg website '^' indicates the sample size is less than 30"
   ]
  },
  {
   "cell_type": "code",
   "execution_count": 21,
   "metadata": {},
   "outputs": [],
   "source": [
    "df = df[~df['degree'].isin(['Business and Computing ^'])]"
   ]
  },
  {
   "cell_type": "markdown",
   "metadata": {},
   "source": [
    "Checking in College of Engineering"
   ]
  },
  {
   "cell_type": "code",
   "execution_count": 22,
   "metadata": {},
   "outputs": [
    {
     "name": "stdout",
     "output_type": "stream",
     "text": [
      "<StringArray>\n",
      "[                                                  'Aerospace Engineering',\n",
      "                                                          'Bioengineering',\n",
      "                                   'Chemical and Biomolecular Engineering',\n",
      "                                                    'Computer Engineering',\n",
      "                                                       'Civil Engineering',\n",
      "                                                        'Computer Science',\n",
      "                                   'Electrical and Electronic Engineering',\n",
      "                                               'Environmental Engineering',\n",
      "                                       'Information Engineering and Media',\n",
      "                                                   'Materials Engineering',\n",
      "                                                  'Mechanical Engineering',\n",
      "                                                        'Maritime Studies',\n",
      "                                   'Chemical And Biomolecular Engineering',\n",
      "                                   'Electrical And Electronic Engineering',\n",
      "                                       'Information Engineering And Media',\n",
      "                  'Bachelor of Engineering (Hons) (Aerospace Engineering)',\n",
      "                         'Bachelor of Engineering (Hons) (Bioengineering)',\n",
      " 'Bachelor of Engineering  (Hons) (Chemical And Biomolecular Engineering)',\n",
      "                      'Bachelor of Engineering (Hons) (Civil Engineering)',\n",
      "                   'Bachelor of Engineering (Hons) (Computer Engineering)',\n",
      "                       'Bachelor of Engineering (Hons) (Computer Science)',\n",
      "    'Bachelor of Engineering (Hons) (Electrical & Electronic Engineering)',\n",
      "              'Bachelor of Engineering (Hons) (Environmental Engineering)',\n",
      "        'Bachelor of Engineering (Hons) (Information Engineering & Media)',\n",
      "                           'Bachelor of Science (Hons) (Maritime Studies)',\n",
      "                  'Bachelor of Engineering (Hons) (Materials Engineering)',\n",
      "                 'Bachelor of Engineering (Hons) (Mechanical Engineering)',\n",
      "                                            'Bachelor of Fine Arts (Hons)',\n",
      "                                      'Bachelor of Arts (Hons) in Chinese',\n",
      "                                'Bachelor of Communication Studies (Hons)',\n",
      "                                    'Bachelor of Arts (Hons) in Economics',\n",
      "                                      'Bachelor of Arts (Hons) in English',\n",
      "                                      'Bachelor of Arts (Hons) in History',\n",
      "         'Bachelor of Arts (Hons) in Linguistics And Multilingual Studies',\n",
      "                                   'Bachelor of Arts (Hons) in Psychology',\n",
      "             'Bachelor of Arts (Hons) in Public Policy And Global Affairs',\n",
      "                                    'Bachelor of Arts (Hons) in Sociology',\n",
      "                                     'Chemical & Biomolecular Engineering',\n",
      "                                     'Electrical & Electronic Engineering',\n",
      "                                         'Information Engineering & Media',\n",
      "                            'Double Degree in Engineering and Economics ^']\n",
      "Length: 41, dtype: string\n",
      "41\n"
     ]
    }
   ],
   "source": [
    "nanyang_engineering = df[df['school'] == 'College of Engineering']['degree'].unique()\n",
    "print(nanyang_engineering)\n",
    "print(len(nanyang_engineering))"
   ]
  },
  {
   "cell_type": "code",
   "execution_count": 23,
   "metadata": {},
   "outputs": [
    {
     "name": "stdout",
     "output_type": "stream",
     "text": [
      "Similar duplicates found:\n",
      "('Chemical and Biomolecular Engineering', 'Chemical And Biomolecular Engineering')\n",
      "('Electrical and Electronic Engineering', 'Electrical And Electronic Engineering')\n",
      "('Information Engineering and Media', 'Information Engineering And Media')\n"
     ]
    }
   ],
   "source": [
    "duplicates = find_similar_duplicates(nanyang_engineering)\n",
    "if duplicates:\n",
    "    print(\"Similar duplicates found:\")\n",
    "    for duplicate in duplicates:\n",
    "        print(duplicate)\n",
    "else:\n",
    "    print(\"No similar duplicates found.\")"
   ]
  },
  {
   "cell_type": "code",
   "execution_count": 24,
   "metadata": {},
   "outputs": [],
   "source": [
    "df['degree'] = df['degree'].replace({'Chemical And Biomolecular Engineering': 'Chemical and Biomolecular Engineering'})\n",
    "df['degree'] = df['degree'].replace({'Electrical & Electronic Engineering': 'Electrical and Electronic Engineering'})\n",
    "df['degree'] = df['degree'].replace({'Information Engineering & Media': 'Information Engineering and Media'})"
   ]
  },
  {
   "cell_type": "markdown",
   "metadata": {},
   "source": [
    "Checking in College of Humanities, Arts, & Social Sciences"
   ]
  },
  {
   "cell_type": "code",
   "execution_count": 25,
   "metadata": {},
   "outputs": [
    {
     "name": "stdout",
     "output_type": "stream",
     "text": [
      "<StringArray>\n",
      "[]\n",
      "Length: 0, dtype: string\n",
      "0\n"
     ]
    }
   ],
   "source": [
    "nanyang_humanities = df[df['school'] == 'College of Humanities, Arts, & Social Sciences']['degree'].unique()\n",
    "print(nanyang_humanities)\n",
    "print(len(nanyang_humanities))"
   ]
  },
  {
   "cell_type": "markdown",
   "metadata": {},
   "source": [
    "\n",
    "Checking in College of Science\n"
   ]
  },
  {
   "cell_type": "code",
   "execution_count": 26,
   "metadata": {},
   "outputs": [
    {
     "name": "stdout",
     "output_type": "stream",
     "text": [
      "<StringArray>\n",
      "[                                                            'Biomedical Sciences (Traditional Chinese Medicine) #',\n",
      "                                                                                              'Biological Sciences',\n",
      "                                                                                 'Chemistry & Biological Chemistry',\n",
      "                                                                                             'Mathematical Science',\n",
      "                                                                                        'Physics / Applied Physics',\n",
      "                                                                                    'Sports Science and Management',\n",
      "                                                              'Biomedical Science (Traditional Chinese Medicine) #',\n",
      "                                                                                          'Mathematics & Economics',\n",
      "                                                                         'Biomedical Sciences & Chinese Medicine #',\n",
      "                                                                                            'Mathematical Sciences',\n",
      " 'Double Degree in Bachelor of Science (Hons) in Biomedical Sciences and Bachelor of Medicine (Chinese Medicine) #',\n",
      "                                                                'Bachelor of Science (Hons) in Biological Sciences',\n",
      "                                                   'Bachelor of Science (Hons) in Chemistry & Biological Chemistry',\n",
      "                                                              'Bachelor of Science (Hons) in Mathematical Sciences',\n",
      "                                                            'Bachelor of Science (Hons) in Mathematics & Economics',\n",
      "                                                            'Bachelor of Science (Hons) in Physics/Applied Physics',\n",
      "                                                                       'Biomedical Sciences & Chinese Medicine # ^',\n",
      "                                                                            'Environmental Earth Systems Science ^',\n",
      "                                                                                        'Physics & Applied Physics',\n",
      "                                                                           'Environmental Earth Systems Sciences ^',\n",
      "                                                                     'Biomedical Sciences and Chinese Medicine # ^',\n",
      "                                                                               'Chemistry and Biological Chemistry',\n",
      "                                                                                        'Mathematics and Economics',\n",
      "                                                                                      'Physics and Applied Physics',\n",
      "                                                                        'Biological Sciences / Biomedical Sciences',\n",
      "                                                      'Mathematical Sciences / Mathematical Sciences and Economics']\n",
      "Length: 26, dtype: string\n",
      "26\n"
     ]
    }
   ],
   "source": [
    "nanyang_science = df[df['school'] == 'College of Science']['degree'].unique()\n",
    "print(nanyang_science)\n",
    "print(len(nanyang_science))"
   ]
  },
  {
   "cell_type": "code",
   "execution_count": 27,
   "metadata": {},
   "outputs": [
    {
     "name": "stdout",
     "output_type": "stream",
     "text": [
      "Similar duplicates found:\n",
      "('Mathematical Science', 'Mathematical Sciences')\n",
      "('Physics / Applied Physics', 'Physics & Applied Physics')\n",
      "('Biomedical Sciences & Chinese Medicine #', 'Biomedical Sciences & Chinese Medicine # ^')\n",
      "('Environmental Earth Systems Science ^', 'Environmental Earth Systems Sciences ^')\n"
     ]
    }
   ],
   "source": [
    "duplicates = find_similar_duplicates(nanyang_science)\n",
    "if duplicates:\n",
    "    print(\"Similar duplicates found:\")\n",
    "    for duplicate in duplicates:\n",
    "        print(duplicate)\n",
    "else:\n",
    "    print(\"No similar duplicates found.\")"
   ]
  },
  {
   "cell_type": "markdown",
   "metadata": {},
   "source": [
    "\n",
    "\n",
    "Checking in National Institute of Education\n"
   ]
  },
  {
   "cell_type": "code",
   "execution_count": 28,
   "metadata": {},
   "outputs": [
    {
     "name": "stdout",
     "output_type": "stream",
     "text": [
      "<StringArray>\n",
      "[              'Science (with Education)',\n",
      "                  'Arts (with Education)',\n",
      "    'Bachelor of Arts (Hons) (Education)',\n",
      " 'Bachelor of Science (Hons) (Education)',\n",
      "                  'Arts (With Education)',\n",
      "               'Science (With Education)',\n",
      "             'Science (with Education) ^']\n",
      "Length: 7, dtype: string\n",
      "7\n"
     ]
    }
   ],
   "source": [
    "nanyang_national_institute = df[df['school'] == 'National Institute of Education (NIE)']['degree'].unique()\n",
    "print(nanyang_national_institute)\n",
    "print(len(nanyang_national_institute))"
   ]
  },
  {
   "cell_type": "code",
   "execution_count": 29,
   "metadata": {},
   "outputs": [
    {
     "name": "stdout",
     "output_type": "stream",
     "text": [
      "Similar duplicates found:\n",
      "('Science (with Education)', 'Science (With Education)')\n",
      "('Science (with Education)', 'Science (with Education) ^')\n",
      "('Arts (with Education)', 'Arts (With Education)')\n",
      "('Science (With Education)', 'Science (with Education) ^')\n"
     ]
    }
   ],
   "source": [
    "duplicates = find_similar_duplicates(nanyang_national_institute)\n",
    "if duplicates:\n",
    "    print(\"Similar duplicates found:\")\n",
    "    for duplicate in duplicates:\n",
    "        print(duplicate)\n",
    "else:\n",
    "    print(\"No similar duplicates found.\")"
   ]
  },
  {
   "cell_type": "code",
   "execution_count": 30,
   "metadata": {},
   "outputs": [],
   "source": [
    "df['degree'] = df['degree'].replace({'Science (With Education)': 'Science (with Education)'})\n",
    "df['degree'] = df['degree'].replace({'Arts (With Education)': 'Arts (with Education)'})"
   ]
  },
  {
   "cell_type": "markdown",
   "metadata": {},
   "source": [
    "\n",
    "\n",
    "Checking in Sports Science and Management\n"
   ]
  },
  {
   "cell_type": "code",
   "execution_count": 31,
   "metadata": {},
   "outputs": [
    {
     "name": "stdout",
     "output_type": "stream",
     "text": [
      "<StringArray>\n",
      "[                          'Sports Science and Management',\n",
      " 'Bachelor of Science (Hons) (Sport Science & Management)',\n",
      "                            'Sport Science and Management']\n",
      "Length: 3, dtype: string\n",
      "3\n"
     ]
    }
   ],
   "source": [
    "nanyang_sport = df[df['school'] == 'Sports Science and Management']['degree'].unique()\n",
    "print(nanyang_sport)\n",
    "print(len(nanyang_sport))"
   ]
  },
  {
   "cell_type": "code",
   "execution_count": 32,
   "metadata": {},
   "outputs": [
    {
     "name": "stdout",
     "output_type": "stream",
     "text": [
      "No similar duplicates found.\n"
     ]
    }
   ],
   "source": [
    "duplicates = find_similar_duplicates(nanyang_sport)\n",
    "if duplicates:\n",
    "    print(\"Similar duplicates found:\")\n",
    "    for duplicate in duplicates:\n",
    "        print(duplicate)\n",
    "else:\n",
    "    print(\"No similar duplicates found.\")"
   ]
  },
  {
   "cell_type": "code",
   "execution_count": 33,
   "metadata": {},
   "outputs": [],
   "source": [
    "df['degree'] = df['degree'].replace({'Sport Science and Management': 'Sports Science and Management'})"
   ]
  },
  {
   "cell_type": "markdown",
   "metadata": {},
   "source": [
    "\n",
    "\n",
    "Checking in Lee Kong Chian School of Medicine\n"
   ]
  },
  {
   "cell_type": "code",
   "execution_count": 34,
   "metadata": {},
   "outputs": [
    {
     "name": "stdout",
     "output_type": "stream",
     "text": [
      "<StringArray>\n",
      "['Medicine #']\n",
      "Length: 1, dtype: string\n",
      "1\n"
     ]
    }
   ],
   "source": [
    "lee_kong_chian = df[df['school'] == 'Lee Kong Chian School of Medicine']['degree'].unique()\n",
    "print(lee_kong_chian)\n",
    "print(len(lee_kong_chian))"
   ]
  },
  {
   "cell_type": "code",
   "execution_count": 35,
   "metadata": {},
   "outputs": [
    {
     "name": "stdout",
     "output_type": "stream",
     "text": [
      "No similar duplicates found.\n"
     ]
    }
   ],
   "source": [
    "duplicates = find_similar_duplicates(nanyang_sport)\n",
    "if duplicates:\n",
    "    print(\"Similar duplicates found:\")\n",
    "    for duplicate in duplicates:\n",
    "        print(duplicate)\n",
    "else:\n",
    "    print(\"No similar duplicates found.\")"
   ]
  },
  {
   "cell_type": "markdown",
   "metadata": {},
   "source": [
    "## 2. National University of Singapore"
   ]
  },
  {
   "cell_type": "code",
   "execution_count": 36,
   "metadata": {},
   "outputs": [
    {
     "name": "stdout",
     "output_type": "stream",
     "text": [
      "<StringArray>\n",
      "[  'Faculty of Arts & Social Sciences',                 'NUS Business School',\n",
      "                 'School of Computing',                'Faculty of Dentistry',\n",
      "      'School of Design & Environment',              'Faculty of Engineering',\n",
      "                      'Faculty of Law',              'YLL School of Medicine',\n",
      "                  'Faculty of Science', 'Yong Siew Toh Conservatory of Music',\n",
      "        'Multi-Disciplinary Programme',                'Faculty Of Dentistry',\n",
      "              'Faculty Of Engineering',      'Yong Loo Lin School (Medicine)',\n",
      "           'YST Conservatory Of Music',                    'Yale-NUS College',\n",
      "       'Multi-Disciplinary Programmes',        'Multidisciplinary Programmes',\n",
      "           'YST Conservatory of Music']\n",
      "Length: 19, dtype: string\n",
      "19\n"
     ]
    }
   ],
   "source": [
    "nus_schools = df[df['university'] == 'National University of Singapore']['school'].unique()\n",
    "print(nus_schools)\n",
    "print(len(nus_schools))"
   ]
  },
  {
   "cell_type": "markdown",
   "metadata": {},
   "source": [
    "#### Checking for duplicates entries in the school column in National University of Singapore"
   ]
  },
  {
   "cell_type": "markdown",
   "metadata": {},
   "source": [
    "We can see some school have duplicated entries so lets find them"
   ]
  },
  {
   "cell_type": "code",
   "execution_count": 37,
   "metadata": {},
   "outputs": [
    {
     "data": {
      "text/plain": [
       "['faculty of dentistry', 'yst conservatory of music', 'faculty of engineering']"
      ]
     },
     "execution_count": 37,
     "metadata": {},
     "output_type": "execute_result"
    }
   ],
   "source": [
    "lower_nus_schools = [school.lower() for school in nus_schools]\n",
    "\n",
    "def find_duplicates(arr):\n",
    "            duplicates = set([x for x in arr if arr.count(x) > 1])\n",
    "            return list(duplicates)\n",
    "\n",
    "def check_duplicates(array):\n",
    "    if len(array) == len(set(array)):\n",
    "        return False\n",
    "    else:\n",
    "        return True\n",
    "        print(find_duplicates(array))\n",
    "\n",
    "check_duplicates(lower_nus_schools)\n",
    "find_duplicates(lower_nus_schools)"
   ]
  },
  {
   "cell_type": "markdown",
   "metadata": {},
   "source": [
    "So we will replacing the names of these schools"
   ]
  },
  {
   "cell_type": "code",
   "execution_count": 38,
   "metadata": {},
   "outputs": [],
   "source": [
    "df['school'] = df['school'].replace({'Faculty Of Engineering': 'Faculty of Engineering'})\n",
    "df['school'] = df['school'].replace({'Faculty Of Dentistry': 'Faculty of Dentistry'})\n",
    "df['school'] = df['school'].replace({'Yong Siew Toh Conservatory of Music': 'YST Conservatory of Music'})\n",
    "df['school'] = df['school'].replace({'YST Conservatory Of Music': 'YST Conservatory of Music'})\n",
    "df['school'] = df['school'].replace({'Multi-Disciplinary Programme': 'Multidisciplinary Programmes'})\n",
    "df['school'] = df['school'].replace({'Yong Loo Lin School (Medicine)': 'YLL School of Medicine'})"
   ]
  },
  {
   "cell_type": "markdown",
   "metadata": {},
   "source": [
    "The Schools present in National University of Singapore are:\n",
    "1. Faculty of Arts & Social Sciences\n",
    "2. NUS Business School\n",
    "3. School of Computing\n",
    "4. Faculty of Dentistry\n",
    "5. School of Design & Environment\n",
    "6. Faculty of Engineering\n",
    "7. Faculty of Law\n",
    "8. YLL School of Medicine\n",
    "9. Faculty of Science\n",
    "10. YST Conservatory of Music\n",
    "11. Multi-Disciplinary Programme\n",
    "12. Yong Loo Lin School (Medicine)\n",
    "13. YST Conservatory Of Music\n",
    "14. Yale-NUS College\n",
    "15. Multidisciplinary Programmes"
   ]
  },
  {
   "cell_type": "markdown",
   "metadata": {},
   "source": [
    "#### Checking for duplicates and redundant data in degrees present in National University of Singapore"
   ]
  },
  {
   "cell_type": "markdown",
   "metadata": {},
   "source": [
    "Checking for duplicates in Faculty of Arts and Social Science"
   ]
  },
  {
   "cell_type": "code",
   "execution_count": 39,
   "metadata": {},
   "outputs": [
    {
     "name": "stdout",
     "output_type": "stream",
     "text": [
      "<StringArray>\n",
      "['Bachelor of Arts', 'Bachelor of Arts (Hons)', 'Bachelor of Social Sciences']\n",
      "Length: 3, dtype: string\n",
      "3\n"
     ]
    }
   ],
   "source": [
    "nus_art_science = df[df['school'] == 'Faculty of Arts & Social Sciences']['degree'].unique()\n",
    "print(nus_art_science)\n",
    "print(len(nus_art_science))"
   ]
  },
  {
   "cell_type": "code",
   "execution_count": 40,
   "metadata": {},
   "outputs": [
    {
     "name": "stdout",
     "output_type": "stream",
     "text": [
      "No similar duplicates found.\n"
     ]
    }
   ],
   "source": [
    "duplicates = find_similar_duplicates(nus_art_science)\n",
    "if duplicates:\n",
    "    print(\"Similar duplicates found:\")\n",
    "    for duplicate in duplicates:\n",
    "        print(duplicate)\n",
    "else:\n",
    "    print(\"No similar duplicates found.\")"
   ]
  },
  {
   "cell_type": "markdown",
   "metadata": {},
   "source": [
    "Checking for NUS Business School"
   ]
  },
  {
   "cell_type": "code",
   "execution_count": 41,
   "metadata": {},
   "outputs": [
    {
     "name": "stdout",
     "output_type": "stream",
     "text": [
      "<StringArray>\n",
      "[                     'Bachelor of Business Administration',\n",
      "               'Bachelor of Business Administration (Hons)',\n",
      "        'Bachelor of Business Administration (Accountancy)',\n",
      " 'Bachelor of Business Administration (Accountancy) (Hons)',\n",
      "      'Bachelor of Business Administration (Accountancy) ^',\n",
      "                    'Bachelor of Business Administration ^']\n",
      "Length: 6, dtype: string\n",
      "6\n"
     ]
    }
   ],
   "source": [
    "nus_business = df[df['school'] == 'NUS Business School']['degree'].unique()\n",
    "print(nus_business)\n",
    "print(len(nus_business))"
   ]
  },
  {
   "cell_type": "markdown",
   "metadata": {},
   "source": [
    "Dropping the degrees with sample size smaller than 30 (refered the documentation provided by the data provider)"
   ]
  },
  {
   "cell_type": "code",
   "execution_count": 42,
   "metadata": {},
   "outputs": [],
   "source": [
    "df = df[~df['degree'].isin(['Bachelor of Business Administration (Accountancy) ^'])]\n",
    "df = df[~df['degree'].isin(['Bachelor of Business Administration ^'])]"
   ]
  },
  {
   "cell_type": "code",
   "execution_count": 43,
   "metadata": {},
   "outputs": [
    {
     "name": "stdout",
     "output_type": "stream",
     "text": [
      "Similar duplicates found:\n",
      "('Bachelor of Business Administration', 'Bachelor of Business Administration (Accountancy)')\n",
      "('Bachelor of Business Administration', 'Bachelor of Business Administration (Accountancy) ^')\n",
      "('Bachelor of Business Administration', 'Bachelor of Business Administration ^')\n",
      "('Bachelor of Business Administration (Accountancy)', 'Bachelor of Business Administration (Accountancy) ^')\n",
      "('Bachelor of Business Administration (Accountancy)', 'Bachelor of Business Administration ^')\n",
      "('Bachelor of Business Administration (Accountancy) ^', 'Bachelor of Business Administration ^')\n"
     ]
    }
   ],
   "source": [
    "duplicates = find_similar_duplicates(nus_business)\n",
    "if duplicates:\n",
    "    print(\"Similar duplicates found:\")\n",
    "    for duplicate in duplicates:\n",
    "        print(duplicate)\n",
    "else:\n",
    "    print(\"No similar duplicates found.\")"
   ]
  },
  {
   "cell_type": "markdown",
   "metadata": {},
   "source": [
    "Checking for School of Computing"
   ]
  },
  {
   "cell_type": "code",
   "execution_count": 44,
   "metadata": {},
   "outputs": [
    {
     "name": "stdout",
     "output_type": "stream",
     "text": [
      "<StringArray>\n",
      "['Bachelor of Computing (Communications and Media)',\n",
      "         'Bachelor of Computing (Computer Science)',\n",
      "      'Bachelor of Computing (Electronic Commerce)',\n",
      "      'Bachelor of Computing (Information Systems)',\n",
      "         'Bachelor of Science (Business Analytics)',\n",
      "   'Bachelor of Computing (Information Security) ^']\n",
      "Length: 6, dtype: string\n",
      "6\n"
     ]
    }
   ],
   "source": [
    "nus_computing = df[df['school'] == 'School of Computing']['degree'].unique()\n",
    "print(nus_computing)\n",
    "print(len(nus_computing))"
   ]
  },
  {
   "cell_type": "markdown",
   "metadata": {},
   "source": [
    "Dropping the degrees with sample size smaller than 30 (refered the documentation provided by the data provider)"
   ]
  },
  {
   "cell_type": "code",
   "execution_count": 45,
   "metadata": {},
   "outputs": [],
   "source": [
    "df = df[~df['degree'].isin(['Bachelor of Computing (Information Security) ^'])]"
   ]
  },
  {
   "cell_type": "code",
   "execution_count": 46,
   "metadata": {},
   "outputs": [
    {
     "name": "stdout",
     "output_type": "stream",
     "text": [
      "No similar duplicates found.\n"
     ]
    }
   ],
   "source": [
    "duplicates = find_similar_duplicates(nus_computing)\n",
    "if duplicates:\n",
    "    print(\"Similar duplicates found:\")\n",
    "    for duplicate in duplicates:\n",
    "        print(duplicate)\n",
    "else:\n",
    "    print(\"No similar duplicates found.\")"
   ]
  },
  {
   "cell_type": "markdown",
   "metadata": {},
   "source": [
    "Checking for Faculty of Dentistry"
   ]
  },
  {
   "cell_type": "code",
   "execution_count": 47,
   "metadata": {},
   "outputs": [
    {
     "name": "stdout",
     "output_type": "stream",
     "text": [
      "<StringArray>\n",
      "['Bachelor of Dental Surgery']\n",
      "Length: 1, dtype: string\n",
      "1\n"
     ]
    }
   ],
   "source": [
    "nus_denistry = df[df['school'] == 'Faculty of Dentistry']['degree'].unique()\n",
    "print(nus_denistry)\n",
    "print(len(nus_denistry))"
   ]
  },
  {
   "cell_type": "code",
   "execution_count": 48,
   "metadata": {},
   "outputs": [
    {
     "name": "stdout",
     "output_type": "stream",
     "text": [
      "No similar duplicates found.\n"
     ]
    }
   ],
   "source": [
    "duplicates = find_similar_duplicates(nus_denistry)\n",
    "if duplicates:\n",
    "    print(\"Similar duplicates found:\")\n",
    "    for duplicate in duplicates:\n",
    "        print(duplicate)\n",
    "else:\n",
    "    print(\"No similar duplicates found.\")"
   ]
  },
  {
   "cell_type": "markdown",
   "metadata": {},
   "source": [
    "Checking for School of Design & Environment"
   ]
  },
  {
   "cell_type": "code",
   "execution_count": 49,
   "metadata": {},
   "outputs": [
    {
     "name": "stdout",
     "output_type": "stream",
     "text": [
      "<StringArray>\n",
      "[                   'Bachelor of Arts (Industrial Design)',\n",
      " 'Bachelor of Science (Project and Facilities Management)',\n",
      "                       'Bachelor of Science (Real Estate)',\n",
      "                       'Bachelor of Arts (Architecture) #',\n",
      "                  'Bachelor of Arts (Industrial Design) ^',\n",
      "                         'Bachelor of Arts (Architecture)']\n",
      "Length: 6, dtype: string\n",
      "6\n"
     ]
    }
   ],
   "source": [
    "nus_design = df[df['school'] == 'School of Design & Environment']['degree'].unique()\n",
    "print(nus_design)\n",
    "print(len(nus_design))"
   ]
  },
  {
   "cell_type": "markdown",
   "metadata": {},
   "source": [
    "Dropping the degrees with sample size smaller than 30 (refered the documentation provided by the data provider) and renaming the duplicates"
   ]
  },
  {
   "cell_type": "code",
   "execution_count": 50,
   "metadata": {},
   "outputs": [],
   "source": [
    "df = df[~df['degree'].isin(['Bachelor of Arts (Industrial Design) ^'])]\n",
    "df['degree'] = df['degree'].replace({'Bachelor of Arts (Architecture) #': 'Bachelor of Arts (Architecture)'})"
   ]
  },
  {
   "cell_type": "code",
   "execution_count": 51,
   "metadata": {},
   "outputs": [
    {
     "name": "stdout",
     "output_type": "stream",
     "text": [
      "Similar duplicates found:\n",
      "('Bachelor of Arts (Industrial Design)', 'Bachelor of Arts (Industrial Design) ^')\n",
      "('Bachelor of Arts (Architecture) #', 'Bachelor of Arts (Architecture)')\n"
     ]
    }
   ],
   "source": [
    "duplicates = find_similar_duplicates(nus_design)\n",
    "if duplicates:\n",
    "    print(\"Similar duplicates found:\")\n",
    "    for duplicate in duplicates:\n",
    "        print(duplicate)\n",
    "else:\n",
    "    print(\"No similar duplicates found.\")"
   ]
  },
  {
   "cell_type": "markdown",
   "metadata": {},
   "source": [
    "Checking for Faculty of Engineering"
   ]
  },
  {
   "cell_type": "code",
   "execution_count": 52,
   "metadata": {},
   "outputs": [
    {
     "name": "stdout",
     "output_type": "stream",
     "text": [
      "<StringArray>\n",
      "[                    'Bachelor of Engineering (Bioengineering)',\n",
      "               'Bachelor of Engineering (Chemical Engineering)',\n",
      "                  'Bachelor of Engineering (Civil Engineering)',\n",
      "               'Bachelor of Engineering (Computer Engineering)',\n",
      "             'Bachelor of Engineering (Electrical Engineering)',\n",
      "                'Bachelor of Engineering (Engineering Science)',\n",
      "          'Bachelor of Engineering (Environmental Engineering)',\n",
      " 'Bachelor of Engineering (Industrial and Systems Engineering)',\n",
      "  'Bachelor of Engineering (Materials Science and Engineering)',\n",
      "             'Bachelor of Engineering (Mechanical Engineering)',\n",
      "          'Bachelor of Engineering (Biomedical Engineering) ^^',\n",
      "             'Bachelor of Engineering (Biomedical Engineering)',\n",
      "  'Bachelor of Engineering (Materials Science And Engineering)',\n",
      "              'Bachelor of Engineering (Engineering Science) ^']\n",
      "Length: 14, dtype: string\n",
      "14\n"
     ]
    }
   ],
   "source": [
    "nus_engineering = df[df['school'] == 'Faculty of Engineering']['degree'].unique()\n",
    "print(nus_engineering)\n",
    "print(len(nus_engineering))"
   ]
  },
  {
   "cell_type": "markdown",
   "metadata": {},
   "source": [
    "Dropping and renaming the degrees with sample size smaller than 30 (refered the documentation provided by the data provider)"
   ]
  },
  {
   "cell_type": "code",
   "execution_count": 53,
   "metadata": {},
   "outputs": [
    {
     "name": "stdout",
     "output_type": "stream",
     "text": [
      "Similar duplicates found:\n",
      "('Bachelor of Engineering (Engineering Science)', 'Bachelor of Engineering (Engineering Science) ^')\n",
      "('Bachelor of Engineering (Materials Science and Engineering)', 'Bachelor of Engineering (Materials Science And Engineering)')\n",
      "('Bachelor of Engineering (Biomedical Engineering) ^^', 'Bachelor of Engineering (Biomedical Engineering)')\n"
     ]
    }
   ],
   "source": [
    "duplicates = find_similar_duplicates(nus_engineering)\n",
    "if duplicates:\n",
    "    print(\"Similar duplicates found:\")\n",
    "    for duplicate in duplicates:\n",
    "        print(duplicate)\n",
    "else:\n",
    "    print(\"No similar duplicates found.\")"
   ]
  },
  {
   "cell_type": "code",
   "execution_count": 54,
   "metadata": {},
   "outputs": [],
   "source": [
    "df['degree'] = df['degree'].replace({'Bachelor of Engineering (Biomedical Engineering) ^^': 'Bachelor of Engineering (Biomedical Engineering)'})\n",
    "df['degree'] = df['degree'].replace({'Bachelor of Engineering (Engineering Science) ^': 'Bachelor of Engineering (Engineering Science)'})\n",
    "df['degree'] = df['degree'].replace({'Bachelor of Engineering (Materials Science And Engineering)': 'Bachelor of Engineering (Materials Science and Engineering)'})"
   ]
  },
  {
   "cell_type": "markdown",
   "metadata": {},
   "source": [
    "Checking for Faculty of Law"
   ]
  },
  {
   "cell_type": "code",
   "execution_count": 55,
   "metadata": {},
   "outputs": [
    {
     "name": "stdout",
     "output_type": "stream",
     "text": [
      "<StringArray>\n",
      "[  'Bachelor of Laws (LLB) (Hons) #', 'Bachelor of Laws (L.L.B) (Hons) #',\n",
      "                'Bachelor of Laws #']\n",
      "Length: 3, dtype: string\n",
      "3\n"
     ]
    }
   ],
   "source": [
    "nus_law = df[df['school'] == 'Faculty of Law']['degree'].unique()\n",
    "print(nus_law)\n",
    "print(len(nus_law))"
   ]
  },
  {
   "cell_type": "markdown",
   "metadata": {},
   "source": [
    "Dropping and renaming the degrees with sample size smaller than 30 (refered the documentation provided by the data provider)"
   ]
  },
  {
   "cell_type": "code",
   "execution_count": 56,
   "metadata": {},
   "outputs": [],
   "source": [
    "df['degree'] = df['degree'].replace({'Bachelor of Laws (LLB) (Hons) #': 'Bachelor of Laws (LLB) (Hons)'})\n",
    "df['degree'] = df['degree'].replace({'Bachelor of Laws (L.L.B) (Hons) #': 'Bachelor of Laws (LLB) (Hons)'})\n",
    "df['degree'] = df['degree'].replace({'Bachelor of Laws #': 'Bachelor of Laws'})"
   ]
  },
  {
   "cell_type": "code",
   "execution_count": 57,
   "metadata": {},
   "outputs": [
    {
     "name": "stdout",
     "output_type": "stream",
     "text": [
      "No similar duplicates found.\n"
     ]
    }
   ],
   "source": [
    "duplicates = find_similar_duplicates(nus_law)\n",
    "if duplicates:\n",
    "    print(\"Similar duplicates found:\")\n",
    "    for duplicate in duplicates:\n",
    "        print(duplicate)\n",
    "else:\n",
    "    print(\"No similar duplicates found.\")"
   ]
  },
  {
   "cell_type": "markdown",
   "metadata": {},
   "source": [
    "Checking for YLL School of Medicine"
   ]
  },
  {
   "cell_type": "code",
   "execution_count": 58,
   "metadata": {},
   "outputs": [
    {
     "name": "stdout",
     "output_type": "stream",
     "text": [
      "<StringArray>\n",
      "['Bachelor of Medicine and Bachelor of Surgery (MBBS) #',\n",
      "                         'Bachelor of Science (Nursing)',\n",
      "                  'Bachelor of Science (Nursing) (Hons)',\n",
      "        'Bachelor of Medicine and Bachelor of Surgery #',\n",
      "        'Bachelor of Medicine and Bachelor Of Surgery #',\n",
      "        'Bachelor of Medicine And Bachelor Of Surgery #']\n",
      "Length: 6, dtype: string\n",
      "6\n"
     ]
    }
   ],
   "source": [
    "nus_medicine = df[df['school'] == 'YLL School of Medicine']['degree'].unique()\n",
    "print(nus_medicine)\n",
    "print(len(nus_medicine))"
   ]
  },
  {
   "cell_type": "code",
   "execution_count": 59,
   "metadata": {},
   "outputs": [
    {
     "name": "stdout",
     "output_type": "stream",
     "text": [
      "Similar duplicates found:\n",
      "('Bachelor of Medicine and Bachelor of Surgery (MBBS) #', 'Bachelor of Medicine and Bachelor of Surgery #')\n",
      "('Bachelor of Medicine and Bachelor of Surgery (MBBS) #', 'Bachelor of Medicine and Bachelor Of Surgery #')\n",
      "('Bachelor of Medicine and Bachelor of Surgery (MBBS) #', 'Bachelor of Medicine And Bachelor Of Surgery #')\n",
      "('Bachelor of Medicine and Bachelor of Surgery #', 'Bachelor of Medicine and Bachelor Of Surgery #')\n",
      "('Bachelor of Medicine and Bachelor of Surgery #', 'Bachelor of Medicine And Bachelor Of Surgery #')\n",
      "('Bachelor of Medicine and Bachelor Of Surgery #', 'Bachelor of Medicine And Bachelor Of Surgery #')\n"
     ]
    }
   ],
   "source": [
    "duplicates = find_similar_duplicates(nus_medicine)\n",
    "if duplicates:\n",
    "    print(\"Similar duplicates found:\")\n",
    "    for duplicate in duplicates:\n",
    "        print(duplicate)\n",
    "else:\n",
    "    print(\"No similar duplicates found.\")"
   ]
  },
  {
   "cell_type": "markdown",
   "metadata": {},
   "source": [
    "Dropping and renaming the degrees with sample size smaller than 30 (refered the documentation provided by the data provider)"
   ]
  },
  {
   "cell_type": "code",
   "execution_count": 60,
   "metadata": {},
   "outputs": [],
   "source": [
    "df['degree'] = df['degree'].replace({'Bachelor of Medicine and Bachelor of Surgery (MBBS) #': 'Bachelor of Medicine and Bachelor of Surgery (MBBS)'})\n",
    "df['degree'] = df['degree'].replace({'Bachelor of Medicine and Bachelor of Surgery #': 'Bachelor of Medicine and Bachelor of Surgery (MBBS)'})\n",
    "df['degree'] = df['degree'].replace({'Bachelor of Medicine and Bachelor Of Surgery #': 'Bachelor of Medicine and Bachelor of Surgery (MBBS)'})\n",
    "df['degree'] = df['degree'].replace({'Bachelor of Medicine And Bachelor Of Surgery #': 'Bachelor of Medicine and Bachelor of Surgery (MBBS)'})"
   ]
  },
  {
   "cell_type": "markdown",
   "metadata": {},
   "source": [
    "Checking for Faculty of Science"
   ]
  },
  {
   "cell_type": "code",
   "execution_count": 61,
   "metadata": {},
   "outputs": [
    {
     "name": "stdout",
     "output_type": "stream",
     "text": [
      "<StringArray>\n",
      "[                'Bachelor of Applied Science (Hons)',\n",
      "                                'Bachelor of Science',\n",
      "                         'Bachelor of Science (Hons)',\n",
      "            'Bachelor of Science (Pharmacy) (Hons) #',\n",
      "             'Bachelor of Science (Pharmacy)(Hons) #',\n",
      "                   'Bachelor of Science (Pharmacy) #',\n",
      "                       'Bachelor of Science (Hons) ^',\n",
      "      'Bachelor of Science (Computational Biology) ^',\n",
      " 'Bachelor of Science (Data Science and Analytics) ^',\n",
      "   'Bachelor of Science (Data Science and Analytics)']\n",
      "Length: 10, dtype: string\n",
      "10\n"
     ]
    }
   ],
   "source": [
    "nus_science = df[df['school'] == 'Faculty of Science']['degree'].unique()\n",
    "print(nus_science)\n",
    "print(len(nus_science))"
   ]
  },
  {
   "cell_type": "code",
   "execution_count": 62,
   "metadata": {},
   "outputs": [
    {
     "name": "stdout",
     "output_type": "stream",
     "text": [
      "Similar duplicates found:\n",
      "('Bachelor of Science (Data Science and Analytics) ^', 'Bachelor of Science (Data Science and Analytics)')\n"
     ]
    }
   ],
   "source": [
    "duplicates = find_similar_duplicates(nus_science)\n",
    "if duplicates:\n",
    "    print(\"Similar duplicates found:\")\n",
    "    for duplicate in duplicates:\n",
    "        print(duplicate)\n",
    "else:\n",
    "    print(\"No similar duplicates found.\")"
   ]
  },
  {
   "cell_type": "markdown",
   "metadata": {},
   "source": [
    "Dropping and renaming the degrees with sample size smaller than 30 (refered the documentation provided by the data provider)\n"
   ]
  },
  {
   "cell_type": "code",
   "execution_count": 63,
   "metadata": {},
   "outputs": [],
   "source": [
    "df['degree'] = df['degree'].replace({'Bachelor of Science (Pharmacy) (Hons) #': 'Bachelor of Science (Pharmacy) (Hons)'})\n",
    "df['degree'] = df['degree'].replace({'Bachelor of Science (Pharmacy)(Hons) #': 'Bachelor of Science (Pharmacy) (Hons)'})\n",
    "df['degree'] = df['degree'].replace({'Bachelor of Science (Pharmacy) #': 'Bachelor of Science (Pharmacy)'})\n",
    "df['degree'] = df['degree'].replace({'Bachelor of Science (Pharmacy) #': 'Bachelor of Science (Pharmacy)'})\n",
    "\n",
    "df = df[~df['degree'].isin(['Bachelor of Science (Hons) ^'])]\n",
    "df = df[~df['degree'].isin(['Bachelor of Science (Computational Biology) ^'])]\n",
    "df = df[~df['degree'].isin(['Bachelor of Science (Data Science and Analytics) ^'])]"
   ]
  },
  {
   "cell_type": "markdown",
   "metadata": {},
   "source": [
    "Checking for YST Conservatory of Music"
   ]
  },
  {
   "cell_type": "code",
   "execution_count": 64,
   "metadata": {},
   "outputs": [
    {
     "name": "stdout",
     "output_type": "stream",
     "text": [
      "<StringArray>\n",
      "['Bachelor of Music', 'Bachelor of Music ^']\n",
      "Length: 2, dtype: string\n",
      "2\n"
     ]
    }
   ],
   "source": [
    "nus_music = df[df['school'] == 'YST Conservatory of Music']['degree'].unique()\n",
    "print(nus_music)\n",
    "print(len(nus_music))"
   ]
  },
  {
   "cell_type": "markdown",
   "metadata": {},
   "source": [
    "Dropping and renaming the degrees with sample size smaller than 30 (refered the documentation provided by the data provider)\n"
   ]
  },
  {
   "cell_type": "code",
   "execution_count": 65,
   "metadata": {},
   "outputs": [],
   "source": [
    "df = df[~df['degree'].isin(['Bachelor of Music ^'])]"
   ]
  },
  {
   "cell_type": "markdown",
   "metadata": {},
   "source": [
    "Checking for Multidisciplinary Programmes"
   ]
  },
  {
   "cell_type": "code",
   "execution_count": 66,
   "metadata": {},
   "outputs": [
    {
     "name": "stdout",
     "output_type": "stream",
     "text": [
      "<StringArray>\n",
      "['Bachelor of Environmental Studies', 'Bachelor of Engineering (Computer Engineering)']\n",
      "Length: 2, dtype: string\n",
      "2\n"
     ]
    }
   ],
   "source": [
    "nus_multi = df[df['school'] == 'Multidisciplinary Programmes']['degree'].unique()\n",
    "print(nus_multi)\n",
    "print(len(nus_multi))"
   ]
  },
  {
   "cell_type": "markdown",
   "metadata": {},
   "source": [
    "Checking for Yale-NUS College"
   ]
  },
  {
   "cell_type": "code",
   "execution_count": 67,
   "metadata": {},
   "outputs": [
    {
     "name": "stdout",
     "output_type": "stream",
     "text": [
      "<StringArray>\n",
      "[     'Bachelor of Arts with Honours',   'Bachelor of Science with Honours',\n",
      " 'Bachelor of Science with Honours ^']\n",
      "Length: 3, dtype: string\n",
      "3\n"
     ]
    }
   ],
   "source": [
    "nus_yale = df[df['school'] == 'Yale-NUS College']['degree'].unique()\n",
    "print(nus_yale)\n",
    "print(len(nus_yale))"
   ]
  },
  {
   "cell_type": "markdown",
   "metadata": {},
   "source": [
    "Dropping and renaming the degrees with sample size smaller than 30 (refered the documentation provided by the data provider)"
   ]
  },
  {
   "cell_type": "code",
   "execution_count": 68,
   "metadata": {},
   "outputs": [],
   "source": [
    "df = df[~df['degree'].isin(['Bachelor of Science with Honours ^'])]"
   ]
  },
  {
   "cell_type": "markdown",
   "metadata": {},
   "source": [
    "## 3. Singapore Management University"
   ]
  },
  {
   "cell_type": "code",
   "execution_count": 69,
   "metadata": {},
   "outputs": [
    {
     "name": "stdout",
     "output_type": "stream",
     "text": [
      "<StringArray>\n",
      "[        'School of Accountancy (4-years programme) *',\n",
      "            'School of Business (4-years programme) *',\n",
      "           'School of Economics (4-years programme) *',\n",
      " 'School of Information Systems (4-years programme) *',\n",
      "     'School of Social Sciences (4-years programme) *',\n",
      "                 'School of Law (4-years programme) *',\n",
      "          'School of Accountancy (4-year programme) *',\n",
      "             'School of Business (4-year programme) *',\n",
      "            'School of Economics (4-year programme) *',\n",
      "  'School of Information Systems (4-year programme) *',\n",
      "      'School of Social Sciences (4-year programme) *',\n",
      "                  'School of Law (4-year programme) *']\n",
      "Length: 12, dtype: string\n",
      "12\n"
     ]
    }
   ],
   "source": [
    "smu_schools = df[df['university'] == 'Singapore Management University']['school'].unique()\n",
    "print(smu_schools)\n",
    "print(len(smu_schools))"
   ]
  },
  {
   "cell_type": "code",
   "execution_count": 70,
   "metadata": {},
   "outputs": [
    {
     "name": "stdout",
     "output_type": "stream",
     "text": [
      "No similar duplicates found.\n"
     ]
    }
   ],
   "source": [
    "duplicates = find_similar_duplicates(smu_schools)\n",
    "if duplicates:\n",
    "    print(\"Similar duplicates found:\")\n",
    "    for duplicate in duplicates:\n",
    "        print(duplicate)\n",
    "else:\n",
    "    print(\"No similar duplicates found.\")"
   ]
  },
  {
   "cell_type": "markdown",
   "metadata": {},
   "source": [
    "From the printed we can notice that half the listed values of school are duplicates so we will be renaming the schools to reduce the redundancy"
   ]
  },
  {
   "cell_type": "code",
   "execution_count": 71,
   "metadata": {},
   "outputs": [],
   "source": [
    "df['school'] = df['school'].replace({'School of Accountancy (4-years programme) *': 'School of Accountancy (4-year programme)'})\n",
    "df['school'] = df['school'].replace({'School of Business (4-years programme) *': 'School of Business (4-year programme)'})\n",
    "df['school'] = df['school'].replace({'School of Economics (4-years programme) *': 'School of Economics (4-year programme)'})\n",
    "df['school'] = df['school'].replace({'School of Information Systems (4-years programme) *': 'School of Information Systems (4-year programme)'})\n",
    "df['school'] = df['school'].replace({'School of Social Sciences (4-years programme) *': 'School of Social Sciences (4-year programme)'})\n",
    "df['school'] = df['school'].replace({'School of Law (4-years programme) *': 'School of Law (4-year programme)'})\n",
    "\n",
    "df['school'] = df['school'].replace({'School of Accountancy (4-year programme) *': 'School of Accountancy (4-year programme)'})\n",
    "df['school'] = df['school'].replace({'School of Business (4-year programme) *': 'School of Business (4-year programme)'})\n",
    "df['school'] = df['school'].replace({'School of Economics (4-year programme) *': 'School of Economics (4-year programme)'})\n",
    "df['school'] = df['school'].replace({'School of Information Systems (4-year programme) *': 'School of Business (4-year programme)'})\n",
    "df['school'] = df['school'].replace({'School of Social Sciences (4-year programme) *': 'School of Social Sciences (4-year programme)'})\n",
    "df['school'] = df['school'].replace({'School of Law (4-year programme) *': 'School of Law (4-year programme)'})"
   ]
  },
  {
   "cell_type": "markdown",
   "metadata": {},
   "source": [
    "Checking for School of Accountancy (4-year programme)"
   ]
  },
  {
   "cell_type": "code",
   "execution_count": 72,
   "metadata": {},
   "outputs": [
    {
     "name": "stdout",
     "output_type": "stream",
     "text": [
      "<StringArray>\n",
      "[                    'Accountancy (4-years programme)',\n",
      " 'Accountancy (4-years programme) Cum Laude and above',\n",
      "                      'Accountancy (4-year programme)',\n",
      "  'Accountancy (4-year programme) Cum Laude and above',\n",
      "                                         'Accountancy',\n",
      "                     'Accountancy Cum Laude and above',\n",
      "                   'Accountancy (Cum Laude and above)']\n",
      "Length: 7, dtype: string\n",
      "7\n"
     ]
    }
   ],
   "source": [
    "smu_accountancy = df[df['school'] == 'School of Accountancy (4-year programme)']['degree'].unique()\n",
    "print(smu_accountancy)\n",
    "print(len(smu_accountancy))"
   ]
  },
  {
   "cell_type": "code",
   "execution_count": 73,
   "metadata": {},
   "outputs": [
    {
     "name": "stdout",
     "output_type": "stream",
     "text": [
      "No similar duplicates found.\n"
     ]
    }
   ],
   "source": [
    "duplicates = find_similar_duplicates(smu_accountancy)\n",
    "if duplicates:\n",
    "    print(\"Similar duplicates found:\")\n",
    "    for duplicate in duplicates:\n",
    "        print(duplicate)\n",
    "else:\n",
    "    print(\"No similar duplicates found.\")"
   ]
  },
  {
   "cell_type": "code",
   "execution_count": 74,
   "metadata": {},
   "outputs": [],
   "source": [
    "df['degree'] = df['degree'].replace({'Accountancy (4-year programme) Cum Laude and above': 'Accountancy (4-years programme) (Hons)'})\n",
    "df['degree'] = df['degree'].replace({'Accountancy (4-years programme) Cum Laude and above': 'Accountancy (4-years programme) (Hons)'})\n",
    "df['degree'] = df['degree'].replace({'Accountancy (4-year programme)': 'Accountancy (4-years programme)'})\n",
    "df['degree'] = df['degree'].replace({'Accountancy Cum Laude and above': 'Accountancy (Hons)'})\n",
    "df['degree'] = df['degree'].replace({'Accountancy (Cum Laude and above)': 'Accountancy (Hons)'})"
   ]
  },
  {
   "cell_type": "markdown",
   "metadata": {},
   "source": [
    "Checking for School of Business (4-year programme)"
   ]
  },
  {
   "cell_type": "code",
   "execution_count": 75,
   "metadata": {},
   "outputs": [
    {
     "name": "stdout",
     "output_type": "stream",
     "text": [
      "<StringArray>\n",
      "[                              'Business Management (4-years programme)',\n",
      "           'Business Management (4-years programme) Cum Laude and above',\n",
      "                                'Business Management (4-year programme)',\n",
      "            'Business Management (4-year programme) Cum Laude and above',\n",
      "                     'Information Systems Management (4-year programme)',\n",
      " 'Information Systems Management (4-year programme) Cum Laude and above',\n",
      "                                                   'Business Management',\n",
      "                               'Business Management Cum Laude and above',\n",
      "                                        'Information Systems Management',\n",
      "                    'Information Systems Management Cum Laude and above',\n",
      "                             'Business Management (Cum Laude and above)',\n",
      "                                                   'Information Systems',\n",
      "                             'Information Systems (Cum Laude and above)']\n",
      "Length: 13, dtype: string\n",
      "13\n"
     ]
    }
   ],
   "source": [
    "smu_business = df[df['school'] == 'School of Business (4-year programme)']['degree'].unique()\n",
    "print(smu_business)\n",
    "print(len(smu_business))"
   ]
  },
  {
   "cell_type": "code",
   "execution_count": 76,
   "metadata": {},
   "outputs": [
    {
     "name": "stdout",
     "output_type": "stream",
     "text": [
      "Similar duplicates found:\n",
      "('Information Systems Management (4-year programme)', 'Information Systems Management (4-year programme) Cum Laude and above')\n"
     ]
    }
   ],
   "source": [
    "duplicates = find_similar_duplicates(smu_business)\n",
    "if duplicates:\n",
    "    print(\"Similar duplicates found:\")\n",
    "    for duplicate in duplicates:\n",
    "        print(duplicate)\n",
    "else:\n",
    "    print(\"No similar duplicates found.\")"
   ]
  },
  {
   "cell_type": "code",
   "execution_count": 77,
   "metadata": {},
   "outputs": [],
   "source": [
    "df['degree'] = df['degree'].replace({'Business Management (4-year programme) Cum Laude and above': 'Business Management (4-years programme) Cum Laude and above'})\n",
    "df['degree'] = df['degree'].replace({'Business Management (4-years programme) Cum Laude and above': 'Business Management (4-years programme) (Hons)'})\n",
    "df['degree'] = df['degree'].replace({'Business Management (4-year programme)': 'Business Management (4-years programme)'})\n",
    "df['degree'] = df['degree'].replace({'Information Systems Management (4-year programme) Cum Laude and above': 'Information Systems Management (4-year programme) (Hons)'})\n",
    "df['degree'] = df['degree'].replace({'Business Management Cum Laude and above': 'Business Management (Hons)'})\n",
    "df['degree'] = df['degree'].replace({'Information Systems Management Cum Laude and above': 'Information Systems Management (Hons)'})\n",
    "df['degree'] = df['degree'].replace({'Business Management (Cum Laude and above)': 'Business Management (Hons)'})\n",
    "df['degree'] = df['degree'].replace({'Information Systems (Cum Laude and above)': 'Information Systems (Hons)'})"
   ]
  },
  {
   "cell_type": "markdown",
   "metadata": {},
   "source": [
    "Checking for School of Economics (4-year programme)"
   ]
  },
  {
   "cell_type": "code",
   "execution_count": 78,
   "metadata": {},
   "outputs": [
    {
     "name": "stdout",
     "output_type": "stream",
     "text": [
      "<StringArray>\n",
      "[                    'Economics (4-years programme)',\n",
      " 'Economics (4-years programme) Cum Laude and above',\n",
      "                      'Economics (4-year programme)',\n",
      "  'Economics (4-year programme) Cum Laude and above',\n",
      "                                         'Economics',\n",
      "                     'Economics Cum Laude and above',\n",
      "                   'Economics (Cum Laude and above)']\n",
      "Length: 7, dtype: string\n",
      "7\n"
     ]
    }
   ],
   "source": [
    "smu_economics = df[df['school'] == 'School of Economics (4-year programme)']['degree'].unique()\n",
    "print(smu_economics)\n",
    "print(len(smu_economics))"
   ]
  },
  {
   "cell_type": "code",
   "execution_count": 79,
   "metadata": {},
   "outputs": [
    {
     "name": "stdout",
     "output_type": "stream",
     "text": [
      "No similar duplicates found.\n"
     ]
    }
   ],
   "source": [
    "duplicates = find_similar_duplicates(smu_economics)\n",
    "if duplicates:\n",
    "    print(\"Similar duplicates found:\")\n",
    "    for duplicate in duplicates:\n",
    "        print(duplicate)\n",
    "else:\n",
    "    print(\"No similar duplicates found.\")"
   ]
  },
  {
   "cell_type": "code",
   "execution_count": 80,
   "metadata": {},
   "outputs": [],
   "source": [
    "df['degree'] = df['degree'].replace({'Economics (4-years programme) Cum Laude and above': 'Economics (4-years programme) (Hons)'})\n",
    "df['degree'] = df['degree'].replace({'Economics (4-year programme) Cum Laude and above': 'Economics (4-years programme) (Hons)'})\n",
    "df['degree'] = df['degree'].replace({'Economics (4-year programme)': 'Economics (4-years programme)'})\n",
    "df['degree'] = df['degree'].replace({'Economics (Cum Laude and above)': 'Economics (Hons)'})\n",
    "df['degree'] = df['degree'].replace({'Economics Cum Laude and above': 'Economics (Hons)'})\n",
    "df['degree'] = df['degree'].replace({'Economics': 'Economics (4-years programme)'})"
   ]
  },
  {
   "cell_type": "markdown",
   "metadata": {},
   "source": [
    "Checking for School of Information Systems (4-year programme)"
   ]
  },
  {
   "cell_type": "code",
   "execution_count": 81,
   "metadata": {},
   "outputs": [
    {
     "name": "stdout",
     "output_type": "stream",
     "text": [
      "<StringArray>\n",
      "[                    'Information Systems Management (4-years programme)',\n",
      " 'Information Systems Management (4-years programme) Cum Laude and above',\n",
      "                                         'Information Systems Management',\n",
      "                                  'Information Systems Management (Hons)']\n",
      "Length: 4, dtype: string\n",
      "4\n"
     ]
    }
   ],
   "source": [
    "smu_infosystem = df[df['school'] == 'School of Information Systems (4-year programme)']['degree'].unique()\n",
    "print(smu_infosystem)\n",
    "print(len(smu_infosystem))"
   ]
  },
  {
   "cell_type": "code",
   "execution_count": 82,
   "metadata": {},
   "outputs": [
    {
     "name": "stdout",
     "output_type": "stream",
     "text": [
      "Similar duplicates found:\n",
      "('Information Systems Management (4-years programme)', 'Information Systems Management (4-years programme) Cum Laude and above')\n"
     ]
    }
   ],
   "source": [
    "duplicates = find_similar_duplicates(smu_infosystem)\n",
    "if duplicates:\n",
    "    print(\"Similar duplicates found:\")\n",
    "    for duplicate in duplicates:\n",
    "        print(duplicate)\n",
    "else:\n",
    "    print(\"No similar duplicates found.\")"
   ]
  },
  {
   "cell_type": "code",
   "execution_count": 83,
   "metadata": {},
   "outputs": [],
   "source": [
    "df['degree'] = df['degree'].replace({'Information Systems Management (4-years programme) Cum Laude and above' : 'Information Systems Management (4-years programme) (Hons)'})"
   ]
  },
  {
   "cell_type": "markdown",
   "metadata": {},
   "source": [
    "Checking for School of Social Sciences (4-year programme)"
   ]
  },
  {
   "cell_type": "code",
   "execution_count": 84,
   "metadata": {},
   "outputs": [
    {
     "name": "stdout",
     "output_type": "stream",
     "text": [
      "<StringArray>\n",
      "[                    'Social Sciences (4-years programme)',\n",
      " 'Social Sciences (4-years programme) Cum Laude and above',\n",
      "                      'Social Sciences (4-year programme)',\n",
      "  'Social Sciences (4-year programme) Cum Laude and above',\n",
      "                                         'Social Sciences',\n",
      "                     'Social Sciences Cum Laude and above',\n",
      "                   'Social Sciences (Cum Laude and above)']\n",
      "Length: 7, dtype: string\n",
      "7\n"
     ]
    }
   ],
   "source": [
    "smu_social = df[df['school'] == 'School of Social Sciences (4-year programme)']['degree'].unique()\n",
    "print(smu_social)\n",
    "print(len(smu_social))"
   ]
  },
  {
   "cell_type": "code",
   "execution_count": 85,
   "metadata": {},
   "outputs": [
    {
     "name": "stdout",
     "output_type": "stream",
     "text": [
      "No similar duplicates found.\n"
     ]
    }
   ],
   "source": [
    "duplicates = find_similar_duplicates(smu_social)\n",
    "if duplicates:\n",
    "    print(\"Similar duplicates found:\")\n",
    "    for duplicate in duplicates:\n",
    "        print(duplicate)\n",
    "else:\n",
    "    print(\"No similar duplicates found.\")"
   ]
  },
  {
   "cell_type": "code",
   "execution_count": 86,
   "metadata": {},
   "outputs": [],
   "source": [
    "df['degree'] = df['degree'].replace({'Social Sciences (4-years programme) Cum Laude and above' : 'Social Sciences (4-years programme) (Hons)'})\n",
    "df['degree'] = df['degree'].replace({'Social Sciences (4-year programme) Cum Laude and above' : 'Social Sciences (4-years programme) (Hons)'})\n",
    "df['degree'] = df['degree'].replace({'Social Sciences (4-year programme)' : 'Social Sciences (4-years programme)'})\n",
    "df['degree'] = df['degree'].replace({'Social Sciences (Cum Laude and above)' : 'Social Sciences (Hons)'})\n",
    "df['degree'] = df['degree'].replace({'Social Sciences Cum Laude and above' : 'Social Sciences (Hons)'})"
   ]
  },
  {
   "cell_type": "markdown",
   "metadata": {},
   "source": [
    "Checking for School of Law (4-year programme)"
   ]
  },
  {
   "cell_type": "code",
   "execution_count": 87,
   "metadata": {},
   "outputs": [
    {
     "name": "stdout",
     "output_type": "stream",
     "text": [
      "<StringArray>\n",
      "[       'Social Sciences (4-years programme)',\n",
      " 'Social Sciences (4-years programme) (Hons)',\n",
      "                            'Social Sciences',\n",
      "                     'Social Sciences (Hons)']\n",
      "Length: 4, dtype: string\n",
      "4\n"
     ]
    }
   ],
   "source": [
    "smu_law = df[df['school'] == 'School of Social Sciences (4-year programme)']['degree'].unique()\n",
    "print(smu_law)\n",
    "print(len(smu_law))"
   ]
  },
  {
   "cell_type": "markdown",
   "metadata": {},
   "source": [
    "## 4. Singapore Institute of Technology"
   ]
  },
  {
   "cell_type": "code",
   "execution_count": 88,
   "metadata": {},
   "outputs": [
    {
     "name": "stdout",
     "output_type": "stream",
     "text": [
      "<StringArray>\n",
      "[                                                   'DigiPen Institute of Technology',\n",
      "                                                          'The Glasgow School of Art',\n",
      "                                                               'Newcastle University',\n",
      "                                                     'Technische Universit�t M�nchen',\n",
      "                                                  'The Culinary Institute of America',\n",
      "                                                             'Trinity College Dublin',\n",
      "                                                              'University of Glasgow',\n",
      "                                                           'University of Manchester',\n",
      "                                                    'University of Nevada, Las Vegas',\n",
      "                                                                   'Wheelock College',\n",
      "                          'Singapore Institute of Technology -Trinity College Dublin',\n",
      "  'Trinity College Dublin / Singapore Institute of Technology-Trinity College Dublin',\n",
      "                                                            'University of Liverpool',\n",
      " 'Singapore Institute of Technology -Trinity College Dublin / Trinity College Dublin',\n",
      "                                                  'Singapore Institute of Technology',\n",
      "                                            'Singapore Institute of Technology (SIT)',\n",
      "                                                          'SIT-University of Glasgow',\n",
      "                                'SIT-Trinity College Dublin / Trinity College Dublin',\n",
      "                                                'SIT-DigiPen Institute of Technology',\n",
      "                                                              'SIT-Massey University',\n",
      "                                                           'SIT-Newcastle University',\n",
      "                                               'SIT- DigiPen Institute of Technology',\n",
      "                                                             'SIT- Massey University',\n",
      "                                                          'SIT- Newcastle University',\n",
      "                          'SIT / SIT-Trinity College Dublin / Trinity College Dublin',\n",
      "                                                         'SIT-Trinity College Dublin']\n",
      "Length: 26, dtype: string\n",
      "26\n"
     ]
    }
   ],
   "source": [
    "sit_schools = df[df['university'] == 'Singapore Institute of Technology']['school'].unique()\n",
    "print(sit_schools)\n",
    "print(len(sit_schools))"
   ]
  },
  {
   "cell_type": "code",
   "execution_count": 89,
   "metadata": {},
   "outputs": [],
   "source": [
    "df['school'] = df['school'].replace({'Singapore Institute of Technology -Trinity College Dublin': 'Trinity College Dublin'})\n",
    "df['school'] = df['school'].replace({'Trinity College Dublin / Singapore Institute of Technology-Trinity College Dublin': 'Trinity College Dublin'})\n",
    "df['school'] = df['school'].replace({'Singapore Institute of Technology -Trinity College Dublin / Trinity College Dublin': 'Trinity College Dublin'})\n",
    "df['school'] = df['school'].replace({'SIT-Trinity College Dublin / Trinity College Dublin': 'Trinity College Dublin'})\n",
    "df['school'] = df['school'].replace({'SIT / SIT-Trinity College Dublin / Trinity College Dublin': 'Trinity College Dublin'})\n",
    "df['school'] = df['school'].replace({'SIT-Trinity College Dublin': 'Trinity College Dublin'})\n",
    "df['school'] = df['school'].replace({'Singapore Institute of Technology (SIT)': 'Singapore Institute of Technology'})\n",
    "df['school'] = df['school'].replace({'SIT- Massey University': 'SIT-Massey University'})\n",
    "df['school'] = df['school'].replace({'SIT- DigiPen Institute of Technology': 'SIT-DigiPen Institute of Technology'})\n",
    "df['school'] = df['school'].replace({'SIT- Newcastle University': 'SIT-Newcastle University'})\n",
    "df['school'] = df['school'].replace({'DigiPen Institute of Technology': 'SIT-DigiPen Institute of Technology'})\n",
    "df['school'] = df['school'].replace({'Technische Universit�t M�nchen': 'Technische University Munich'})\n",
    "df['school'] = df['school'].replace({'University of Glasgow': 'SIT-University of Glasgow'})\n",
    "df['school'] = df['school'].replace({'Newcastle University': 'SIT-Newcastle University'})"
   ]
  },
  {
   "cell_type": "markdown",
   "metadata": {},
   "source": [
    "Checking for SIT-DigiPen Institute of Technology"
   ]
  },
  {
   "cell_type": "code",
   "execution_count": 90,
   "metadata": {},
   "outputs": [
    {
     "name": "stdout",
     "output_type": "stream",
     "text": [
      "<StringArray>\n",
      "[                                                        'Bachelor of Arts in Game Design',\n",
      "                                       'Bachelor of Fine Arts in Digital Arts & Animation',\n",
      "                                   'Bachelor of Science in Computer Science & Game Design',\n",
      "             'Bachelor of Science in Computer Science in Real-Time Interactive Simulation',\n",
      "                                                       'Bachelor of Arts in Game Design ^',\n",
      "                                     'Bachelor of Fine Arts in Digital Arts & Animation ^',\n",
      "                                 'Bachelor of Science in Computer Science & Game Design ^',\n",
      "                                      'Bachelor of Fine Arts in Digital Art and Animation',\n",
      "                               'Bachelor of Science in Computer Science and Game Design ^',\n",
      "            'Bachelor of Engineering in Systems Engineering (ElectroMechanical Systems) ^',\n",
      "                                 'Bachelor of Science in Computer Science and Game Design',\n",
      " 'Bachelor of Engineering with Honours in Systems Engineering (ElectroMechanical Systems)']\n",
      "Length: 12, dtype: string\n",
      "12\n"
     ]
    }
   ],
   "source": [
    "sit_digipen = df[df['school'] == 'SIT-DigiPen Institute of Technology']['degree'].unique()\n",
    "print(sit_digipen)\n",
    "print(len(sit_digipen))"
   ]
  },
  {
   "cell_type": "code",
   "execution_count": 91,
   "metadata": {},
   "outputs": [
    {
     "name": "stdout",
     "output_type": "stream",
     "text": [
      "Similar duplicates found:\n",
      "('Bachelor of Arts in Game Design', 'Bachelor of Arts in Game Design ^')\n",
      "('Bachelor of Fine Arts in Digital Arts & Animation', 'Bachelor of Fine Arts in Digital Arts & Animation ^')\n",
      "('Bachelor of Science in Computer Science & Game Design', 'Bachelor of Science in Computer Science & Game Design ^')\n",
      "('Bachelor of Science in Computer Science and Game Design ^', 'Bachelor of Science in Computer Science and Game Design')\n"
     ]
    }
   ],
   "source": [
    "duplicates = find_similar_duplicates(sit_digipen)\n",
    "if duplicates:\n",
    "    print(\"Similar duplicates found:\")\n",
    "    for duplicate in duplicates:\n",
    "        print(duplicate)\n",
    "else:\n",
    "    print(\"No similar duplicates found.\")"
   ]
  },
  {
   "cell_type": "markdown",
   "metadata": {},
   "source": [
    "Dropped all the values according to documentation as it stated that values with '^' are of less reliance due to small sample size"
   ]
  },
  {
   "cell_type": "code",
   "execution_count": 92,
   "metadata": {},
   "outputs": [],
   "source": [
    "to_delete = ['Bachelor of Science in Computer Science & Game Design ^', 'Bachelor of Arts in Game Design ^', 'Bachelor of Fine Arts in Digital Arts & Animation ^', 'Bachelor of Science in Computer Science and Game Design ^', 'Bachelor of Engineering in Systems Engineering (ElectroMechanical Systems) ^', 'Bachelor of Science in Computer Science and Game Design',]\n",
    "\n",
    "for delete in to_delete:\n",
    "    df = df[~df['degree'].isin([delete])] "
   ]
  },
  {
   "cell_type": "markdown",
   "metadata": {},
   "source": [
    "Renamed the redundant and duplicate values in the dataset"
   ]
  },
  {
   "cell_type": "code",
   "execution_count": 93,
   "metadata": {},
   "outputs": [],
   "source": [
    "df['degree'] = df['degree'].replace({'Bachelor of Fine Arts in Digital Arts & Animation' : 'Bachelor of Fine Arts in Digital Arts and Animation'})\n",
    "df['degree'] = df['degree'].replace({'Bachelor of Fine Arts in Digital Art and Animation' : 'Bachelor of Fine Arts in Digital Arts and Animation'})\n",
    "df['degree'] = df['degree'].replace({'Bachelor of Science in Computer Science & Game Design' : 'Bachelor of Science in Computer Science and Game Design'})"
   ]
  },
  {
   "cell_type": "markdown",
   "metadata": {},
   "source": [
    "Checking for The Glasgow School of Art"
   ]
  },
  {
   "cell_type": "code",
   "execution_count": 94,
   "metadata": {},
   "outputs": [
    {
     "name": "stdout",
     "output_type": "stream",
     "text": [
      "<StringArray>\n",
      "['Bachelor of Arts with Honours in Communication Design', 'Bachelor of Arts with Honours in Interior Design']\n",
      "Length: 2, dtype: string\n",
      "2\n"
     ]
    }
   ],
   "source": [
    "sit_glasgow = df[df['school'] == 'The Glasgow School of Art']['degree'].unique()\n",
    "print(sit_glasgow)\n",
    "print(len(sit_glasgow))"
   ]
  },
  {
   "cell_type": "markdown",
   "metadata": {},
   "source": [
    "Checking for SIT-Newcastle University"
   ]
  },
  {
   "cell_type": "code",
   "execution_count": 95,
   "metadata": {},
   "outputs": [
    {
     "name": "stdout",
     "output_type": "stream",
     "text": [
      "<StringArray>\n",
      "[                             'Bachelor of Engineering with Honours in Chemical Engineering',\n",
      "                                'Bachelor of Engineering with Honours in Marine Engineering',\n",
      "     'Bachelor of Engineering with Honours in Mechanical Design & Manufacturing Engineering',\n",
      "                                'Bachelor of Engineering with Honours in Naval Architecture',\n",
      "                              'Bachelor of Engineering with Honours in Offshore Engineering',\n",
      "                                'Bachelor of Science with Honours in Food & Human Nutrition',\n",
      "                      'Bachelor of Engineering with Honours in Electrical Power Engineering',\n",
      "                              'Bachelor of Engineering with Honours in Marine Engineering ^',\n",
      "                              'Bachelor of Engineering with Honours in Naval Architecture ^',\n",
      "                            'Bachelor of Engineering with Honours in Offshore Engineering ^',\n",
      "   'Bachelor of Engineering with Honours in Mechanical Design and Manufacturing Engineering',\n",
      "                              'Bachelor of Science with Honours in Food and Human Nutrition',\n",
      "                    'Bachelor of Engineering with Honours in Electrical Power Engineering ^',\n",
      " 'Bachelor of Engineering with Honours in Mechanical Design and Manufacturing Engineering ^']\n",
      "Length: 14, dtype: string\n",
      "14\n"
     ]
    }
   ],
   "source": [
    "sit_newcastle = df[df['school'] == 'SIT-Newcastle University']['degree'].unique()\n",
    "print(sit_newcastle)\n",
    "print(len(sit_newcastle))"
   ]
  },
  {
   "cell_type": "code",
   "execution_count": 96,
   "metadata": {},
   "outputs": [],
   "source": [
    "to_delete = ['Bachelor of Engineering with Honours in Marine Engineering ^', 'Bachelor of Engineering with Honours in Naval Architecture ^', 'Bachelor of Engineering with Honours in Offshore Engineering ^', 'Bachelor of Engineering with Honours in Electrical Power Engineering ^', 'Bachelor of Engineering with Honours in Mechanical Design and Manufacturing Engineering ^']\n",
    "\n",
    "for delete in to_delete:\n",
    "    df = df[~df['degree'].isin([delete])] "
   ]
  },
  {
   "cell_type": "code",
   "execution_count": 97,
   "metadata": {},
   "outputs": [
    {
     "name": "stdout",
     "output_type": "stream",
     "text": [
      "Similar duplicates found:\n",
      "('Bachelor of Engineering with Honours in Marine Engineering', 'Bachelor of Engineering with Honours in Marine Engineering ^')\n",
      "('Bachelor of Engineering with Honours in Naval Architecture', 'Bachelor of Engineering with Honours in Naval Architecture ^')\n",
      "('Bachelor of Engineering with Honours in Offshore Engineering', 'Bachelor of Engineering with Honours in Offshore Engineering ^')\n",
      "('Bachelor of Engineering with Honours in Electrical Power Engineering', 'Bachelor of Engineering with Honours in Electrical Power Engineering ^')\n",
      "('Bachelor of Engineering with Honours in Mechanical Design and Manufacturing Engineering', 'Bachelor of Engineering with Honours in Mechanical Design and Manufacturing Engineering ^')\n"
     ]
    }
   ],
   "source": [
    "duplicates = find_similar_duplicates(sit_newcastle)\n",
    "if duplicates:\n",
    "    print(\"Similar duplicates found:\")\n",
    "    for duplicate in duplicates:\n",
    "        print(duplicate)\n",
    "else:\n",
    "    print(\"No similar duplicates found.\")"
   ]
  },
  {
   "cell_type": "markdown",
   "metadata": {},
   "source": [
    "Checking for Technische University Munich"
   ]
  },
  {
   "cell_type": "code",
   "execution_count": 98,
   "metadata": {},
   "outputs": [
    {
     "name": "stdout",
     "output_type": "stream",
     "text": [
      "<StringArray>\n",
      "[                             'Bachelor of Science in Chemical Engineering',\n",
      "   'Bachelor of Science in Electrical Engineering & Information Technology',\n",
      " 'Bachelor of Science in Electrical Engineering & Information Technology ^']\n",
      "Length: 3, dtype: string\n",
      "3\n"
     ]
    }
   ],
   "source": [
    "sit_technische = df[df['school'] == 'Technische University Munich']['degree'].unique()\n",
    "print(sit_technische)\n",
    "print(len(sit_technische))"
   ]
  },
  {
   "cell_type": "code",
   "execution_count": 99,
   "metadata": {},
   "outputs": [],
   "source": [
    "df = df[~df['degree'].isin(['Bachelor of Science in Electrical Engineering & Information Technology ^'])]"
   ]
  },
  {
   "cell_type": "markdown",
   "metadata": {},
   "source": [
    "Checking for The Culinary Institute of America"
   ]
  },
  {
   "cell_type": "code",
   "execution_count": 100,
   "metadata": {},
   "outputs": [
    {
     "name": "stdout",
     "output_type": "stream",
     "text": [
      "<StringArray>\n",
      "[     'Bachelor of Professional Studies in Culinary Arts Management',\n",
      "   'Bachelor of Business Administration in Food Business Management',\n",
      " 'Bachelor of Business Administration in Food Business Management ^']\n",
      "Length: 3, dtype: string\n",
      "3\n"
     ]
    }
   ],
   "source": [
    "sit_cia = df[df['school'] == 'The Culinary Institute of America']['degree'].unique()\n",
    "print(sit_cia)\n",
    "print(len(sit_cia))"
   ]
  },
  {
   "cell_type": "code",
   "execution_count": 101,
   "metadata": {},
   "outputs": [],
   "source": [
    "df = df[~df['degree'].isin(['Bachelor of Business Administration in Food Business Management ^'])]"
   ]
  },
  {
   "cell_type": "markdown",
   "metadata": {},
   "source": [
    "Checking for Trinity College Dublin"
   ]
  },
  {
   "cell_type": "code",
   "execution_count": 102,
   "metadata": {},
   "outputs": [
    {
     "name": "stdout",
     "output_type": "stream",
     "text": [
      "<StringArray>\n",
      "[    'Bachelor in Science (Occupational Therapy)',\n",
      "            'Bachelor in Science (Physiotherapy)',\n",
      "   'Bachelor in Science (Diagnostic Radiography)',\n",
      " 'Bachelor in Science (Diagnostic Radiography) ^',\n",
      "      'Bachelor in Science (Radiation Therapy) ^',\n",
      "            'Bachelor of Science (Physiotherapy)']\n",
      "Length: 6, dtype: string\n",
      "6\n"
     ]
    }
   ],
   "source": [
    "sit_trinity = df[df['school'] == 'Trinity College Dublin']['degree'].unique()\n",
    "print(sit_trinity)\n",
    "print(len(sit_trinity))"
   ]
  },
  {
   "cell_type": "code",
   "execution_count": 103,
   "metadata": {},
   "outputs": [],
   "source": [
    "df = df[~df['degree'].isin(['Bachelor in Science (Diagnostic Radiography) ^'])]\n",
    "df = df[~df['degree'].isin(['Bachelor in Science (Radiation Therapy) ^'])]\n",
    "\n",
    "df['degree'] = df['degree'].replace({'Bachelor in Science (Physiotherapy)' : 'Bachelor of Science (Physiotherapy)'})\n",
    "df['degree'] = df['degree'].replace({'Bachelor in Science (Occupational Therapy)' : 'Bachelor of Science (Occupational Therapy)'})\n",
    "df['degree'] = df['degree'].replace({'Bachelor in Science (Diagnostic Radiography)' : 'Bachelor of Science (Diagnostic Radiography)'})"
   ]
  },
  {
   "cell_type": "markdown",
   "metadata": {},
   "source": [
    "Checking for SIT-University of Glasgow"
   ]
  },
  {
   "cell_type": "code",
   "execution_count": 104,
   "metadata": {},
   "outputs": [
    {
     "name": "stdout",
     "output_type": "stream",
     "text": [
      "<StringArray>\n",
      "[     'Bachelor of Engineering with Honours in Aeronautical Engineering',\n",
      "             'Bachelor of Engineering with Honours in Aerospace Systems',\n",
      " 'Bachelor of Engineering with Honours in Mechanical Design Engineering',\n",
      "                  'Bachelor of Engineering with Honours in Mechatronics',\n",
      "                 'Bachelor of Science with Honours in Computing Science',\n",
      "                           'Bachelor of Science with Honours in Nursing',\n",
      "             'Bachelor of Engineering with Honours in Civil Engineering',\n",
      "           'Bachelor of Engineering with Honours in Aerospace Systems ^']\n",
      "Length: 8, dtype: string\n",
      "8\n"
     ]
    }
   ],
   "source": [
    "sit_glasgow_uni = df[df['school'] == 'SIT-University of Glasgow']['degree'].unique()\n",
    "print(sit_glasgow_uni)\n",
    "print(len(sit_glasgow_uni))"
   ]
  },
  {
   "cell_type": "code",
   "execution_count": 105,
   "metadata": {},
   "outputs": [
    {
     "name": "stdout",
     "output_type": "stream",
     "text": [
      "Similar duplicates found:\n",
      "('Bachelor of Engineering with Honours in Aerospace Systems', 'Bachelor of Engineering with Honours in Aerospace Systems ^')\n"
     ]
    }
   ],
   "source": [
    "duplicates = find_similar_duplicates(sit_glasgow_uni)\n",
    "if duplicates:\n",
    "    print(\"Similar duplicates found:\")\n",
    "    for duplicate in duplicates:\n",
    "        print(duplicate)\n",
    "else:\n",
    "    print(\"No similar duplicates found.\")"
   ]
  },
  {
   "cell_type": "code",
   "execution_count": 106,
   "metadata": {},
   "outputs": [],
   "source": [
    "df = df[~df['degree'].isin(['Bachelor of Engineering with Honours in Aerospace Systems ^'])]"
   ]
  },
  {
   "cell_type": "markdown",
   "metadata": {},
   "source": [
    "Checking for University of Manchester"
   ]
  },
  {
   "cell_type": "code",
   "execution_count": 107,
   "metadata": {},
   "outputs": [
    {
     "name": "stdout",
     "output_type": "stream",
     "text": [
      "<StringArray>\n",
      "['Bachelor of Science with Honours in Nursing Practice']\n",
      "Length: 1, dtype: string\n",
      "1\n"
     ]
    }
   ],
   "source": [
    "sit_manchester = df[df['school'] == 'University of Manchester']['degree'].unique()\n",
    "print(sit_manchester)\n",
    "print(len(sit_manchester))"
   ]
  },
  {
   "cell_type": "markdown",
   "metadata": {},
   "source": [
    "Checking for University of Nevada, Las Vegas"
   ]
  },
  {
   "cell_type": "code",
   "execution_count": 108,
   "metadata": {},
   "outputs": [
    {
     "name": "stdout",
     "output_type": "stream",
     "text": [
      "<StringArray>\n",
      "['Bachelor of Science (Major in Hospitality Management)']\n",
      "Length: 1, dtype: string\n",
      "1\n"
     ]
    }
   ],
   "source": [
    "sit_nevada = df[df['school'] == 'University of Nevada, Las Vegas']['degree'].unique()\n",
    "print(sit_nevada)\n",
    "print(len(sit_nevada))"
   ]
  },
  {
   "cell_type": "markdown",
   "metadata": {},
   "source": [
    "Checking for Wheelock College"
   ]
  },
  {
   "cell_type": "code",
   "execution_count": 109,
   "metadata": {},
   "outputs": [
    {
     "name": "stdout",
     "output_type": "stream",
     "text": [
      "<StringArray>\n",
      "['Bachelor of Science in Early Childhood Education']\n",
      "Length: 1, dtype: string\n",
      "1\n"
     ]
    }
   ],
   "source": [
    "sit_wheelock = df[df['school'] == 'Wheelock College']['degree'].unique()\n",
    "print(sit_wheelock)\n",
    "print(len(sit_wheelock))"
   ]
  },
  {
   "cell_type": "markdown",
   "metadata": {},
   "source": [
    "Checking for University of Liverpool"
   ]
  },
  {
   "cell_type": "code",
   "execution_count": 110,
   "metadata": {},
   "outputs": [
    {
     "name": "stdout",
     "output_type": "stream",
     "text": [
      "<StringArray>\n",
      "['Bachelor of Arts with Honours in Criminology and Security']\n",
      "Length: 1, dtype: string\n",
      "1\n"
     ]
    }
   ],
   "source": [
    "uni_liverpool = df[df['school'] == 'University of Liverpool']['degree'].unique()\n",
    "print(uni_liverpool)\n",
    "print(len(uni_liverpool))"
   ]
  },
  {
   "cell_type": "markdown",
   "metadata": {},
   "source": [
    "Checking for Singapore Institute of Technology"
   ]
  },
  {
   "cell_type": "code",
   "execution_count": 111,
   "metadata": {},
   "outputs": [
    {
     "name": "stdout",
     "output_type": "stream",
     "text": [
      "<StringArray>\n",
      "[                                                                    'Bachelor of Accountancy with Honours',\n",
      "                                                          'Bachelor of Hospitality Business with Honours ^',\n",
      " 'Bachelor of Engineering with Honours in Information & Communications Technology (Information Security) ^',\n",
      "   'Bachelor of Engineering with Honours in Information & Communications Technology (Software Engineering)',\n",
      "                    'Bachelor of Engineering with Honours in Sustainable Infrastructure Engineering (Land)',\n",
      "                                                            'Bachelor of Hospitality Business with Honours',\n",
      "   'Bachelor of Engineering with Honours in Information & Communications Technology (Information Security)',\n",
      "                                       'Bachelor of Engineering with Honours in Pharmaceutical Engineering',\n",
      "       'Bachelor of Engineering with Honours in Sustainable Infrastructure Engineering (Building Services)',\n",
      "      'Bachelor of Engineering with Honours in Telematics (Intelligent Transportation Systems Engineering)',\n",
      "                                     'Bachelor of Engineering with Honours in Aircraft Systems Engineering',\n",
      "                  'Bachelor of Engineering with Honours in Sustainable Infrastructure Engineering (Land) ^',\n",
      "                                                             'Bachelor of Science (Diagnostic Radiography)',\n",
      "                                                               'Bachelor of Science (Occupational Therapy)',\n",
      "                                                                'Bachelor of Science (Radiation Therapy) ^']\n",
      "Length: 15, dtype: string\n",
      "15\n"
     ]
    }
   ],
   "source": [
    "sit = df[df['school'] == 'Singapore Institute of Technology']['degree'].unique()\n",
    "print(sit)\n",
    "print(len(sit))"
   ]
  },
  {
   "cell_type": "code",
   "execution_count": 112,
   "metadata": {},
   "outputs": [
    {
     "name": "stdout",
     "output_type": "stream",
     "text": [
      "Similar duplicates found:\n",
      "('Bachelor of Hospitality Business with Honours ^', 'Bachelor of Hospitality Business with Honours')\n",
      "('Bachelor of Engineering with Honours in Information & Communications Technology (Information Security) ^', 'Bachelor of Engineering with Honours in Information & Communications Technology (Information Security)')\n",
      "('Bachelor of Engineering with Honours in Sustainable Infrastructure Engineering (Land)', 'Bachelor of Engineering with Honours in Sustainable Infrastructure Engineering (Land) ^')\n"
     ]
    }
   ],
   "source": [
    "duplicates = find_similar_duplicates(sit)\n",
    "if duplicates:\n",
    "    print(\"Similar duplicates found:\")\n",
    "    for duplicate in duplicates:\n",
    "        print(duplicate)\n",
    "else:\n",
    "    print(\"No similar duplicates found.\")"
   ]
  },
  {
   "cell_type": "code",
   "execution_count": 113,
   "metadata": {},
   "outputs": [],
   "source": [
    "to_delete = ['Bachelor of Hospitality Business with Honours ^', 'Bachelor of Engineering with Honours in Information & Communications Technology (Information Security) ^', 'Bachelor of Engineering with Honours in Sustainable Infrastructure Engineering (Land) ^', 'Bachelor of Science (Radiation Therapy) ^']\n",
    "\n",
    "for delete in to_delete:\n",
    "    df = df[~df['degree'].isin([delete])]"
   ]
  },
  {
   "cell_type": "markdown",
   "metadata": {},
   "source": [
    "Checking for SIT-Massey University"
   ]
  },
  {
   "cell_type": "code",
   "execution_count": 114,
   "metadata": {},
   "outputs": [
    {
     "name": "stdout",
     "output_type": "stream",
     "text": [
      "<StringArray>\n",
      "['Bachelor of Food Technology with Honours']\n",
      "Length: 1, dtype: string\n",
      "1\n"
     ]
    }
   ],
   "source": [
    "sit_massey = df[df['school'] == 'SIT-Massey University']['degree'].unique()\n",
    "print(sit_massey)\n",
    "print(len(sit_massey))"
   ]
  },
  {
   "cell_type": "markdown",
   "metadata": {},
   "source": [
    "## 5. Singapore University of Technology and Design"
   ]
  },
  {
   "cell_type": "code",
   "execution_count": 115,
   "metadata": {},
   "outputs": [
    {
     "name": "stdout",
     "output_type": "stream",
     "text": [
      "<StringArray>\n",
      "[]\n",
      "Length: 0, dtype: string\n",
      "0\n"
     ]
    }
   ],
   "source": [
    "sutd_schools = df[df['university'] == 'Singapore University of Technology and Design']['school'].unique()\n",
    "print(sutd_schools)\n",
    "print(len(sutd_schools))"
   ]
  },
  {
   "cell_type": "markdown",
   "metadata": {},
   "source": [
    "As all the data points for university of Singapore University of Technlogy and Design are null we will be dropping those"
   ]
  },
  {
   "cell_type": "code",
   "execution_count": 116,
   "metadata": {},
   "outputs": [],
   "source": [
    "df = df.dropna(subset=['university'], how='any')\n",
    "df = df.loc[df['university'] != 'Singapore University of Technology and Design']"
   ]
  },
  {
   "cell_type": "code",
   "execution_count": 117,
   "metadata": {},
   "outputs": [],
   "source": [
    "df = df[~df['university'].isin(['Singapore University of Technology and Design'])]"
   ]
  },
  {
   "cell_type": "markdown",
   "metadata": {},
   "source": [
    "## 6. Singapore University of Social Sciences"
   ]
  },
  {
   "cell_type": "code",
   "execution_count": 118,
   "metadata": {},
   "outputs": [
    {
     "name": "stdout",
     "output_type": "stream",
     "text": [
      "<StringArray>\n",
      "['School of Business', 'S R Nathan School of Human Development']\n",
      "Length: 2, dtype: string\n",
      "2\n"
     ]
    }
   ],
   "source": [
    "suss_schools = df[df['university'] == 'Singapore University of Social Sciences']['school'].unique()\n",
    "print(suss_schools)\n",
    "print(len(suss_schools))"
   ]
  },
  {
   "cell_type": "markdown",
   "metadata": {},
   "source": [
    "There seems to be no complexities with Singapore University of Social Sciences datapoints"
   ]
  },
  {
   "cell_type": "markdown",
   "metadata": {},
   "source": [
    "Checking for School of Business"
   ]
  },
  {
   "cell_type": "code",
   "execution_count": 119,
   "metadata": {},
   "outputs": [
    {
     "name": "stdout",
     "output_type": "stream",
     "text": [
      "<StringArray>\n",
      "[                         'Bachelor of Accountancy',\n",
      "                   'Bachelor of Science in Finance',\n",
      "                 'Bachelor of Science in Marketing',\n",
      "                 'Bachelor of Science in Finance ^',\n",
      " 'Bachelor of Science in Supply Chain Management ^',\n",
      "        'Bachelor of Science in Business Analytics',\n",
      "   'Bachelor of Science in Supply Chain Management']\n",
      "Length: 7, dtype: string\n",
      "7\n"
     ]
    }
   ],
   "source": [
    "suss_business = df[df['school'] == 'School of Business']['degree'].unique()\n",
    "print(suss_business)\n",
    "print(len(suss_business))"
   ]
  },
  {
   "cell_type": "code",
   "execution_count": 120,
   "metadata": {},
   "outputs": [],
   "source": [
    "df = df[~df['degree'].isin(['Bachelor of Science in Finance ^'])]\n",
    "df = df[~df['degree'].isin(['Bachelor of Science in Supply Chain Management ^'])]"
   ]
  },
  {
   "cell_type": "markdown",
   "metadata": {},
   "source": [
    "Checking for S R Nathan School of Human Development"
   ]
  },
  {
   "cell_type": "code",
   "execution_count": 121,
   "metadata": {},
   "outputs": [
    {
     "name": "stdout",
     "output_type": "stream",
     "text": [
      "<StringArray>\n",
      "[  'Bachelor of Human Resource Management',\n",
      " 'Bachelor of Early Childhood Education ^',\n",
      "                 'Bachelor of Social Work',\n",
      "   'Bachelor of Early Childhood Education']\n",
      "Length: 4, dtype: string\n",
      "4\n"
     ]
    }
   ],
   "source": [
    "suss_human_development = df[df['school'] == 'S R Nathan School of Human Development']['degree'].unique()\n",
    "print(suss_human_development)\n",
    "print(len(suss_human_development))"
   ]
  },
  {
   "cell_type": "code",
   "execution_count": 122,
   "metadata": {},
   "outputs": [],
   "source": [
    "df = df[~df['degree'].isin(['Bachelor of Early Childhood Education ^'])]"
   ]
  },
  {
   "cell_type": "code",
   "execution_count": 123,
   "metadata": {},
   "outputs": [
    {
     "data": {
      "image/png": "[encoded data removed]",
      "text/plain": [
       "<Figure size 1000x600 with 1 Axes>"
      ]
     },
     "metadata": {},
     "output_type": "display_data"
    }
   ],
   "source": [
    "fig, ax = plt.subplots(figsize=(10, 6))\n",
    "\n",
    "for university in df['university'].unique():\n",
    "    university_df = df[df['university'] == university]\n",
    "    ax.plot(university_df['year'], university_df['employment_rate_overall'], label=university)\n",
    "\n",
    "ax.set_title('Employment Rate Over Time')\n",
    "ax.set_xlabel('Year')\n",
    "ax.set_ylabel('Employment Rate')\n",
    "ax.legend()\n",
    "plt.show()"
   ]
  },
  {
   "cell_type": "code",
   "execution_count": 124,
   "metadata": {},
   "outputs": [
    {
     "data": {
      "image/png": "[encoded data removed]",
      "text/plain": [
       "<Figure size 1000x600 with 1 Axes>"
      ]
     },
     "metadata": {},
     "output_type": "display_data"
    }
   ],
   "source": [
    "x = df.groupby('university')['employment_rate_overall'].mean().sort_values(ascending=False)\n",
    "\n",
    "plt.figure(figsize=(10, 6))\n",
    "plt.bar(x.index, x)\n",
    "plt.xticks(rotation=90)\n",
    "plt.title('Average Employment Rate by University')\n",
    "plt.xlabel('University')\n",
    "plt.ylabel('Employment Rate')\n",
    "plt.show()"
   ]
  },
  {
   "cell_type": "code",
   "execution_count": 125,
   "metadata": {},
   "outputs": [],
   "source": [
    "df.to_csv('normal.csv', index=False)"
   ]
  },
  {
   "cell_type": "markdown",
   "metadata": {},
   "source": [
    "---"
   ]
  },
  {
   "cell_type": "markdown",
   "metadata": {},
   "source": [
    "# Regressor Model\n",
    "\n",
    "Here we will be trying out 3 models with and without hyperparameter tuning\n",
    "1. DecisionTreeRegressor\n",
    "2. RandomForestRegressor\n",
    "3. GradientBoostingRegressor\n",
    "4. DecisionTreeRegressor w/ RandomSearchCV\n",
    "4. DecisionTreeRegressor w/ GridSearchCV\n",
    "5. RandomForestRegressor w/ RandomSearchCV\n",
    "6. RandomForestRegressor w/ GridSearchCV\n",
    "7. GradientBoostingRegressor w/ RandomSearchCV\n",
    "7. GradientBoostingRegressor w/ GridSearchCV"
   ]
  },
  {
   "cell_type": "markdown",
   "metadata": {},
   "source": [
    "### DecisionTreeRegressor"
   ]
  },
  {
   "cell_type": "code",
   "execution_count": 126,
   "metadata": {},
   "outputs": [],
   "source": [
    "from sklearn.tree import DecisionTreeRegressor\n",
    "from sklearn.metrics import mean_squared_error, r2_score, root_mean_squared_error, mean_absolute_error\n",
    "from sklearn.model_selection import train_test_split"
   ]
  },
  {
   "cell_type": "code",
   "execution_count": 127,
   "metadata": {},
   "outputs": [],
   "source": [
    "from sklearn.preprocessing import LabelEncoder\n",
    "\n",
    "le = LabelEncoder()\n",
    "df['university'] = le.fit_transform(df['university'])\n",
    "df['school'] = le.fit_transform(df['school'])\n",
    "df['degree'] = le.fit_transform(df['degree'])"
   ]
  },
  {
   "cell_type": "code",
   "execution_count": 126,
   "metadata": {},
   "outputs": [],
   "source": [
    "df.to_csv('final.csv', index=False)"
   ]
  },
  {
   "cell_type": "code",
   "execution_count": 126,
   "metadata": {},
   "outputs": [],
   "source": [
    "X = df[['university', 'school', 'degree']]\n",
    "y = df['employment_rate_overall']\n",
    "X_train, X_test, y_train, y_test = train_test_split(X, y, test_size=0.2, random_state=42)"
   ]
  },
  {
   "cell_type": "code",
   "execution_count": 127,
   "metadata": {},
   "outputs": [],
   "source": [
    "dtr = DecisionTreeRegressor(random_state=42)\n",
    "dtr.fit(X_train, y_train)\n",
    "y_pred_dtr = dtr.predict(X_test)"
   ]
  },
  {
   "cell_type": "code",
   "execution_count": 128,
   "metadata": {},
   "outputs": [
    {
     "name": "stdout",
     "output_type": "stream",
     "text": [
      "Mean Squared Error: 34.6073\n",
      "Root Mean Squared Error: 5.8828\n",
      "R-squared: 0.2032\n"
     ]
    }
   ],
   "source": [
    "mse_dtr = mean_squared_error(y_test, y_pred_dtr)\n",
    "rmse_dtr = root_mean_squared_error(y_test, y_pred_dtr)\n",
    "r2_dtr = r2_score(y_test, y_pred_dtr)\n",
    "mae_dtr = mean_absolute_error(y_test, y_pred_dtr)\n",
    "print(f'Mean Squared Error: {mse_dtr:.4f}')\n",
    "print(f'Root Mean Squared Error: {rmse_dtr:.4f}')\n",
    "print(f'R-squared: {r2_dtr:.4f}')"
   ]
  },
  {
   "cell_type": "markdown",
   "metadata": {},
   "source": [
    "---"
   ]
  },
  {
   "cell_type": "markdown",
   "metadata": {},
   "source": [
    "### RandomForestRegressor"
   ]
  },
  {
   "cell_type": "code",
   "execution_count": 129,
   "metadata": {},
   "outputs": [],
   "source": [
    "from sklearn.ensemble import RandomForestRegressor"
   ]
  },
  {
   "cell_type": "code",
   "execution_count": 130,
   "metadata": {},
   "outputs": [],
   "source": [
    "label_encoder = LabelEncoder()\n",
    "df['university'] = label_encoder.fit_transform(df['university'])\n",
    "df['school'] = label_encoder.fit_transform(df['school'])\n",
    "df['degree'] = label_encoder.fit_transform(df['degree'])"
   ]
  },
  {
   "cell_type": "code",
   "execution_count": 131,
   "metadata": {},
   "outputs": [],
   "source": [
    "X = df[['university', 'school', 'degree']]\n",
    "y = df['employment_rate_overall']\n",
    "X_train, X_test, y_train, y_test = train_test_split(X, y, test_size=0.25, random_state=42)"
   ]
  },
  {
   "cell_type": "code",
   "execution_count": 132,
   "metadata": {},
   "outputs": [
    {
     "data": {
      "text/html": [
       "<style>#sk-container-id-1 {\n",
       "  /* Definition of color scheme common for light and dark mode */\n",
       "  --sklearn-color-text: black;\n",
       "  --sklearn-color-line: gray;\n",
       "  /* Definition of color scheme for unfitted estimators */\n",
       "  --sklearn-color-unfitted-level-0: #fff5e6;\n",
       "  --sklearn-color-unfitted-level-1: #f6e4d2;\n",
       "  --sklearn-color-unfitted-level-2: #ffe0b3;\n",
       "  --sklearn-color-unfitted-level-3: chocolate;\n",
       "  /* Definition of color scheme for fitted estimators */\n",
       "  --sklearn-color-fitted-level-0: #f0f8ff;\n",
       "  --sklearn-color-fitted-level-1: #d4ebff;\n",
       "  --sklearn-color-fitted-level-2: #b3dbfd;\n",
       "  --sklearn-color-fitted-level-3: cornflowerblue;\n",
       "\n",
       "  /* Specific color for light theme */\n",
       "  --sklearn-color-text-on-default-background: var(--sg-text-color, var(--theme-code-foreground, var(--jp-content-font-color1, black)));\n",
       "  --sklearn-color-background: var(--sg-background-color, var(--theme-background, var(--jp-layout-color0, white)));\n",
       "  --sklearn-color-border-box: var(--sg-text-color, var(--theme-code-foreground, var(--jp-content-font-color1, black)));\n",
       "  --sklearn-color-icon: #696969;\n",
       "\n",
       "  @media (prefers-color-scheme: dark) {\n",
       "    /* Redefinition of color scheme for dark theme */\n",
       "    --sklearn-color-text-on-default-background: var(--sg-text-color, var(--theme-code-foreground, var(--jp-content-font-color1, white)));\n",
       "    --sklearn-color-background: var(--sg-background-color, var(--theme-background, var(--jp-layout-color0, #111)));\n",
       "    --sklearn-color-border-box: var(--sg-text-color, var(--theme-code-foreground, var(--jp-content-font-color1, white)));\n",
       "    --sklearn-color-icon: #878787;\n",
       "  }\n",
       "}\n",
       "\n",
       "#sk-container-id-1 {\n",
       "  color: var(--sklearn-color-text);\n",
       "}\n",
       "\n",
       "#sk-container-id-1 pre {\n",
       "  padding: 0;\n",
       "}\n",
       "\n",
       "#sk-container-id-1 input.sk-hidden--visually {\n",
       "  border: 0;\n",
       "  clip: rect(1px 1px 1px 1px);\n",
       "  clip: rect(1px, 1px, 1px, 1px);\n",
       "  height: 1px;\n",
       "  margin: -1px;\n",
       "  overflow: hidden;\n",
       "  padding: 0;\n",
       "  position: absolute;\n",
       "  width: 1px;\n",
       "}\n",
       "\n",
       "#sk-container-id-1 div.sk-dashed-wrapped {\n",
       "  border: 1px dashed var(--sklearn-color-line);\n",
       "  margin: 0 0.4em 0.5em 0.4em;\n",
       "  box-sizing: border-box;\n",
       "  padding-bottom: 0.4em;\n",
       "  background-color: var(--sklearn-color-background);\n",
       "}\n",
       "\n",
       "#sk-container-id-1 div.sk-container {\n",
       "  /* jupyter's `normalize.less` sets `[hidden] { display: none; }`\n",
       "     but bootstrap.min.css set `[hidden] { display: none !important; }`\n",
       "     so we also need the `!important` here to be able to override the\n",
       "     default hidden behavior on the sphinx rendered scikit-learn.org.\n",
       "     See: https://github.com/scikit-learn/scikit-learn/issues/21755 */\n",
       "  display: inline-block !important;\n",
       "  position: relative;\n",
       "}\n",
       "\n",
       "#sk-container-id-1 div.sk-text-repr-fallback {\n",
       "  display: none;\n",
       "}\n",
       "\n",
       "div.sk-parallel-item,\n",
       "div.sk-serial,\n",
       "div.sk-item {\n",
       "  /* draw centered vertical line to link estimators */\n",
       "  background-image: linear-gradient(var(--sklearn-color-text-on-default-background), var(--sklearn-color-text-on-default-background));\n",
       "  background-size: 2px 100%;\n",
       "  background-repeat: no-repeat;\n",
       "  background-position: center center;\n",
       "}\n",
       "\n",
       "/* Parallel-specific style estimator block */\n",
       "\n",
       "#sk-container-id-1 div.sk-parallel-item::after {\n",
       "  content: \"\";\n",
       "  width: 100%;\n",
       "  border-bottom: 2px solid var(--sklearn-color-text-on-default-background);\n",
       "  flex-grow: 1;\n",
       "}\n",
       "\n",
       "#sk-container-id-1 div.sk-parallel {\n",
       "  display: flex;\n",
       "  align-items: stretch;\n",
       "  justify-content: center;\n",
       "  background-color: var(--sklearn-color-background);\n",
       "  position: relative;\n",
       "}\n",
       "\n",
       "#sk-container-id-1 div.sk-parallel-item {\n",
       "  display: flex;\n",
       "  flex-direction: column;\n",
       "}\n",
       "\n",
       "#sk-container-id-1 div.sk-parallel-item:first-child::after {\n",
       "  align-self: flex-end;\n",
       "  width: 50%;\n",
       "}\n",
       "\n",
       "#sk-container-id-1 div.sk-parallel-item:last-child::after {\n",
       "  align-self: flex-start;\n",
       "  width: 50%;\n",
       "}\n",
       "\n",
       "#sk-container-id-1 div.sk-parallel-item:only-child::after {\n",
       "  width: 0;\n",
       "}\n",
       "\n",
       "/* Serial-specific style estimator block */\n",
       "\n",
       "#sk-container-id-1 div.sk-serial {\n",
       "  display: flex;\n",
       "  flex-direction: column;\n",
       "  align-items: center;\n",
       "  background-color: var(--sklearn-color-background);\n",
       "  padding-right: 1em;\n",
       "  padding-left: 1em;\n",
       "}\n",
       "\n",
       "\n",
       "/* Toggleable style: style used for estimator/Pipeline/ColumnTransformer box that is\n",
       "clickable and can be expanded/collapsed.\n",
       "- Pipeline and ColumnTransformer use this feature and define the default style\n",
       "- Estimators will overwrite some part of the style using the `sk-estimator` class\n",
       "*/\n",
       "\n",
       "/* Pipeline and ColumnTransformer style (default) */\n",
       "\n",
       "#sk-container-id-1 div.sk-toggleable {\n",
       "  /* Default theme specific background. It is overwritten whether we have a\n",
       "  specific estimator or a Pipeline/ColumnTransformer */\n",
       "  background-color: var(--sklearn-color-background);\n",
       "}\n",
       "\n",
       "/* Toggleable label */\n",
       "#sk-container-id-1 label.sk-toggleable__label {\n",
       "  cursor: pointer;\n",
       "  display: block;\n",
       "  width: 100%;\n",
       "  margin-bottom: 0;\n",
       "  padding: 0.5em;\n",
       "  box-sizing: border-box;\n",
       "  text-align: center;\n",
       "}\n",
       "\n",
       "#sk-container-id-1 label.sk-toggleable__label-arrow:before {\n",
       "  /* Arrow on the left of the label */\n",
       "  content: \"▸\";\n",
       "  float: left;\n",
       "  margin-right: 0.25em;\n",
       "  color: var(--sklearn-color-icon);\n",
       "}\n",
       "\n",
       "#sk-container-id-1 label.sk-toggleable__label-arrow:hover:before {\n",
       "  color: var(--sklearn-color-text);\n",
       "}\n",
       "\n",
       "/* Toggleable content - dropdown */\n",
       "\n",
       "#sk-container-id-1 div.sk-toggleable__content {\n",
       "  max-height: 0;\n",
       "  max-width: 0;\n",
       "  overflow: hidden;\n",
       "  text-align: left;\n",
       "  /* unfitted */\n",
       "  background-color: var(--sklearn-color-unfitted-level-0);\n",
       "}\n",
       "\n",
       "#sk-container-id-1 div.sk-toggleable__content.fitted {\n",
       "  /* fitted */\n",
       "  background-color: var(--sklearn-color-fitted-level-0);\n",
       "}\n",
       "\n",
       "#sk-container-id-1 div.sk-toggleable__content pre {\n",
       "  margin: 0.2em;\n",
       "  border-radius: 0.25em;\n",
       "  color: var(--sklearn-color-text);\n",
       "  /* unfitted */\n",
       "  background-color: var(--sklearn-color-unfitted-level-0);\n",
       "}\n",
       "\n",
       "#sk-container-id-1 div.sk-toggleable__content.fitted pre {\n",
       "  /* unfitted */\n",
       "  background-color: var(--sklearn-color-fitted-level-0);\n",
       "}\n",
       "\n",
       "#sk-container-id-1 input.sk-toggleable__control:checked~div.sk-toggleable__content {\n",
       "  /* Expand drop-down */\n",
       "  max-height: 200px;\n",
       "  max-width: 100%;\n",
       "  overflow: auto;\n",
       "}\n",
       "\n",
       "#sk-container-id-1 input.sk-toggleable__control:checked~label.sk-toggleable__label-arrow:before {\n",
       "  content: \"▾\";\n",
       "}\n",
       "\n",
       "/* Pipeline/ColumnTransformer-specific style */\n",
       "\n",
       "#sk-container-id-1 div.sk-label input.sk-toggleable__control:checked~label.sk-toggleable__label {\n",
       "  color: var(--sklearn-color-text);\n",
       "  background-color: var(--sklearn-color-unfitted-level-2);\n",
       "}\n",
       "\n",
       "#sk-container-id-1 div.sk-label.fitted input.sk-toggleable__control:checked~label.sk-toggleable__label {\n",
       "  background-color: var(--sklearn-color-fitted-level-2);\n",
       "}\n",
       "\n",
       "/* Estimator-specific style */\n",
       "\n",
       "/* Colorize estimator box */\n",
       "#sk-container-id-1 div.sk-estimator input.sk-toggleable__control:checked~label.sk-toggleable__label {\n",
       "  /* unfitted */\n",
       "  background-color: var(--sklearn-color-unfitted-level-2);\n",
       "}\n",
       "\n",
       "#sk-container-id-1 div.sk-estimator.fitted input.sk-toggleable__control:checked~label.sk-toggleable__label {\n",
       "  /* fitted */\n",
       "  background-color: var(--sklearn-color-fitted-level-2);\n",
       "}\n",
       "\n",
       "#sk-container-id-1 div.sk-label label.sk-toggleable__label,\n",
       "#sk-container-id-1 div.sk-label label {\n",
       "  /* The background is the default theme color */\n",
       "  color: var(--sklearn-color-text-on-default-background);\n",
       "}\n",
       "\n",
       "/* On hover, darken the color of the background */\n",
       "#sk-container-id-1 div.sk-label:hover label.sk-toggleable__label {\n",
       "  color: var(--sklearn-color-text);\n",
       "  background-color: var(--sklearn-color-unfitted-level-2);\n",
       "}\n",
       "\n",
       "/* Label box, darken color on hover, fitted */\n",
       "#sk-container-id-1 div.sk-label.fitted:hover label.sk-toggleable__label.fitted {\n",
       "  color: var(--sklearn-color-text);\n",
       "  background-color: var(--sklearn-color-fitted-level-2);\n",
       "}\n",
       "\n",
       "/* Estimator label */\n",
       "\n",
       "#sk-container-id-1 div.sk-label label {\n",
       "  font-family: monospace;\n",
       "  font-weight: bold;\n",
       "  display: inline-block;\n",
       "  line-height: 1.2em;\n",
       "}\n",
       "\n",
       "#sk-container-id-1 div.sk-label-container {\n",
       "  text-align: center;\n",
       "}\n",
       "\n",
       "/* Estimator-specific */\n",
       "#sk-container-id-1 div.sk-estimator {\n",
       "  font-family: monospace;\n",
       "  border: 1px dotted var(--sklearn-color-border-box);\n",
       "  border-radius: 0.25em;\n",
       "  box-sizing: border-box;\n",
       "  margin-bottom: 0.5em;\n",
       "  /* unfitted */\n",
       "  background-color: var(--sklearn-color-unfitted-level-0);\n",
       "}\n",
       "\n",
       "#sk-container-id-1 div.sk-estimator.fitted {\n",
       "  /* fitted */\n",
       "  background-color: var(--sklearn-color-fitted-level-0);\n",
       "}\n",
       "\n",
       "/* on hover */\n",
       "#sk-container-id-1 div.sk-estimator:hover {\n",
       "  /* unfitted */\n",
       "  background-color: var(--sklearn-color-unfitted-level-2);\n",
       "}\n",
       "\n",
       "#sk-container-id-1 div.sk-estimator.fitted:hover {\n",
       "  /* fitted */\n",
       "  background-color: var(--sklearn-color-fitted-level-2);\n",
       "}\n",
       "\n",
       "/* Specification for estimator info (e.g. \"i\" and \"?\") */\n",
       "\n",
       "/* Common style for \"i\" and \"?\" */\n",
       "\n",
       ".sk-estimator-doc-link,\n",
       "a:link.sk-estimator-doc-link,\n",
       "a:visited.sk-estimator-doc-link {\n",
       "  float: right;\n",
       "  font-size: smaller;\n",
       "  line-height: 1em;\n",
       "  font-family: monospace;\n",
       "  background-color: var(--sklearn-color-background);\n",
       "  border-radius: 1em;\n",
       "  height: 1em;\n",
       "  width: 1em;\n",
       "  text-decoration: none !important;\n",
       "  margin-left: 1ex;\n",
       "  /* unfitted */\n",
       "  border: var(--sklearn-color-unfitted-level-1) 1pt solid;\n",
       "  color: var(--sklearn-color-unfitted-level-1);\n",
       "}\n",
       "\n",
       ".sk-estimator-doc-link.fitted,\n",
       "a:link.sk-estimator-doc-link.fitted,\n",
       "a:visited.sk-estimator-doc-link.fitted {\n",
       "  /* fitted */\n",
       "  border: var(--sklearn-color-fitted-level-1) 1pt solid;\n",
       "  color: var(--sklearn-color-fitted-level-1);\n",
       "}\n",
       "\n",
       "/* On hover */\n",
       "div.sk-estimator:hover .sk-estimator-doc-link:hover,\n",
       ".sk-estimator-doc-link:hover,\n",
       "div.sk-label-container:hover .sk-estimator-doc-link:hover,\n",
       ".sk-estimator-doc-link:hover {\n",
       "  /* unfitted */\n",
       "  background-color: var(--sklearn-color-unfitted-level-3);\n",
       "  color: var(--sklearn-color-background);\n",
       "  text-decoration: none;\n",
       "}\n",
       "\n",
       "div.sk-estimator.fitted:hover .sk-estimator-doc-link.fitted:hover,\n",
       ".sk-estimator-doc-link.fitted:hover,\n",
       "div.sk-label-container:hover .sk-estimator-doc-link.fitted:hover,\n",
       ".sk-estimator-doc-link.fitted:hover {\n",
       "  /* fitted */\n",
       "  background-color: var(--sklearn-color-fitted-level-3);\n",
       "  color: var(--sklearn-color-background);\n",
       "  text-decoration: none;\n",
       "}\n",
       "\n",
       "/* Span, style for the box shown on hovering the info icon */\n",
       ".sk-estimator-doc-link span {\n",
       "  display: none;\n",
       "  z-index: 9999;\n",
       "  position: relative;\n",
       "  font-weight: normal;\n",
       "  right: .2ex;\n",
       "  padding: .5ex;\n",
       "  margin: .5ex;\n",
       "  width: min-content;\n",
       "  min-width: 20ex;\n",
       "  max-width: 50ex;\n",
       "  color: var(--sklearn-color-text);\n",
       "  box-shadow: 2pt 2pt 4pt #999;\n",
       "  /* unfitted */\n",
       "  background: var(--sklearn-color-unfitted-level-0);\n",
       "  border: .5pt solid var(--sklearn-color-unfitted-level-3);\n",
       "}\n",
       "\n",
       ".sk-estimator-doc-link.fitted span {\n",
       "  /* fitted */\n",
       "  background: var(--sklearn-color-fitted-level-0);\n",
       "  border: var(--sklearn-color-fitted-level-3);\n",
       "}\n",
       "\n",
       ".sk-estimator-doc-link:hover span {\n",
       "  display: block;\n",
       "}\n",
       "\n",
       "/* \"?\"-specific style due to the `<a>` HTML tag */\n",
       "\n",
       "#sk-container-id-1 a.estimator_doc_link {\n",
       "  float: right;\n",
       "  font-size: 1rem;\n",
       "  line-height: 1em;\n",
       "  font-family: monospace;\n",
       "  background-color: var(--sklearn-color-background);\n",
       "  border-radius: 1rem;\n",
       "  height: 1rem;\n",
       "  width: 1rem;\n",
       "  text-decoration: none;\n",
       "  /* unfitted */\n",
       "  color: var(--sklearn-color-unfitted-level-1);\n",
       "  border: var(--sklearn-color-unfitted-level-1) 1pt solid;\n",
       "}\n",
       "\n",
       "#sk-container-id-1 a.estimator_doc_link.fitted {\n",
       "  /* fitted */\n",
       "  border: var(--sklearn-color-fitted-level-1) 1pt solid;\n",
       "  color: var(--sklearn-color-fitted-level-1);\n",
       "}\n",
       "\n",
       "/* On hover */\n",
       "#sk-container-id-1 a.estimator_doc_link:hover {\n",
       "  /* unfitted */\n",
       "  background-color: var(--sklearn-color-unfitted-level-3);\n",
       "  color: var(--sklearn-color-background);\n",
       "  text-decoration: none;\n",
       "}\n",
       "\n",
       "#sk-container-id-1 a.estimator_doc_link.fitted:hover {\n",
       "  /* fitted */\n",
       "  background-color: var(--sklearn-color-fitted-level-3);\n",
       "}\n",
       "</style><div id=\"sk-container-id-1\" class=\"sk-top-container\"><div class=\"sk-text-repr-fallback\"><pre>RandomForestRegressor(max_depth=10, n_estimators=50, random_state=42)</pre><b>In a Jupyter environment, please rerun this cell to show the HTML representation or trust the notebook. <br />On GitHub, the HTML representation is unable to render, please try loading this page with nbviewer.org.</b></div><div class=\"sk-container\" hidden><div class=\"sk-item\"><div class=\"sk-estimator fitted sk-toggleable\"><input class=\"sk-toggleable__control sk-hidden--visually\" id=\"sk-estimator-id-1\" type=\"checkbox\" checked><label for=\"sk-estimator-id-1\" class=\"sk-toggleable__label fitted sk-toggleable__label-arrow fitted\">&nbsp;&nbsp;RandomForestRegressor<a class=\"sk-estimator-doc-link fitted\" rel=\"noreferrer\" target=\"_blank\" href=\"https://scikit-learn.org/1.4/modules/generated/sklearn.ensemble.RandomForestRegressor.html\">?<span>Documentation for RandomForestRegressor</span></a><span class=\"sk-estimator-doc-link fitted\">i<span>Fitted</span></span></label><div class=\"sk-toggleable__content fitted\"><pre>RandomForestRegressor(max_depth=10, n_estimators=50, random_state=42)</pre></div> </div></div></div></div>"
      ],
      "text/plain": [
       "RandomForestRegressor(max_depth=10, n_estimators=50, random_state=42)"
      ]
     },
     "execution_count": 132,
     "metadata": {},
     "output_type": "execute_result"
    }
   ],
   "source": [
    "rf_model = RandomForestRegressor(n_estimators = 50, random_state=42, max_depth=10, min_samples_split=2, min_samples_leaf=1)\n",
    "rf_model.fit(X_train, y_train)"
   ]
  },
  {
   "cell_type": "code",
   "execution_count": 133,
   "metadata": {},
   "outputs": [],
   "source": [
    "y_pred_rf = rf_model.predict(X_test)"
   ]
  },
  {
   "cell_type": "code",
   "execution_count": 134,
   "metadata": {},
   "outputs": [
    {
     "name": "stdout",
     "output_type": "stream",
     "text": [
      "Mean Squared Error: 25.3891\n",
      "Root Mean Squared Error: 5.0388\n",
      "R-squared: 0.4267\n"
     ]
    }
   ],
   "source": [
    "mse_rf = mean_squared_error(y_test, y_pred_rf)\n",
    "rmse_rf = root_mean_squared_error(y_test, y_pred_rf)\n",
    "r2_rf = r2_score(y_test, y_pred_rf)\n",
    "mae_rf = mean_absolute_error(y_test, y_pred_rf)\n",
    "print(f'Mean Squared Error: {mse_rf:.4f}')\n",
    "print(f'Root Mean Squared Error: {rmse_rf:.4f}')\n",
    "print(f'R-squared: {r2_rf:.4f}')"
   ]
  },
  {
   "cell_type": "markdown",
   "metadata": {},
   "source": [
    "---"
   ]
  },
  {
   "cell_type": "markdown",
   "metadata": {},
   "source": [
    "### GraidentBoostingRegressor"
   ]
  },
  {
   "cell_type": "code",
   "execution_count": 135,
   "metadata": {},
   "outputs": [],
   "source": [
    "from sklearn.ensemble import GradientBoostingRegressor"
   ]
  },
  {
   "cell_type": "code",
   "execution_count": 136,
   "metadata": {},
   "outputs": [],
   "source": [
    "df.fillna(df.mean(), inplace=True)\n",
    "\n",
    "label_encoder = LabelEncoder()\n",
    "df['university'] = label_encoder.fit_transform(df['university'])\n",
    "df['school'] = label_encoder.fit_transform(df['school'])\n",
    "df['degree'] = label_encoder.fit_transform(df['degree'])"
   ]
  },
  {
   "cell_type": "code",
   "execution_count": 137,
   "metadata": {},
   "outputs": [],
   "source": [
    "X = df[['university', 'school', 'degree']]\n",
    "y = df['employment_rate_overall']\n",
    "X_train, X_test, y_train, y_test = train_test_split(X, y, test_size=0.2, random_state=42)"
   ]
  },
  {
   "cell_type": "code",
   "execution_count": 138,
   "metadata": {},
   "outputs": [
    {
     "data": {
      "text/html": [
       "<style>#sk-container-id-2 {\n",
       "  /* Definition of color scheme common for light and dark mode */\n",
       "  --sklearn-color-text: black;\n",
       "  --sklearn-color-line: gray;\n",
       "  /* Definition of color scheme for unfitted estimators */\n",
       "  --sklearn-color-unfitted-level-0: #fff5e6;\n",
       "  --sklearn-color-unfitted-level-1: #f6e4d2;\n",
       "  --sklearn-color-unfitted-level-2: #ffe0b3;\n",
       "  --sklearn-color-unfitted-level-3: chocolate;\n",
       "  /* Definition of color scheme for fitted estimators */\n",
       "  --sklearn-color-fitted-level-0: #f0f8ff;\n",
       "  --sklearn-color-fitted-level-1: #d4ebff;\n",
       "  --sklearn-color-fitted-level-2: #b3dbfd;\n",
       "  --sklearn-color-fitted-level-3: cornflowerblue;\n",
       "\n",
       "  /* Specific color for light theme */\n",
       "  --sklearn-color-text-on-default-background: var(--sg-text-color, var(--theme-code-foreground, var(--jp-content-font-color1, black)));\n",
       "  --sklearn-color-background: var(--sg-background-color, var(--theme-background, var(--jp-layout-color0, white)));\n",
       "  --sklearn-color-border-box: var(--sg-text-color, var(--theme-code-foreground, var(--jp-content-font-color1, black)));\n",
       "  --sklearn-color-icon: #696969;\n",
       "\n",
       "  @media (prefers-color-scheme: dark) {\n",
       "    /* Redefinition of color scheme for dark theme */\n",
       "    --sklearn-color-text-on-default-background: var(--sg-text-color, var(--theme-code-foreground, var(--jp-content-font-color1, white)));\n",
       "    --sklearn-color-background: var(--sg-background-color, var(--theme-background, var(--jp-layout-color0, #111)));\n",
       "    --sklearn-color-border-box: var(--sg-text-color, var(--theme-code-foreground, var(--jp-content-font-color1, white)));\n",
       "    --sklearn-color-icon: #878787;\n",
       "  }\n",
       "}\n",
       "\n",
       "#sk-container-id-2 {\n",
       "  color: var(--sklearn-color-text);\n",
       "}\n",
       "\n",
       "#sk-container-id-2 pre {\n",
       "  padding: 0;\n",
       "}\n",
       "\n",
       "#sk-container-id-2 input.sk-hidden--visually {\n",
       "  border: 0;\n",
       "  clip: rect(1px 1px 1px 1px);\n",
       "  clip: rect(1px, 1px, 1px, 1px);\n",
       "  height: 1px;\n",
       "  margin: -1px;\n",
       "  overflow: hidden;\n",
       "  padding: 0;\n",
       "  position: absolute;\n",
       "  width: 1px;\n",
       "}\n",
       "\n",
       "#sk-container-id-2 div.sk-dashed-wrapped {\n",
       "  border: 1px dashed var(--sklearn-color-line);\n",
       "  margin: 0 0.4em 0.5em 0.4em;\n",
       "  box-sizing: border-box;\n",
       "  padding-bottom: 0.4em;\n",
       "  background-color: var(--sklearn-color-background);\n",
       "}\n",
       "\n",
       "#sk-container-id-2 div.sk-container {\n",
       "  /* jupyter's `normalize.less` sets `[hidden] { display: none; }`\n",
       "     but bootstrap.min.css set `[hidden] { display: none !important; }`\n",
       "     so we also need the `!important` here to be able to override the\n",
       "     default hidden behavior on the sphinx rendered scikit-learn.org.\n",
       "     See: https://github.com/scikit-learn/scikit-learn/issues/21755 */\n",
       "  display: inline-block !important;\n",
       "  position: relative;\n",
       "}\n",
       "\n",
       "#sk-container-id-2 div.sk-text-repr-fallback {\n",
       "  display: none;\n",
       "}\n",
       "\n",
       "div.sk-parallel-item,\n",
       "div.sk-serial,\n",
       "div.sk-item {\n",
       "  /* draw centered vertical line to link estimators */\n",
       "  background-image: linear-gradient(var(--sklearn-color-text-on-default-background), var(--sklearn-color-text-on-default-background));\n",
       "  background-size: 2px 100%;\n",
       "  background-repeat: no-repeat;\n",
       "  background-position: center center;\n",
       "}\n",
       "\n",
       "/* Parallel-specific style estimator block */\n",
       "\n",
       "#sk-container-id-2 div.sk-parallel-item::after {\n",
       "  content: \"\";\n",
       "  width: 100%;\n",
       "  border-bottom: 2px solid var(--sklearn-color-text-on-default-background);\n",
       "  flex-grow: 1;\n",
       "}\n",
       "\n",
       "#sk-container-id-2 div.sk-parallel {\n",
       "  display: flex;\n",
       "  align-items: stretch;\n",
       "  justify-content: center;\n",
       "  background-color: var(--sklearn-color-background);\n",
       "  position: relative;\n",
       "}\n",
       "\n",
       "#sk-container-id-2 div.sk-parallel-item {\n",
       "  display: flex;\n",
       "  flex-direction: column;\n",
       "}\n",
       "\n",
       "#sk-container-id-2 div.sk-parallel-item:first-child::after {\n",
       "  align-self: flex-end;\n",
       "  width: 50%;\n",
       "}\n",
       "\n",
       "#sk-container-id-2 div.sk-parallel-item:last-child::after {\n",
       "  align-self: flex-start;\n",
       "  width: 50%;\n",
       "}\n",
       "\n",
       "#sk-container-id-2 div.sk-parallel-item:only-child::after {\n",
       "  width: 0;\n",
       "}\n",
       "\n",
       "/* Serial-specific style estimator block */\n",
       "\n",
       "#sk-container-id-2 div.sk-serial {\n",
       "  display: flex;\n",
       "  flex-direction: column;\n",
       "  align-items: center;\n",
       "  background-color: var(--sklearn-color-background);\n",
       "  padding-right: 1em;\n",
       "  padding-left: 1em;\n",
       "}\n",
       "\n",
       "\n",
       "/* Toggleable style: style used for estimator/Pipeline/ColumnTransformer box that is\n",
       "clickable and can be expanded/collapsed.\n",
       "- Pipeline and ColumnTransformer use this feature and define the default style\n",
       "- Estimators will overwrite some part of the style using the `sk-estimator` class\n",
       "*/\n",
       "\n",
       "/* Pipeline and ColumnTransformer style (default) */\n",
       "\n",
       "#sk-container-id-2 div.sk-toggleable {\n",
       "  /* Default theme specific background. It is overwritten whether we have a\n",
       "  specific estimator or a Pipeline/ColumnTransformer */\n",
       "  background-color: var(--sklearn-color-background);\n",
       "}\n",
       "\n",
       "/* Toggleable label */\n",
       "#sk-container-id-2 label.sk-toggleable__label {\n",
       "  cursor: pointer;\n",
       "  display: block;\n",
       "  width: 100%;\n",
       "  margin-bottom: 0;\n",
       "  padding: 0.5em;\n",
       "  box-sizing: border-box;\n",
       "  text-align: center;\n",
       "}\n",
       "\n",
       "#sk-container-id-2 label.sk-toggleable__label-arrow:before {\n",
       "  /* Arrow on the left of the label */\n",
       "  content: \"▸\";\n",
       "  float: left;\n",
       "  margin-right: 0.25em;\n",
       "  color: var(--sklearn-color-icon);\n",
       "}\n",
       "\n",
       "#sk-container-id-2 label.sk-toggleable__label-arrow:hover:before {\n",
       "  color: var(--sklearn-color-text);\n",
       "}\n",
       "\n",
       "/* Toggleable content - dropdown */\n",
       "\n",
       "#sk-container-id-2 div.sk-toggleable__content {\n",
       "  max-height: 0;\n",
       "  max-width: 0;\n",
       "  overflow: hidden;\n",
       "  text-align: left;\n",
       "  /* unfitted */\n",
       "  background-color: var(--sklearn-color-unfitted-level-0);\n",
       "}\n",
       "\n",
       "#sk-container-id-2 div.sk-toggleable__content.fitted {\n",
       "  /* fitted */\n",
       "  background-color: var(--sklearn-color-fitted-level-0);\n",
       "}\n",
       "\n",
       "#sk-container-id-2 div.sk-toggleable__content pre {\n",
       "  margin: 0.2em;\n",
       "  border-radius: 0.25em;\n",
       "  color: var(--sklearn-color-text);\n",
       "  /* unfitted */\n",
       "  background-color: var(--sklearn-color-unfitted-level-0);\n",
       "}\n",
       "\n",
       "#sk-container-id-2 div.sk-toggleable__content.fitted pre {\n",
       "  /* unfitted */\n",
       "  background-color: var(--sklearn-color-fitted-level-0);\n",
       "}\n",
       "\n",
       "#sk-container-id-2 input.sk-toggleable__control:checked~div.sk-toggleable__content {\n",
       "  /* Expand drop-down */\n",
       "  max-height: 200px;\n",
       "  max-width: 100%;\n",
       "  overflow: auto;\n",
       "}\n",
       "\n",
       "#sk-container-id-2 input.sk-toggleable__control:checked~label.sk-toggleable__label-arrow:before {\n",
       "  content: \"▾\";\n",
       "}\n",
       "\n",
       "/* Pipeline/ColumnTransformer-specific style */\n",
       "\n",
       "#sk-container-id-2 div.sk-label input.sk-toggleable__control:checked~label.sk-toggleable__label {\n",
       "  color: var(--sklearn-color-text);\n",
       "  background-color: var(--sklearn-color-unfitted-level-2);\n",
       "}\n",
       "\n",
       "#sk-container-id-2 div.sk-label.fitted input.sk-toggleable__control:checked~label.sk-toggleable__label {\n",
       "  background-color: var(--sklearn-color-fitted-level-2);\n",
       "}\n",
       "\n",
       "/* Estimator-specific style */\n",
       "\n",
       "/* Colorize estimator box */\n",
       "#sk-container-id-2 div.sk-estimator input.sk-toggleable__control:checked~label.sk-toggleable__label {\n",
       "  /* unfitted */\n",
       "  background-color: var(--sklearn-color-unfitted-level-2);\n",
       "}\n",
       "\n",
       "#sk-container-id-2 div.sk-estimator.fitted input.sk-toggleable__control:checked~label.sk-toggleable__label {\n",
       "  /* fitted */\n",
       "  background-color: var(--sklearn-color-fitted-level-2);\n",
       "}\n",
       "\n",
       "#sk-container-id-2 div.sk-label label.sk-toggleable__label,\n",
       "#sk-container-id-2 div.sk-label label {\n",
       "  /* The background is the default theme color */\n",
       "  color: var(--sklearn-color-text-on-default-background);\n",
       "}\n",
       "\n",
       "/* On hover, darken the color of the background */\n",
       "#sk-container-id-2 div.sk-label:hover label.sk-toggleable__label {\n",
       "  color: var(--sklearn-color-text);\n",
       "  background-color: var(--sklearn-color-unfitted-level-2);\n",
       "}\n",
       "\n",
       "/* Label box, darken color on hover, fitted */\n",
       "#sk-container-id-2 div.sk-label.fitted:hover label.sk-toggleable__label.fitted {\n",
       "  color: var(--sklearn-color-text);\n",
       "  background-color: var(--sklearn-color-fitted-level-2);\n",
       "}\n",
       "\n",
       "/* Estimator label */\n",
       "\n",
       "#sk-container-id-2 div.sk-label label {\n",
       "  font-family: monospace;\n",
       "  font-weight: bold;\n",
       "  display: inline-block;\n",
       "  line-height: 1.2em;\n",
       "}\n",
       "\n",
       "#sk-container-id-2 div.sk-label-container {\n",
       "  text-align: center;\n",
       "}\n",
       "\n",
       "/* Estimator-specific */\n",
       "#sk-container-id-2 div.sk-estimator {\n",
       "  font-family: monospace;\n",
       "  border: 1px dotted var(--sklearn-color-border-box);\n",
       "  border-radius: 0.25em;\n",
       "  box-sizing: border-box;\n",
       "  margin-bottom: 0.5em;\n",
       "  /* unfitted */\n",
       "  background-color: var(--sklearn-color-unfitted-level-0);\n",
       "}\n",
       "\n",
       "#sk-container-id-2 div.sk-estimator.fitted {\n",
       "  /* fitted */\n",
       "  background-color: var(--sklearn-color-fitted-level-0);\n",
       "}\n",
       "\n",
       "/* on hover */\n",
       "#sk-container-id-2 div.sk-estimator:hover {\n",
       "  /* unfitted */\n",
       "  background-color: var(--sklearn-color-unfitted-level-2);\n",
       "}\n",
       "\n",
       "#sk-container-id-2 div.sk-estimator.fitted:hover {\n",
       "  /* fitted */\n",
       "  background-color: var(--sklearn-color-fitted-level-2);\n",
       "}\n",
       "\n",
       "/* Specification for estimator info (e.g. \"i\" and \"?\") */\n",
       "\n",
       "/* Common style for \"i\" and \"?\" */\n",
       "\n",
       ".sk-estimator-doc-link,\n",
       "a:link.sk-estimator-doc-link,\n",
       "a:visited.sk-estimator-doc-link {\n",
       "  float: right;\n",
       "  font-size: smaller;\n",
       "  line-height: 1em;\n",
       "  font-family: monospace;\n",
       "  background-color: var(--sklearn-color-background);\n",
       "  border-radius: 1em;\n",
       "  height: 1em;\n",
       "  width: 1em;\n",
       "  text-decoration: none !important;\n",
       "  margin-left: 1ex;\n",
       "  /* unfitted */\n",
       "  border: var(--sklearn-color-unfitted-level-1) 1pt solid;\n",
       "  color: var(--sklearn-color-unfitted-level-1);\n",
       "}\n",
       "\n",
       ".sk-estimator-doc-link.fitted,\n",
       "a:link.sk-estimator-doc-link.fitted,\n",
       "a:visited.sk-estimator-doc-link.fitted {\n",
       "  /* fitted */\n",
       "  border: var(--sklearn-color-fitted-level-1) 1pt solid;\n",
       "  color: var(--sklearn-color-fitted-level-1);\n",
       "}\n",
       "\n",
       "/* On hover */\n",
       "div.sk-estimator:hover .sk-estimator-doc-link:hover,\n",
       ".sk-estimator-doc-link:hover,\n",
       "div.sk-label-container:hover .sk-estimator-doc-link:hover,\n",
       ".sk-estimator-doc-link:hover {\n",
       "  /* unfitted */\n",
       "  background-color: var(--sklearn-color-unfitted-level-3);\n",
       "  color: var(--sklearn-color-background);\n",
       "  text-decoration: none;\n",
       "}\n",
       "\n",
       "div.sk-estimator.fitted:hover .sk-estimator-doc-link.fitted:hover,\n",
       ".sk-estimator-doc-link.fitted:hover,\n",
       "div.sk-label-container:hover .sk-estimator-doc-link.fitted:hover,\n",
       ".sk-estimator-doc-link.fitted:hover {\n",
       "  /* fitted */\n",
       "  background-color: var(--sklearn-color-fitted-level-3);\n",
       "  color: var(--sklearn-color-background);\n",
       "  text-decoration: none;\n",
       "}\n",
       "\n",
       "/* Span, style for the box shown on hovering the info icon */\n",
       ".sk-estimator-doc-link span {\n",
       "  display: none;\n",
       "  z-index: 9999;\n",
       "  position: relative;\n",
       "  font-weight: normal;\n",
       "  right: .2ex;\n",
       "  padding: .5ex;\n",
       "  margin: .5ex;\n",
       "  width: min-content;\n",
       "  min-width: 20ex;\n",
       "  max-width: 50ex;\n",
       "  color: var(--sklearn-color-text);\n",
       "  box-shadow: 2pt 2pt 4pt #999;\n",
       "  /* unfitted */\n",
       "  background: var(--sklearn-color-unfitted-level-0);\n",
       "  border: .5pt solid var(--sklearn-color-unfitted-level-3);\n",
       "}\n",
       "\n",
       ".sk-estimator-doc-link.fitted span {\n",
       "  /* fitted */\n",
       "  background: var(--sklearn-color-fitted-level-0);\n",
       "  border: var(--sklearn-color-fitted-level-3);\n",
       "}\n",
       "\n",
       ".sk-estimator-doc-link:hover span {\n",
       "  display: block;\n",
       "}\n",
       "\n",
       "/* \"?\"-specific style due to the `<a>` HTML tag */\n",
       "\n",
       "#sk-container-id-2 a.estimator_doc_link {\n",
       "  float: right;\n",
       "  font-size: 1rem;\n",
       "  line-height: 1em;\n",
       "  font-family: monospace;\n",
       "  background-color: var(--sklearn-color-background);\n",
       "  border-radius: 1rem;\n",
       "  height: 1rem;\n",
       "  width: 1rem;\n",
       "  text-decoration: none;\n",
       "  /* unfitted */\n",
       "  color: var(--sklearn-color-unfitted-level-1);\n",
       "  border: var(--sklearn-color-unfitted-level-1) 1pt solid;\n",
       "}\n",
       "\n",
       "#sk-container-id-2 a.estimator_doc_link.fitted {\n",
       "  /* fitted */\n",
       "  border: var(--sklearn-color-fitted-level-1) 1pt solid;\n",
       "  color: var(--sklearn-color-fitted-level-1);\n",
       "}\n",
       "\n",
       "/* On hover */\n",
       "#sk-container-id-2 a.estimator_doc_link:hover {\n",
       "  /* unfitted */\n",
       "  background-color: var(--sklearn-color-unfitted-level-3);\n",
       "  color: var(--sklearn-color-background);\n",
       "  text-decoration: none;\n",
       "}\n",
       "\n",
       "#sk-container-id-2 a.estimator_doc_link.fitted:hover {\n",
       "  /* fitted */\n",
       "  background-color: var(--sklearn-color-fitted-level-3);\n",
       "}\n",
       "</style><div id=\"sk-container-id-2\" class=\"sk-top-container\"><div class=\"sk-text-repr-fallback\"><pre>GradientBoostingRegressor(random_state=42)</pre><b>In a Jupyter environment, please rerun this cell to show the HTML representation or trust the notebook. <br />On GitHub, the HTML representation is unable to render, please try loading this page with nbviewer.org.</b></div><div class=\"sk-container\" hidden><div class=\"sk-item\"><div class=\"sk-estimator fitted sk-toggleable\"><input class=\"sk-toggleable__control sk-hidden--visually\" id=\"sk-estimator-id-2\" type=\"checkbox\" checked><label for=\"sk-estimator-id-2\" class=\"sk-toggleable__label fitted sk-toggleable__label-arrow fitted\">&nbsp;&nbsp;GradientBoostingRegressor<a class=\"sk-estimator-doc-link fitted\" rel=\"noreferrer\" target=\"_blank\" href=\"https://scikit-learn.org/1.4/modules/generated/sklearn.ensemble.GradientBoostingRegressor.html\">?<span>Documentation for GradientBoostingRegressor</span></a><span class=\"sk-estimator-doc-link fitted\">i<span>Fitted</span></span></label><div class=\"sk-toggleable__content fitted\"><pre>GradientBoostingRegressor(random_state=42)</pre></div> </div></div></div></div>"
      ],
      "text/plain": [
       "GradientBoostingRegressor(random_state=42)"
      ]
     },
     "execution_count": 138,
     "metadata": {},
     "output_type": "execute_result"
    }
   ],
   "source": [
    "gb = GradientBoostingRegressor(n_estimators=100, random_state=42)\n",
    "gb.fit(X_train, y_train)"
   ]
  },
  {
   "cell_type": "code",
   "execution_count": 139,
   "metadata": {},
   "outputs": [],
   "source": [
    "y_pred_gb = gb.predict(X_test)"
   ]
  },
  {
   "cell_type": "code",
   "execution_count": 140,
   "metadata": {},
   "outputs": [
    {
     "name": "stdout",
     "output_type": "stream",
     "text": [
      "Mean Squared Error: 29.0128\n",
      "Root Mean Squared Error: 5.3864\n",
      "R-squared: 0.3320\n"
     ]
    }
   ],
   "source": [
    "mse_gb = mean_squared_error(y_test, y_pred_gb)\n",
    "rmse_gb = root_mean_squared_error(y_test, y_pred_gb)\n",
    "r2_gb = r2_score(y_test, y_pred_gb)\n",
    "mae_gb = mean_absolute_error(y_test, y_pred_dtr)\n",
    "print(f'Mean Squared Error: {mse_gb:.4f}')\n",
    "print(f'Root Mean Squared Error: {rmse_gb:.4f}')\n",
    "print(f'R-squared: {r2_gb:.4f}')"
   ]
  },
  {
   "cell_type": "markdown",
   "metadata": {},
   "source": [
    "---"
   ]
  },
  {
   "cell_type": "markdown",
   "metadata": {},
   "source": [
    "### DecisionTreeRegressor w/ RandomSearchCV"
   ]
  },
  {
   "cell_type": "code",
   "execution_count": 141,
   "metadata": {},
   "outputs": [],
   "source": [
    "from sklearn.model_selection import GridSearchCV, RandomizedSearchCV\n",
    "from sklearn.tree import DecisionTreeRegressor"
   ]
  },
  {
   "cell_type": "code",
   "execution_count": 142,
   "metadata": {},
   "outputs": [],
   "source": [
    "dtr = DecisionTreeRegressor(random_state=42)"
   ]
  },
  {
   "cell_type": "code",
   "execution_count": 143,
   "metadata": {},
   "outputs": [],
   "source": [
    "from scipy.stats import randint as sp_randint\n",
    "\n",
    "param_dist_rs = {\n",
    "    'max_depth': sp_randint(1, 20),\n",
    "    'min_samples_split': sp_randint(2, 50),\n",
    "    'min_samples_leaf': sp_randint(1, 20),\n",
    "    'criterion': ['squared_error']\n",
    "}"
   ]
  },
  {
   "cell_type": "code",
   "execution_count": 144,
   "metadata": {},
   "outputs": [
    {
     "name": "stdout",
     "output_type": "stream",
     "text": [
      "Fitting 5 folds for each of 100 candidates, totalling 500 fits\n",
      "[CV 1/5] END criterion=squared_error, max_depth=13, min_samples_leaf=11, min_samples_split=3;, score=-28.579 total time=   0.0s\n",
      "[CV 2/5] END criterion=squared_error, max_depth=13, min_samples_leaf=11, min_samples_split=3;, score=-26.461 total time=   0.0s\n",
      "[CV 3/5] END criterion=squared_error, max_depth=13, min_samples_leaf=11, min_samples_split=3;, score=-29.738 total time=   0.0s\n",
      "[CV 4/5] END criterion=squared_error, max_depth=13, min_samples_leaf=11, min_samples_split=3;, score=-29.499 total time=   0.0s\n",
      "[CV 5/5] END criterion=squared_error, max_depth=13, min_samples_leaf=11, min_samples_split=3;, score=-41.547 total time=   0.0s\n",
      "[CV 1/5] END criterion=squared_error, max_depth=10, min_samples_leaf=2, min_samples_split=13;, score=-29.945 total time=   0.0s\n",
      "[CV 2/5] END criterion=squared_error, max_depth=10, min_samples_leaf=2, min_samples_split=13;, score=-26.489 total time=   0.0s\n",
      "[CV 3/5] END criterion=squared_error, max_depth=10, min_samples_leaf=2, min_samples_split=13;, score=-29.197 total time=   0.0s\n",
      "[CV 4/5] END criterion=squared_error, max_depth=10, min_samples_leaf=2, min_samples_split=13;, score=-23.487 total time=   0.0s\n",
      "[CV 5/5] END criterion=squared_error, max_depth=10, min_samples_leaf=2, min_samples_split=13;, score=-37.496 total time=   0.0s\n",
      "[CV 1/5] END criterion=squared_error, max_depth=17, min_samples_leaf=13, min_samples_split=21;, score=-30.062 total time=   0.0s\n",
      "[CV 2/5] END criterion=squared_error, max_depth=17, min_samples_leaf=13, min_samples_split=21;, score=-26.651 total time=   0.0s\n",
      "[CV 3/5] END criterion=squared_error, max_depth=17, min_samples_leaf=13, min_samples_split=21;, score=-30.447 total time=   0.0s\n",
      "[CV 4/5] END criterion=squared_error, max_depth=17, min_samples_leaf=13, min_samples_split=21;, score=-29.957 total time=   0.0s\n",
      "[CV 5/5] END criterion=squared_error, max_depth=17, min_samples_leaf=13, min_samples_split=21;, score=-40.834 total time=   0.0s\n",
      "[CV 1/5] END criterion=squared_error, max_depth=2, min_samples_leaf=14, min_samples_split=38;, score=-35.083 total time=   0.0s\n",
      "[CV 2/5] END criterion=squared_error, max_depth=2, min_samples_leaf=14, min_samples_split=38;, score=-37.943 total time=   0.0s\n",
      "[CV 3/5] END criterion=squared_error, max_depth=2, min_samples_leaf=14, min_samples_split=38;, score=-38.624 total time=   0.0s\n",
      "[CV 4/5] END criterion=squared_error, max_depth=2, min_samples_leaf=14, min_samples_split=38;, score=-33.856 total time=   0.0s\n",
      "[CV 5/5] END criterion=squared_error, max_depth=2, min_samples_leaf=14, min_samples_split=38;, score=-43.702 total time=   0.0s\n",
      "[CV 1/5] END criterion=squared_error, max_depth=18, min_samples_leaf=5, min_samples_split=19;, score=-26.056 total time=   0.0s\n",
      "[CV 2/5] END criterion=squared_error, max_depth=18, min_samples_leaf=5, min_samples_split=19;, score=-25.382 total time=   0.0s\n",
      "[CV 3/5] END criterion=squared_error, max_depth=18, min_samples_leaf=5, min_samples_split=19;, score=-28.548 total time=   0.0s\n",
      "[CV 4/5] END criterion=squared_error, max_depth=18, min_samples_leaf=5, min_samples_split=19;, score=-25.068 total time=   0.0s\n",
      "[CV 5/5] END criterion=squared_error, max_depth=18, min_samples_leaf=5, min_samples_split=19;, score=-40.097 total time=   0.0s\n",
      "[CV 1/5] END criterion=squared_error, max_depth=15, min_samples_leaf=7, min_samples_split=29;, score=-27.449 total time=   0.0s\n",
      "[CV 2/5] END criterion=squared_error, max_depth=15, min_samples_leaf=7, min_samples_split=29;, score=-25.044 total time=   0.0s\n",
      "[CV 3/5] END criterion=squared_error, max_depth=15, min_samples_leaf=7, min_samples_split=29;, score=-27.787 total time=   0.0s\n",
      "[CV 4/5] END criterion=squared_error, max_depth=15, min_samples_leaf=7, min_samples_split=29;, score=-27.772 total time=   0.0s\n",
      "[CV 5/5] END criterion=squared_error, max_depth=15, min_samples_leaf=7, min_samples_split=29;, score=-42.773 total time=   0.0s\n",
      "[CV 1/5] END criterion=squared_error, max_depth=13, min_samples_leaf=2, min_samples_split=7;, score=-30.150 total time=   0.0s\n",
      "[CV 2/5] END criterion=squared_error, max_depth=13, min_samples_leaf=2, min_samples_split=7;, score=-21.521 total time=   0.0s\n",
      "[CV 3/5] END criterion=squared_error, max_depth=13, min_samples_leaf=2, min_samples_split=7;, score=-29.093 total time=   0.0s\n",
      "[CV 4/5] END criterion=squared_error, max_depth=13, min_samples_leaf=2, min_samples_split=7;, score=-23.205 total time=   0.0s\n",
      "[CV 5/5] END criterion=squared_error, max_depth=13, min_samples_leaf=2, min_samples_split=7;, score=-37.780 total time=   0.0s\n",
      "[CV 1/5] END criterion=squared_error, max_depth=17, min_samples_leaf=6, min_samples_split=47;, score=-27.752 total time=   0.0s\n",
      "[CV 2/5] END criterion=squared_error, max_depth=17, min_samples_leaf=6, min_samples_split=47;, score=-26.179 total time=   0.0s\n",
      "[CV 3/5] END criterion=squared_error, max_depth=17, min_samples_leaf=6, min_samples_split=47;, score=-30.751 total time=   0.0s\n",
      "[CV 4/5] END criterion=squared_error, max_depth=17, min_samples_leaf=6, min_samples_split=47;, score=-26.196 total time=   0.0s\n",
      "[CV 5/5] END criterion=squared_error, max_depth=17, min_samples_leaf=6, min_samples_split=47;, score=-43.969 total time=   0.0s\n",
      "[CV 1/5] END criterion=squared_error, max_depth=17, min_samples_leaf=17, min_samples_split=5;, score=-28.099 total time=   0.0s\n",
      "[CV 2/5] END criterion=squared_error, max_depth=17, min_samples_leaf=17, min_samples_split=5;, score=-26.262 total time=   0.0s\n",
      "[CV 3/5] END criterion=squared_error, max_depth=17, min_samples_leaf=17, min_samples_split=5;, score=-31.006 total time=   0.0s\n",
      "[CV 4/5] END criterion=squared_error, max_depth=17, min_samples_leaf=17, min_samples_split=5;, score=-28.809 total time=   0.0s\n",
      "[CV 5/5] END criterion=squared_error, max_depth=17, min_samples_leaf=17, min_samples_split=5;, score=-42.258 total time=   0.0s\n",
      "[CV 1/5] END criterion=squared_error, max_depth=10, min_samples_leaf=11, min_samples_split=49;, score=-28.894 total time=   0.0s\n",
      "[CV 2/5] END criterion=squared_error, max_depth=10, min_samples_leaf=11, min_samples_split=49;, score=-28.719 total time=   0.0s\n",
      "[CV 3/5] END criterion=squared_error, max_depth=10, min_samples_leaf=11, min_samples_split=49;, score=-32.434 total time=   0.0s\n",
      "[CV 4/5] END criterion=squared_error, max_depth=10, min_samples_leaf=11, min_samples_split=49;, score=-29.176 total time=   0.0s\n",
      "[CV 5/5] END criterion=squared_error, max_depth=10, min_samples_leaf=11, min_samples_split=49;, score=-44.220 total time=   0.0s\n",
      "[CV 1/5] END criterion=squared_error, max_depth=19, min_samples_leaf=6, min_samples_split=47;, score=-27.752 total time=   0.0s\n",
      "[CV 2/5] END criterion=squared_error, max_depth=19, min_samples_leaf=6, min_samples_split=47;, score=-26.179 total time=   0.0s\n",
      "[CV 3/5] END criterion=squared_error, max_depth=19, min_samples_leaf=6, min_samples_split=47;, score=-30.751 total time=   0.0s\n",
      "[CV 4/5] END criterion=squared_error, max_depth=19, min_samples_leaf=6, min_samples_split=47;, score=-26.196 total time=   0.0s\n",
      "[CV 5/5] END criterion=squared_error, max_depth=19, min_samples_leaf=6, min_samples_split=47;, score=-43.969 total time=   0.0s\n",
      "[CV 1/5] END criterion=squared_error, max_depth=5, min_samples_leaf=16, min_samples_split=13;, score=-28.637 total time=   0.0s\n",
      "[CV 2/5] END criterion=squared_error, max_depth=5, min_samples_leaf=16, min_samples_split=13;, score=-29.596 total time=   0.0s\n",
      "[CV 3/5] END criterion=squared_error, max_depth=5, min_samples_leaf=16, min_samples_split=13;, score=-37.065 total time=   0.0s\n",
      "[CV 4/5] END criterion=squared_error, max_depth=5, min_samples_leaf=16, min_samples_split=13;, score=-29.384 total time=   0.0s\n",
      "[CV 5/5] END criterion=squared_error, max_depth=5, min_samples_leaf=16, min_samples_split=13;, score=-43.834 total time=   0.0s\n",
      "[CV 1/5] END criterion=squared_error, max_depth=1, min_samples_leaf=8, min_samples_split=36;, score=-37.130 total time=   0.0s\n",
      "[CV 2/5] END criterion=squared_error, max_depth=1, min_samples_leaf=8, min_samples_split=36;, score=-39.825 total time=   0.0s\n",
      "[CV 3/5] END criterion=squared_error, max_depth=1, min_samples_leaf=8, min_samples_split=36;, score=-42.073 total time=   0.0s\n",
      "[CV 4/5] END criterion=squared_error, max_depth=1, min_samples_leaf=8, min_samples_split=36;, score=-36.297 total time=   0.0s\n",
      "[CV 5/5] END criterion=squared_error, max_depth=1, min_samples_leaf=8, min_samples_split=36;, score=-45.081 total time=   0.0s\n",
      "[CV 1/5] END criterion=squared_error, max_depth=19, min_samples_leaf=1, min_samples_split=45;, score=-28.661 total time=   0.0s\n",
      "[CV 2/5] END criterion=squared_error, max_depth=19, min_samples_leaf=1, min_samples_split=45;, score=-26.097 total time=   0.0s\n",
      "[CV 3/5] END criterion=squared_error, max_depth=19, min_samples_leaf=1, min_samples_split=45;, score=-31.163 total time=   0.0s\n",
      "[CV 4/5] END criterion=squared_error, max_depth=19, min_samples_leaf=1, min_samples_split=45;, score=-24.294 total time=   0.0s\n",
      "[CV 5/5] END criterion=squared_error, max_depth=19, min_samples_leaf=1, min_samples_split=45;, score=-43.719 total time=   0.0s\n",
      "[CV 1/5] END criterion=squared_error, max_depth=17, min_samples_leaf=8, min_samples_split=41;, score=-28.642 total time=   0.0s\n",
      "[CV 2/5] END criterion=squared_error, max_depth=17, min_samples_leaf=8, min_samples_split=41;, score=-27.914 total time=   0.0s\n",
      "[CV 3/5] END criterion=squared_error, max_depth=17, min_samples_leaf=8, min_samples_split=41;, score=-29.236 total time=   0.0s\n",
      "[CV 4/5] END criterion=squared_error, max_depth=17, min_samples_leaf=8, min_samples_split=41;, score=-27.974 total time=   0.0s\n",
      "[CV 5/5] END criterion=squared_error, max_depth=17, min_samples_leaf=8, min_samples_split=41;, score=-43.911 total time=   0.0s\n",
      "[CV 1/5] END criterion=squared_error, max_depth=7, min_samples_leaf=12, min_samples_split=32;, score=-29.645 total time=   0.0s\n",
      "[CV 2/5] END criterion=squared_error, max_depth=7, min_samples_leaf=12, min_samples_split=32;, score=-26.943 total time=   0.0s\n",
      "[CV 3/5] END criterion=squared_error, max_depth=7, min_samples_leaf=12, min_samples_split=32;, score=-31.102 total time=   0.0s\n",
      "[CV 4/5] END criterion=squared_error, max_depth=7, min_samples_leaf=12, min_samples_split=32;, score=-27.898 total time=   0.0s\n",
      "[CV 5/5] END criterion=squared_error, max_depth=7, min_samples_leaf=12, min_samples_split=32;, score=-42.758 total time=   0.0s\n",
      "[CV 1/5] END criterion=squared_error, max_depth=4, min_samples_leaf=15, min_samples_split=2;, score=-32.870 total time=   0.0s\n",
      "[CV 2/5] END criterion=squared_error, max_depth=4, min_samples_leaf=15, min_samples_split=2;, score=-31.996 total time=   0.0s\n",
      "[CV 3/5] END criterion=squared_error, max_depth=4, min_samples_leaf=15, min_samples_split=2;, score=-36.718 total time=   0.0s\n",
      "[CV 4/5] END criterion=squared_error, max_depth=4, min_samples_leaf=15, min_samples_split=2;, score=-31.430 total time=   0.0s\n",
      "[CV 5/5] END criterion=squared_error, max_depth=4, min_samples_leaf=15, min_samples_split=2;, score=-47.520 total time=   0.0s\n",
      "[CV 1/5] END criterion=squared_error, max_depth=9, min_samples_leaf=10, min_samples_split=31;, score=-28.093 total time=   0.0s\n",
      "[CV 2/5] END criterion=squared_error, max_depth=9, min_samples_leaf=10, min_samples_split=31;, score=-28.803 total time=   0.0s\n",
      "[CV 3/5] END criterion=squared_error, max_depth=9, min_samples_leaf=10, min_samples_split=31;, score=-30.930 total time=   0.0s\n",
      "[CV 4/5] END criterion=squared_error, max_depth=9, min_samples_leaf=10, min_samples_split=31;, score=-28.046 total time=   0.0s\n",
      "[CV 5/5] END criterion=squared_error, max_depth=9, min_samples_leaf=10, min_samples_split=31;, score=-41.751 total time=   0.0s\n",
      "[CV 1/5] END criterion=squared_error, max_depth=11, min_samples_leaf=3, min_samples_split=4;, score=-29.094 total time=   0.0s\n",
      "[CV 2/5] END criterion=squared_error, max_depth=11, min_samples_leaf=3, min_samples_split=4;, score=-27.023 total time=   0.0s\n",
      "[CV 3/5] END criterion=squared_error, max_depth=11, min_samples_leaf=3, min_samples_split=4;, score=-28.390 total time=   0.0s\n",
      "[CV 4/5] END criterion=squared_error, max_depth=11, min_samples_leaf=3, min_samples_split=4;, score=-23.731 total time=   0.0s\n",
      "[CV 5/5] END criterion=squared_error, max_depth=11, min_samples_leaf=3, min_samples_split=4;, score=-38.185 total time=   0.0s\n",
      "[CV 1/5] END criterion=squared_error, max_depth=2, min_samples_leaf=13, min_samples_split=18;, score=-35.083 total time=   0.0s\n",
      "[CV 2/5] END criterion=squared_error, max_depth=2, min_samples_leaf=13, min_samples_split=18;, score=-37.943 total time=   0.0s\n",
      "[CV 3/5] END criterion=squared_error, max_depth=2, min_samples_leaf=13, min_samples_split=18;, score=-38.624 total time=   0.0s\n",
      "[CV 4/5] END criterion=squared_error, max_depth=2, min_samples_leaf=13, min_samples_split=18;, score=-33.856 total time=   0.0s\n",
      "[CV 5/5] END criterion=squared_error, max_depth=2, min_samples_leaf=13, min_samples_split=18;, score=-43.702 total time=   0.0s\n",
      "[CV 1/5] END criterion=squared_error, max_depth=19, min_samples_leaf=19, min_samples_split=22;, score=-28.973 total time=   0.0s\n",
      "[CV 2/5] END criterion=squared_error, max_depth=19, min_samples_leaf=19, min_samples_split=22;, score=-26.976 total time=   0.0s\n",
      "[CV 3/5] END criterion=squared_error, max_depth=19, min_samples_leaf=19, min_samples_split=22;, score=-31.757 total time=   0.0s\n",
      "[CV 4/5] END criterion=squared_error, max_depth=19, min_samples_leaf=19, min_samples_split=22;, score=-28.175 total time=   0.0s\n",
      "[CV 5/5] END criterion=squared_error, max_depth=19, min_samples_leaf=19, min_samples_split=22;, score=-44.277 total time=   0.0s\n",
      "[CV 1/5] END criterion=squared_error, max_depth=5, min_samples_leaf=16, min_samples_split=28;, score=-28.637 total time=   0.0s\n",
      "[CV 2/5] END criterion=squared_error, max_depth=5, min_samples_leaf=16, min_samples_split=28;, score=-29.596 total time=   0.0s\n",
      "[CV 3/5] END criterion=squared_error, max_depth=5, min_samples_leaf=16, min_samples_split=28;, score=-37.065 total time=   0.0s\n",
      "[CV 4/5] END criterion=squared_error, max_depth=5, min_samples_leaf=16, min_samples_split=28;, score=-29.384 total time=   0.0s\n",
      "[CV 5/5] END criterion=squared_error, max_depth=5, min_samples_leaf=16, min_samples_split=28;, score=-43.834 total time=   0.0s\n",
      "[CV 1/5] END criterion=squared_error, max_depth=5, min_samples_leaf=2, min_samples_split=41;, score=-31.490 total time=   0.0s\n",
      "[CV 2/5] END criterion=squared_error, max_depth=5, min_samples_leaf=2, min_samples_split=41;, score=-31.998 total time=   0.0s\n",
      "[CV 3/5] END criterion=squared_error, max_depth=5, min_samples_leaf=2, min_samples_split=41;, score=-36.586 total time=   0.0s\n",
      "[CV 4/5] END criterion=squared_error, max_depth=5, min_samples_leaf=2, min_samples_split=41;, score=-28.758 total time=   0.0s\n",
      "[CV 5/5] END criterion=squared_error, max_depth=5, min_samples_leaf=2, min_samples_split=41;, score=-44.564 total time=   0.0s\n",
      "[CV 1/5] END criterion=squared_error, max_depth=19, min_samples_leaf=8, min_samples_split=24;, score=-29.207 total time=   0.0s\n",
      "[CV 2/5] END criterion=squared_error, max_depth=19, min_samples_leaf=8, min_samples_split=24;, score=-26.814 total time=   0.0s\n",
      "[CV 3/5] END criterion=squared_error, max_depth=19, min_samples_leaf=8, min_samples_split=24;, score=-28.280 total time=   0.0s\n",
      "[CV 4/5] END criterion=squared_error, max_depth=19, min_samples_leaf=8, min_samples_split=24;, score=-28.097 total time=   0.0s\n",
      "[CV 5/5] END criterion=squared_error, max_depth=19, min_samples_leaf=8, min_samples_split=24;, score=-41.447 total time=   0.0s\n",
      "[CV 1/5] END criterion=squared_error, max_depth=5, min_samples_leaf=18, min_samples_split=17;, score=-28.426 total time=   0.0s\n",
      "[CV 2/5] END criterion=squared_error, max_depth=5, min_samples_leaf=18, min_samples_split=17;, score=-29.596 total time=   0.0s\n",
      "[CV 3/5] END criterion=squared_error, max_depth=5, min_samples_leaf=18, min_samples_split=17;, score=-36.994 total time=   0.0s\n",
      "[CV 4/5] END criterion=squared_error, max_depth=5, min_samples_leaf=18, min_samples_split=17;, score=-29.434 total time=   0.0s\n",
      "[CV 5/5] END criterion=squared_error, max_depth=5, min_samples_leaf=18, min_samples_split=17;, score=-45.780 total time=   0.0s\n",
      "[CV 1/5] END criterion=squared_error, max_depth=8, min_samples_leaf=19, min_samples_split=15;, score=-28.973 total time=   0.0s\n",
      "[CV 2/5] END criterion=squared_error, max_depth=8, min_samples_leaf=19, min_samples_split=15;, score=-26.942 total time=   0.0s\n",
      "[CV 3/5] END criterion=squared_error, max_depth=8, min_samples_leaf=19, min_samples_split=15;, score=-31.219 total time=   0.0s\n",
      "[CV 4/5] END criterion=squared_error, max_depth=8, min_samples_leaf=19, min_samples_split=15;, score=-28.175 total time=   0.0s\n",
      "[CV 5/5] END criterion=squared_error, max_depth=8, min_samples_leaf=19, min_samples_split=15;, score=-44.996 total time=   0.0s\n",
      "[CV 1/5] END criterion=squared_error, max_depth=18, min_samples_leaf=9, min_samples_split=28;, score=-28.722 total time=   0.0s\n",
      "[CV 2/5] END criterion=squared_error, max_depth=18, min_samples_leaf=9, min_samples_split=28;, score=-25.723 total time=   0.0s\n",
      "[CV 3/5] END criterion=squared_error, max_depth=18, min_samples_leaf=9, min_samples_split=28;, score=-27.522 total time=   0.0s\n",
      "[CV 4/5] END criterion=squared_error, max_depth=18, min_samples_leaf=9, min_samples_split=28;, score=-27.973 total time=   0.0s\n",
      "[CV 5/5] END criterion=squared_error, max_depth=18, min_samples_leaf=9, min_samples_split=28;, score=-41.967 total time=   0.0s\n",
      "[CV 1/5] END criterion=squared_error, max_depth=17, min_samples_leaf=8, min_samples_split=21;, score=-28.478 total time=   0.0s\n",
      "[CV 2/5] END criterion=squared_error, max_depth=17, min_samples_leaf=8, min_samples_split=21;, score=-26.934 total time=   0.0s\n",
      "[CV 3/5] END criterion=squared_error, max_depth=17, min_samples_leaf=8, min_samples_split=21;, score=-28.200 total time=   0.0s\n",
      "[CV 4/5] END criterion=squared_error, max_depth=17, min_samples_leaf=8, min_samples_split=21;, score=-27.755 total time=   0.0s\n",
      "[CV 5/5] END criterion=squared_error, max_depth=17, min_samples_leaf=8, min_samples_split=21;, score=-40.559 total time=   0.0s\n",
      "[CV 1/5] END criterion=squared_error, max_depth=14, min_samples_leaf=12, min_samples_split=31;, score=-29.302 total time=   0.0s\n",
      "[CV 2/5] END criterion=squared_error, max_depth=14, min_samples_leaf=12, min_samples_split=31;, score=-25.607 total time=   0.0s\n",
      "[CV 3/5] END criterion=squared_error, max_depth=14, min_samples_leaf=12, min_samples_split=31;, score=-30.883 total time=   0.0s\n",
      "[CV 4/5] END criterion=squared_error, max_depth=14, min_samples_leaf=12, min_samples_split=31;, score=-28.702 total time=   0.0s\n",
      "[CV 5/5] END criterion=squared_error, max_depth=14, min_samples_leaf=12, min_samples_split=31;, score=-41.183 total time=   0.0s\n",
      "[CV 1/5] END criterion=squared_error, max_depth=8, min_samples_leaf=5, min_samples_split=19;, score=-27.179 total time=   0.0s\n",
      "[CV 2/5] END criterion=squared_error, max_depth=8, min_samples_leaf=5, min_samples_split=19;, score=-29.737 total time=   0.0s\n",
      "[CV 3/5] END criterion=squared_error, max_depth=8, min_samples_leaf=5, min_samples_split=19;, score=-29.244 total time=   0.0s\n",
      "[CV 4/5] END criterion=squared_error, max_depth=8, min_samples_leaf=5, min_samples_split=19;, score=-27.599 total time=   0.0s\n",
      "[CV 5/5] END criterion=squared_error, max_depth=8, min_samples_leaf=5, min_samples_split=19;, score=-41.533 total time=   0.0s\n",
      "[CV 1/5] END criterion=squared_error, max_depth=13, min_samples_leaf=6, min_samples_split=7;, score=-28.403 total time=   0.0s\n",
      "[CV 2/5] END criterion=squared_error, max_depth=13, min_samples_leaf=6, min_samples_split=7;, score=-25.050 total time=   0.0s\n",
      "[CV 3/5] END criterion=squared_error, max_depth=13, min_samples_leaf=6, min_samples_split=7;, score=-29.806 total time=   0.0s\n",
      "[CV 4/5] END criterion=squared_error, max_depth=13, min_samples_leaf=6, min_samples_split=7;, score=-26.540 total time=   0.0s\n",
      "[CV 5/5] END criterion=squared_error, max_depth=13, min_samples_leaf=6, min_samples_split=7;, score=-43.237 total time=   0.0s\n",
      "[CV 1/5] END criterion=squared_error, max_depth=4, min_samples_leaf=6, min_samples_split=47;, score=-32.175 total time=   0.0s\n",
      "[CV 2/5] END criterion=squared_error, max_depth=4, min_samples_leaf=6, min_samples_split=47;, score=-33.965 total time=   0.0s\n",
      "[CV 3/5] END criterion=squared_error, max_depth=4, min_samples_leaf=6, min_samples_split=47;, score=-36.573 total time=   0.0s\n",
      "[CV 4/5] END criterion=squared_error, max_depth=4, min_samples_leaf=6, min_samples_split=47;, score=-32.083 total time=   0.0s\n",
      "[CV 5/5] END criterion=squared_error, max_depth=4, min_samples_leaf=6, min_samples_split=47;, score=-47.008 total time=   0.0s\n",
      "[CV 1/5] END criterion=squared_error, max_depth=13, min_samples_leaf=3, min_samples_split=25;, score=-29.887 total time=   0.0s\n",
      "[CV 2/5] END criterion=squared_error, max_depth=13, min_samples_leaf=3, min_samples_split=25;, score=-24.288 total time=   0.0s\n",
      "[CV 3/5] END criterion=squared_error, max_depth=13, min_samples_leaf=3, min_samples_split=25;, score=-28.291 total time=   0.0s\n",
      "[CV 4/5] END criterion=squared_error, max_depth=13, min_samples_leaf=3, min_samples_split=25;, score=-23.255 total time=   0.0s\n",
      "[CV 5/5] END criterion=squared_error, max_depth=13, min_samples_leaf=3, min_samples_split=25;, score=-35.412 total time=   0.0s\n",
      "[CV 1/5] END criterion=squared_error, max_depth=3, min_samples_leaf=9, min_samples_split=2;, score=-31.919 total time=   0.0s\n",
      "[CV 2/5] END criterion=squared_error, max_depth=3, min_samples_leaf=9, min_samples_split=2;, score=-36.337 total time=   0.0s\n",
      "[CV 3/5] END criterion=squared_error, max_depth=3, min_samples_leaf=9, min_samples_split=2;, score=-37.317 total time=   0.0s\n",
      "[CV 4/5] END criterion=squared_error, max_depth=3, min_samples_leaf=9, min_samples_split=2;, score=-35.229 total time=   0.0s\n",
      "[CV 5/5] END criterion=squared_error, max_depth=3, min_samples_leaf=9, min_samples_split=2;, score=-45.846 total time=   0.0s\n",
      "[CV 1/5] END criterion=squared_error, max_depth=18, min_samples_leaf=14, min_samples_split=33;, score=-29.670 total time=   0.0s\n",
      "[CV 2/5] END criterion=squared_error, max_depth=18, min_samples_leaf=14, min_samples_split=33;, score=-25.675 total time=   0.0s\n",
      "[CV 3/5] END criterion=squared_error, max_depth=18, min_samples_leaf=14, min_samples_split=33;, score=-31.104 total time=   0.0s\n",
      "[CV 4/5] END criterion=squared_error, max_depth=18, min_samples_leaf=14, min_samples_split=33;, score=-28.909 total time=   0.0s\n",
      "[CV 5/5] END criterion=squared_error, max_depth=18, min_samples_leaf=14, min_samples_split=33;, score=-41.927 total time=   0.0s\n",
      "[CV 1/5] END criterion=squared_error, max_depth=19, min_samples_leaf=14, min_samples_split=15;, score=-30.362 total time=   0.0s\n",
      "[CV 2/5] END criterion=squared_error, max_depth=19, min_samples_leaf=14, min_samples_split=15;, score=-26.353 total time=   0.0s\n",
      "[CV 3/5] END criterion=squared_error, max_depth=19, min_samples_leaf=14, min_samples_split=15;, score=-30.833 total time=   0.0s\n",
      "[CV 4/5] END criterion=squared_error, max_depth=19, min_samples_leaf=14, min_samples_split=15;, score=-29.216 total time=   0.0s\n",
      "[CV 5/5] END criterion=squared_error, max_depth=19, min_samples_leaf=14, min_samples_split=15;, score=-40.940 total time=   0.0s\n",
      "[CV 1/5] END criterion=squared_error, max_depth=1, min_samples_leaf=13, min_samples_split=38;, score=-37.130 total time=   0.0s\n",
      "[CV 2/5] END criterion=squared_error, max_depth=1, min_samples_leaf=13, min_samples_split=38;, score=-39.825 total time=   0.0s\n",
      "[CV 3/5] END criterion=squared_error, max_depth=1, min_samples_leaf=13, min_samples_split=38;, score=-42.073 total time=   0.0s\n",
      "[CV 4/5] END criterion=squared_error, max_depth=1, min_samples_leaf=13, min_samples_split=38;, score=-36.297 total time=   0.0s\n",
      "[CV 5/5] END criterion=squared_error, max_depth=1, min_samples_leaf=13, min_samples_split=38;, score=-45.081 total time=   0.0s\n",
      "[CV 1/5] END criterion=squared_error, max_depth=4, min_samples_leaf=13, min_samples_split=17;, score=-32.870 total time=   0.0s\n",
      "[CV 2/5] END criterion=squared_error, max_depth=4, min_samples_leaf=13, min_samples_split=17;, score=-32.018 total time=   0.0s\n",
      "[CV 3/5] END criterion=squared_error, max_depth=4, min_samples_leaf=13, min_samples_split=17;, score=-36.697 total time=   0.0s\n",
      "[CV 4/5] END criterion=squared_error, max_depth=4, min_samples_leaf=13, min_samples_split=17;, score=-31.430 total time=   0.0s\n",
      "[CV 5/5] END criterion=squared_error, max_depth=4, min_samples_leaf=13, min_samples_split=17;, score=-47.520 total time=   0.0s\n",
      "[CV 1/5] END criterion=squared_error, max_depth=4, min_samples_leaf=6, min_samples_split=31;, score=-31.779 total time=   0.0s\n",
      "[CV 2/5] END criterion=squared_error, max_depth=4, min_samples_leaf=6, min_samples_split=31;, score=-33.704 total time=   0.0s\n",
      "[CV 3/5] END criterion=squared_error, max_depth=4, min_samples_leaf=6, min_samples_split=31;, score=-36.573 total time=   0.0s\n",
      "[CV 4/5] END criterion=squared_error, max_depth=4, min_samples_leaf=6, min_samples_split=31;, score=-32.418 total time=   0.0s\n",
      "[CV 5/5] END criterion=squared_error, max_depth=4, min_samples_leaf=6, min_samples_split=31;, score=-47.008 total time=   0.0s\n",
      "[CV 1/5] END criterion=squared_error, max_depth=2, min_samples_leaf=16, min_samples_split=45;, score=-35.083 total time=   0.0s\n",
      "[CV 2/5] END criterion=squared_error, max_depth=2, min_samples_leaf=16, min_samples_split=45;, score=-37.943 total time=   0.0s\n",
      "[CV 3/5] END criterion=squared_error, max_depth=2, min_samples_leaf=16, min_samples_split=45;, score=-38.624 total time=   0.0s\n",
      "[CV 4/5] END criterion=squared_error, max_depth=2, min_samples_leaf=16, min_samples_split=45;, score=-33.856 total time=   0.0s\n",
      "[CV 5/5] END criterion=squared_error, max_depth=2, min_samples_leaf=16, min_samples_split=45;, score=-43.702 total time=   0.0s\n",
      "[CV 1/5] END criterion=squared_error, max_depth=14, min_samples_leaf=17, min_samples_split=8;, score=-28.099 total time=   0.0s\n",
      "[CV 2/5] END criterion=squared_error, max_depth=14, min_samples_leaf=17, min_samples_split=8;, score=-26.262 total time=   0.0s\n",
      "[CV 3/5] END criterion=squared_error, max_depth=14, min_samples_leaf=17, min_samples_split=8;, score=-31.006 total time=   0.0s\n",
      "[CV 4/5] END criterion=squared_error, max_depth=14, min_samples_leaf=17, min_samples_split=8;, score=-28.809 total time=   0.0s\n",
      "[CV 5/5] END criterion=squared_error, max_depth=14, min_samples_leaf=17, min_samples_split=8;, score=-42.258 total time=   0.0s\n",
      "[CV 1/5] END criterion=squared_error, max_depth=10, min_samples_leaf=9, min_samples_split=19;, score=-28.245 total time=   0.0s\n",
      "[CV 2/5] END criterion=squared_error, max_depth=10, min_samples_leaf=9, min_samples_split=19;, score=-29.065 total time=   0.0s\n",
      "[CV 3/5] END criterion=squared_error, max_depth=10, min_samples_leaf=9, min_samples_split=19;, score=-28.047 total time=   0.0s\n",
      "[CV 4/5] END criterion=squared_error, max_depth=10, min_samples_leaf=9, min_samples_split=19;, score=-28.043 total time=   0.0s\n",
      "[CV 5/5] END criterion=squared_error, max_depth=10, min_samples_leaf=9, min_samples_split=19;, score=-41.761 total time=   0.0s\n",
      "[CV 1/5] END criterion=squared_error, max_depth=7, min_samples_leaf=12, min_samples_split=33;, score=-29.645 total time=   0.0s\n",
      "[CV 2/5] END criterion=squared_error, max_depth=7, min_samples_leaf=12, min_samples_split=33;, score=-26.943 total time=   0.0s\n",
      "[CV 3/5] END criterion=squared_error, max_depth=7, min_samples_leaf=12, min_samples_split=33;, score=-31.001 total time=   0.0s\n",
      "[CV 4/5] END criterion=squared_error, max_depth=7, min_samples_leaf=12, min_samples_split=33;, score=-27.898 total time=   0.0s\n",
      "[CV 5/5] END criterion=squared_error, max_depth=7, min_samples_leaf=12, min_samples_split=33;, score=-42.758 total time=   0.0s\n",
      "[CV 1/5] END criterion=squared_error, max_depth=3, min_samples_leaf=10, min_samples_split=35;, score=-32.105 total time=   0.0s\n",
      "[CV 2/5] END criterion=squared_error, max_depth=3, min_samples_leaf=10, min_samples_split=35;, score=-36.338 total time=   0.0s\n",
      "[CV 3/5] END criterion=squared_error, max_depth=3, min_samples_leaf=10, min_samples_split=35;, score=-37.343 total time=   0.0s\n",
      "[CV 4/5] END criterion=squared_error, max_depth=3, min_samples_leaf=10, min_samples_split=35;, score=-35.320 total time=   0.0s\n",
      "[CV 5/5] END criterion=squared_error, max_depth=3, min_samples_leaf=10, min_samples_split=35;, score=-45.966 total time=   0.0s\n",
      "[CV 1/5] END criterion=squared_error, max_depth=19, min_samples_leaf=2, min_samples_split=27;, score=-28.431 total time=   0.0s\n",
      "[CV 2/5] END criterion=squared_error, max_depth=19, min_samples_leaf=2, min_samples_split=27;, score=-20.570 total time=   0.0s\n",
      "[CV 3/5] END criterion=squared_error, max_depth=19, min_samples_leaf=2, min_samples_split=27;, score=-28.904 total time=   0.0s\n",
      "[CV 4/5] END criterion=squared_error, max_depth=19, min_samples_leaf=2, min_samples_split=27;, score=-22.329 total time=   0.0s\n",
      "[CV 5/5] END criterion=squared_error, max_depth=19, min_samples_leaf=2, min_samples_split=27;, score=-35.703 total time=   0.0s\n",
      "[CV 1/5] END criterion=squared_error, max_depth=2, min_samples_leaf=19, min_samples_split=2;, score=-35.083 total time=   0.0s\n",
      "[CV 2/5] END criterion=squared_error, max_depth=2, min_samples_leaf=19, min_samples_split=2;, score=-37.943 total time=   0.0s\n",
      "[CV 3/5] END criterion=squared_error, max_depth=2, min_samples_leaf=19, min_samples_split=2;, score=-38.624 total time=   0.0s\n",
      "[CV 4/5] END criterion=squared_error, max_depth=2, min_samples_leaf=19, min_samples_split=2;, score=-33.856 total time=   0.0s\n",
      "[CV 5/5] END criterion=squared_error, max_depth=2, min_samples_leaf=19, min_samples_split=2;, score=-43.702 total time=   0.0s\n",
      "[CV 1/5] END criterion=squared_error, max_depth=8, min_samples_leaf=1, min_samples_split=2;, score=-30.623 total time=   0.0s\n",
      "[CV 2/5] END criterion=squared_error, max_depth=8, min_samples_leaf=1, min_samples_split=2;, score=-30.667 total time=   0.0s\n",
      "[CV 3/5] END criterion=squared_error, max_depth=8, min_samples_leaf=1, min_samples_split=2;, score=-27.964 total time=   0.0s\n",
      "[CV 4/5] END criterion=squared_error, max_depth=8, min_samples_leaf=1, min_samples_split=2;, score=-24.387 total time=   0.0s\n",
      "[CV 5/5] END criterion=squared_error, max_depth=8, min_samples_leaf=1, min_samples_split=2;, score=-38.348 total time=   0.0s\n",
      "[CV 1/5] END criterion=squared_error, max_depth=13, min_samples_leaf=16, min_samples_split=14;, score=-30.135 total time=   0.0s\n",
      "[CV 2/5] END criterion=squared_error, max_depth=13, min_samples_leaf=16, min_samples_split=14;, score=-26.051 total time=   0.0s\n",
      "[CV 3/5] END criterion=squared_error, max_depth=13, min_samples_leaf=16, min_samples_split=14;, score=-30.990 total time=   0.0s\n",
      "[CV 4/5] END criterion=squared_error, max_depth=13, min_samples_leaf=16, min_samples_split=14;, score=-28.986 total time=   0.0s\n",
      "[CV 5/5] END criterion=squared_error, max_depth=13, min_samples_leaf=16, min_samples_split=14;, score=-41.384 total time=   0.0s\n",
      "[CV 1/5] END criterion=squared_error, max_depth=17, min_samples_leaf=1, min_samples_split=7;, score=-32.302 total time=   0.0s\n",
      "[CV 2/5] END criterion=squared_error, max_depth=17, min_samples_leaf=1, min_samples_split=7;, score=-23.521 total time=   0.0s\n",
      "[CV 3/5] END criterion=squared_error, max_depth=17, min_samples_leaf=1, min_samples_split=7;, score=-30.534 total time=   0.0s\n",
      "[CV 4/5] END criterion=squared_error, max_depth=17, min_samples_leaf=1, min_samples_split=7;, score=-23.203 total time=   0.0s\n",
      "[CV 5/5] END criterion=squared_error, max_depth=17, min_samples_leaf=1, min_samples_split=7;, score=-38.934 total time=   0.0s\n",
      "[CV 1/5] END criterion=squared_error, max_depth=7, min_samples_leaf=6, min_samples_split=49;, score=-28.997 total time=   0.0s\n",
      "[CV 2/5] END criterion=squared_error, max_depth=7, min_samples_leaf=6, min_samples_split=49;, score=-30.316 total time=   0.0s\n",
      "[CV 3/5] END criterion=squared_error, max_depth=7, min_samples_leaf=6, min_samples_split=49;, score=-30.809 total time=   0.0s\n",
      "[CV 4/5] END criterion=squared_error, max_depth=7, min_samples_leaf=6, min_samples_split=49;, score=-28.415 total time=   0.0s\n",
      "[CV 5/5] END criterion=squared_error, max_depth=7, min_samples_leaf=6, min_samples_split=49;, score=-44.256 total time=   0.0s\n",
      "[CV 1/5] END criterion=squared_error, max_depth=7, min_samples_leaf=3, min_samples_split=43;, score=-30.522 total time=   0.0s\n",
      "[CV 2/5] END criterion=squared_error, max_depth=7, min_samples_leaf=3, min_samples_split=43;, score=-29.411 total time=   0.0s\n",
      "[CV 3/5] END criterion=squared_error, max_depth=7, min_samples_leaf=3, min_samples_split=43;, score=-31.635 total time=   0.0s\n",
      "[CV 4/5] END criterion=squared_error, max_depth=7, min_samples_leaf=3, min_samples_split=43;, score=-27.007 total time=   0.0s\n",
      "[CV 5/5] END criterion=squared_error, max_depth=7, min_samples_leaf=3, min_samples_split=43;, score=-44.621 total time=   0.0s\n",
      "[CV 1/5] END criterion=squared_error, max_depth=2, min_samples_leaf=1, min_samples_split=2;, score=-33.700 total time=   0.0s\n",
      "[CV 2/5] END criterion=squared_error, max_depth=2, min_samples_leaf=1, min_samples_split=2;, score=-38.907 total time=   0.0s\n",
      "[CV 3/5] END criterion=squared_error, max_depth=2, min_samples_leaf=1, min_samples_split=2;, score=-38.624 total time=   0.0s\n",
      "[CV 4/5] END criterion=squared_error, max_depth=2, min_samples_leaf=1, min_samples_split=2;, score=-35.979 total time=   0.0s\n",
      "[CV 5/5] END criterion=squared_error, max_depth=2, min_samples_leaf=1, min_samples_split=2;, score=-43.702 total time=   0.0s\n",
      "[CV 1/5] END criterion=squared_error, max_depth=1, min_samples_leaf=12, min_samples_split=45;, score=-37.130 total time=   0.0s\n",
      "[CV 2/5] END criterion=squared_error, max_depth=1, min_samples_leaf=12, min_samples_split=45;, score=-39.825 total time=   0.0s\n",
      "[CV 3/5] END criterion=squared_error, max_depth=1, min_samples_leaf=12, min_samples_split=45;, score=-42.073 total time=   0.0s\n",
      "[CV 4/5] END criterion=squared_error, max_depth=1, min_samples_leaf=12, min_samples_split=45;, score=-36.297 total time=   0.0s\n",
      "[CV 5/5] END criterion=squared_error, max_depth=1, min_samples_leaf=12, min_samples_split=45;, score=-45.081 total time=   0.0s\n",
      "[CV 1/5] END criterion=squared_error, max_depth=13, min_samples_leaf=4, min_samples_split=21;, score=-30.332 total time=   0.0s\n",
      "[CV 2/5] END criterion=squared_error, max_depth=13, min_samples_leaf=4, min_samples_split=21;, score=-25.594 total time=   0.0s\n",
      "[CV 3/5] END criterion=squared_error, max_depth=13, min_samples_leaf=4, min_samples_split=21;, score=-27.715 total time=   0.0s\n",
      "[CV 4/5] END criterion=squared_error, max_depth=13, min_samples_leaf=4, min_samples_split=21;, score=-25.338 total time=   0.0s\n",
      "[CV 5/5] END criterion=squared_error, max_depth=13, min_samples_leaf=4, min_samples_split=21;, score=-41.202 total time=   0.0s\n",
      "[CV 1/5] END criterion=squared_error, max_depth=13, min_samples_leaf=17, min_samples_split=45;, score=-28.342 total time=   0.0s\n",
      "[CV 2/5] END criterion=squared_error, max_depth=13, min_samples_leaf=17, min_samples_split=45;, score=-26.136 total time=   0.0s\n",
      "[CV 3/5] END criterion=squared_error, max_depth=13, min_samples_leaf=17, min_samples_split=45;, score=-32.527 total time=   0.0s\n",
      "[CV 4/5] END criterion=squared_error, max_depth=13, min_samples_leaf=17, min_samples_split=45;, score=-28.799 total time=   0.0s\n",
      "[CV 5/5] END criterion=squared_error, max_depth=13, min_samples_leaf=17, min_samples_split=45;, score=-44.841 total time=   0.0s\n",
      "[CV 1/5] END criterion=squared_error, max_depth=10, min_samples_leaf=8, min_samples_split=34;, score=-28.988 total time=   0.0s\n",
      "[CV 2/5] END criterion=squared_error, max_depth=10, min_samples_leaf=8, min_samples_split=34;, score=-28.219 total time=   0.0s\n",
      "[CV 3/5] END criterion=squared_error, max_depth=10, min_samples_leaf=8, min_samples_split=34;, score=-29.294 total time=   0.0s\n",
      "[CV 4/5] END criterion=squared_error, max_depth=10, min_samples_leaf=8, min_samples_split=34;, score=-28.122 total time=   0.0s\n",
      "[CV 5/5] END criterion=squared_error, max_depth=10, min_samples_leaf=8, min_samples_split=34;, score=-42.987 total time=   0.0s\n",
      "[CV 1/5] END criterion=squared_error, max_depth=4, min_samples_leaf=12, min_samples_split=38;, score=-32.870 total time=   0.0s\n",
      "[CV 2/5] END criterion=squared_error, max_depth=4, min_samples_leaf=12, min_samples_split=38;, score=-31.996 total time=   0.0s\n",
      "[CV 3/5] END criterion=squared_error, max_depth=4, min_samples_leaf=12, min_samples_split=38;, score=-36.718 total time=   0.0s\n",
      "[CV 4/5] END criterion=squared_error, max_depth=4, min_samples_leaf=12, min_samples_split=38;, score=-31.430 total time=   0.0s\n",
      "[CV 5/5] END criterion=squared_error, max_depth=4, min_samples_leaf=12, min_samples_split=38;, score=-47.520 total time=   0.0s\n",
      "[CV 1/5] END criterion=squared_error, max_depth=15, min_samples_leaf=7, min_samples_split=8;, score=-28.054 total time=   0.0s\n",
      "[CV 2/5] END criterion=squared_error, max_depth=15, min_samples_leaf=7, min_samples_split=8;, score=-26.781 total time=   0.0s\n",
      "[CV 3/5] END criterion=squared_error, max_depth=15, min_samples_leaf=7, min_samples_split=8;, score=-28.946 total time=   0.0s\n",
      "[CV 4/5] END criterion=squared_error, max_depth=15, min_samples_leaf=7, min_samples_split=8;, score=-27.634 total time=   0.0s\n",
      "[CV 5/5] END criterion=squared_error, max_depth=15, min_samples_leaf=7, min_samples_split=8;, score=-42.809 total time=   0.0s\n",
      "[CV 1/5] END criterion=squared_error, max_depth=6, min_samples_leaf=4, min_samples_split=49;, score=-30.744 total time=   0.0s\n",
      "[CV 2/5] END criterion=squared_error, max_depth=6, min_samples_leaf=4, min_samples_split=49;, score=-31.584 total time=   0.0s\n",
      "[CV 3/5] END criterion=squared_error, max_depth=6, min_samples_leaf=4, min_samples_split=49;, score=-34.935 total time=   0.0s\n",
      "[CV 4/5] END criterion=squared_error, max_depth=6, min_samples_leaf=4, min_samples_split=49;, score=-28.249 total time=   0.0s\n",
      "[CV 5/5] END criterion=squared_error, max_depth=6, min_samples_leaf=4, min_samples_split=49;, score=-44.928 total time=   0.0s\n",
      "[CV 1/5] END criterion=squared_error, max_depth=11, min_samples_leaf=17, min_samples_split=9;, score=-28.099 total time=   0.0s\n",
      "[CV 2/5] END criterion=squared_error, max_depth=11, min_samples_leaf=17, min_samples_split=9;, score=-26.262 total time=   0.0s\n",
      "[CV 3/5] END criterion=squared_error, max_depth=11, min_samples_leaf=17, min_samples_split=9;, score=-31.006 total time=   0.0s\n",
      "[CV 4/5] END criterion=squared_error, max_depth=11, min_samples_leaf=17, min_samples_split=9;, score=-28.809 total time=   0.0s\n",
      "[CV 5/5] END criterion=squared_error, max_depth=11, min_samples_leaf=17, min_samples_split=9;, score=-42.258 total time=   0.0s\n",
      "[CV 1/5] END criterion=squared_error, max_depth=9, min_samples_leaf=13, min_samples_split=39;, score=-30.237 total time=   0.0s\n",
      "[CV 2/5] END criterion=squared_error, max_depth=9, min_samples_leaf=13, min_samples_split=39;, score=-25.529 total time=   0.0s\n",
      "[CV 3/5] END criterion=squared_error, max_depth=9, min_samples_leaf=13, min_samples_split=39;, score=-30.601 total time=   0.0s\n",
      "[CV 4/5] END criterion=squared_error, max_depth=9, min_samples_leaf=13, min_samples_split=39;, score=-28.978 total time=   0.0s\n",
      "[CV 5/5] END criterion=squared_error, max_depth=9, min_samples_leaf=13, min_samples_split=39;, score=-43.886 total time=   0.0s\n",
      "[CV 1/5] END criterion=squared_error, max_depth=14, min_samples_leaf=18, min_samples_split=16;, score=-29.270 total time=   0.0s\n",
      "[CV 2/5] END criterion=squared_error, max_depth=14, min_samples_leaf=18, min_samples_split=16;, score=-26.313 total time=   0.0s\n",
      "[CV 3/5] END criterion=squared_error, max_depth=14, min_samples_leaf=18, min_samples_split=16;, score=-30.671 total time=   0.0s\n",
      "[CV 4/5] END criterion=squared_error, max_depth=14, min_samples_leaf=18, min_samples_split=16;, score=-28.289 total time=   0.0s\n",
      "[CV 5/5] END criterion=squared_error, max_depth=14, min_samples_leaf=18, min_samples_split=16;, score=-44.161 total time=   0.0s\n",
      "[CV 1/5] END criterion=squared_error, max_depth=17, min_samples_leaf=15, min_samples_split=25;, score=-28.495 total time=   0.0s\n",
      "[CV 2/5] END criterion=squared_error, max_depth=17, min_samples_leaf=15, min_samples_split=25;, score=-25.787 total time=   0.0s\n",
      "[CV 3/5] END criterion=squared_error, max_depth=17, min_samples_leaf=15, min_samples_split=25;, score=-31.212 total time=   0.0s\n",
      "[CV 4/5] END criterion=squared_error, max_depth=17, min_samples_leaf=15, min_samples_split=25;, score=-28.851 total time=   0.0s\n",
      "[CV 5/5] END criterion=squared_error, max_depth=17, min_samples_leaf=15, min_samples_split=25;, score=-40.795 total time=   0.0s\n",
      "[CV 1/5] END criterion=squared_error, max_depth=9, min_samples_leaf=2, min_samples_split=31;, score=-29.675 total time=   0.0s\n",
      "[CV 2/5] END criterion=squared_error, max_depth=9, min_samples_leaf=2, min_samples_split=31;, score=-26.584 total time=   0.0s\n",
      "[CV 3/5] END criterion=squared_error, max_depth=9, min_samples_leaf=2, min_samples_split=31;, score=-29.131 total time=   0.0s\n",
      "[CV 4/5] END criterion=squared_error, max_depth=9, min_samples_leaf=2, min_samples_split=31;, score=-24.766 total time=   0.0s\n",
      "[CV 5/5] END criterion=squared_error, max_depth=9, min_samples_leaf=2, min_samples_split=31;, score=-35.689 total time=   0.0s\n",
      "[CV 1/5] END criterion=squared_error, max_depth=2, min_samples_leaf=6, min_samples_split=11;, score=-33.700 total time=   0.0s\n",
      "[CV 2/5] END criterion=squared_error, max_depth=2, min_samples_leaf=6, min_samples_split=11;, score=-38.907 total time=   0.0s\n",
      "[CV 3/5] END criterion=squared_error, max_depth=2, min_samples_leaf=6, min_samples_split=11;, score=-38.624 total time=   0.0s\n",
      "[CV 4/5] END criterion=squared_error, max_depth=2, min_samples_leaf=6, min_samples_split=11;, score=-35.979 total time=   0.0s\n",
      "[CV 5/5] END criterion=squared_error, max_depth=2, min_samples_leaf=6, min_samples_split=11;, score=-43.702 total time=   0.0s\n",
      "[CV 1/5] END criterion=squared_error, max_depth=18, min_samples_leaf=3, min_samples_split=35;, score=-27.959 total time=   0.0s\n",
      "[CV 2/5] END criterion=squared_error, max_depth=18, min_samples_leaf=3, min_samples_split=35;, score=-24.522 total time=   0.0s\n",
      "[CV 3/5] END criterion=squared_error, max_depth=18, min_samples_leaf=3, min_samples_split=35;, score=-30.414 total time=   0.0s\n",
      "[CV 4/5] END criterion=squared_error, max_depth=18, min_samples_leaf=3, min_samples_split=35;, score=-22.506 total time=   0.0s\n",
      "[CV 5/5] END criterion=squared_error, max_depth=18, min_samples_leaf=3, min_samples_split=35;, score=-35.606 total time=   0.0s\n",
      "[CV 1/5] END criterion=squared_error, max_depth=6, min_samples_leaf=12, min_samples_split=2;, score=-29.604 total time=   0.0s\n",
      "[CV 2/5] END criterion=squared_error, max_depth=6, min_samples_leaf=12, min_samples_split=2;, score=-28.659 total time=   0.0s\n",
      "[CV 3/5] END criterion=squared_error, max_depth=6, min_samples_leaf=12, min_samples_split=2;, score=-31.868 total time=   0.0s\n",
      "[CV 4/5] END criterion=squared_error, max_depth=6, min_samples_leaf=12, min_samples_split=2;, score=-28.764 total time=   0.0s\n",
      "[CV 5/5] END criterion=squared_error, max_depth=6, min_samples_leaf=12, min_samples_split=2;, score=-42.355 total time=   0.0s\n",
      "[CV 1/5] END criterion=squared_error, max_depth=7, min_samples_leaf=8, min_samples_split=9;, score=-28.815 total time=   0.0s\n",
      "[CV 2/5] END criterion=squared_error, max_depth=7, min_samples_leaf=8, min_samples_split=9;, score=-31.355 total time=   0.0s\n",
      "[CV 3/5] END criterion=squared_error, max_depth=7, min_samples_leaf=8, min_samples_split=9;, score=-28.994 total time=   0.0s\n",
      "[CV 4/5] END criterion=squared_error, max_depth=7, min_samples_leaf=8, min_samples_split=9;, score=-31.348 total time=   0.0s\n",
      "[CV 5/5] END criterion=squared_error, max_depth=7, min_samples_leaf=8, min_samples_split=9;, score=-41.501 total time=   0.0s\n",
      "[CV 1/5] END criterion=squared_error, max_depth=15, min_samples_leaf=4, min_samples_split=35;, score=-28.978 total time=   0.0s\n",
      "[CV 2/5] END criterion=squared_error, max_depth=15, min_samples_leaf=4, min_samples_split=35;, score=-24.522 total time=   0.0s\n",
      "[CV 3/5] END criterion=squared_error, max_depth=15, min_samples_leaf=4, min_samples_split=35;, score=-30.853 total time=   0.0s\n",
      "[CV 4/5] END criterion=squared_error, max_depth=15, min_samples_leaf=4, min_samples_split=35;, score=-24.793 total time=   0.0s\n",
      "[CV 5/5] END criterion=squared_error, max_depth=15, min_samples_leaf=4, min_samples_split=35;, score=-41.153 total time=   0.0s\n",
      "[CV 1/5] END criterion=squared_error, max_depth=19, min_samples_leaf=18, min_samples_split=43;, score=-29.217 total time=   0.0s\n",
      "[CV 2/5] END criterion=squared_error, max_depth=19, min_samples_leaf=18, min_samples_split=43;, score=-26.103 total time=   0.0s\n",
      "[CV 3/5] END criterion=squared_error, max_depth=19, min_samples_leaf=18, min_samples_split=43;, score=-32.738 total time=   0.0s\n",
      "[CV 4/5] END criterion=squared_error, max_depth=19, min_samples_leaf=18, min_samples_split=43;, score=-28.576 total time=   0.0s\n",
      "[CV 5/5] END criterion=squared_error, max_depth=19, min_samples_leaf=18, min_samples_split=43;, score=-44.250 total time=   0.0s\n",
      "[CV 1/5] END criterion=squared_error, max_depth=8, min_samples_leaf=4, min_samples_split=7;, score=-32.054 total time=   0.0s\n",
      "[CV 2/5] END criterion=squared_error, max_depth=8, min_samples_leaf=4, min_samples_split=7;, score=-29.814 total time=   0.0s\n",
      "[CV 3/5] END criterion=squared_error, max_depth=8, min_samples_leaf=4, min_samples_split=7;, score=-27.725 total time=   0.0s\n",
      "[CV 4/5] END criterion=squared_error, max_depth=8, min_samples_leaf=4, min_samples_split=7;, score=-26.838 total time=   0.0s\n",
      "[CV 5/5] END criterion=squared_error, max_depth=8, min_samples_leaf=4, min_samples_split=7;, score=-44.517 total time=   0.0s\n",
      "[CV 1/5] END criterion=squared_error, max_depth=10, min_samples_leaf=16, min_samples_split=12;, score=-30.135 total time=   0.0s\n",
      "[CV 2/5] END criterion=squared_error, max_depth=10, min_samples_leaf=16, min_samples_split=12;, score=-26.051 total time=   0.0s\n",
      "[CV 3/5] END criterion=squared_error, max_depth=10, min_samples_leaf=16, min_samples_split=12;, score=-30.990 total time=   0.0s\n",
      "[CV 4/5] END criterion=squared_error, max_depth=10, min_samples_leaf=16, min_samples_split=12;, score=-28.986 total time=   0.0s\n",
      "[CV 5/5] END criterion=squared_error, max_depth=10, min_samples_leaf=16, min_samples_split=12;, score=-41.984 total time=   0.0s\n",
      "[CV 1/5] END criterion=squared_error, max_depth=2, min_samples_leaf=14, min_samples_split=24;, score=-35.083 total time=   0.0s\n",
      "[CV 2/5] END criterion=squared_error, max_depth=2, min_samples_leaf=14, min_samples_split=24;, score=-37.943 total time=   0.0s\n",
      "[CV 3/5] END criterion=squared_error, max_depth=2, min_samples_leaf=14, min_samples_split=24;, score=-38.624 total time=   0.0s\n",
      "[CV 4/5] END criterion=squared_error, max_depth=2, min_samples_leaf=14, min_samples_split=24;, score=-33.856 total time=   0.0s\n",
      "[CV 5/5] END criterion=squared_error, max_depth=2, min_samples_leaf=14, min_samples_split=24;, score=-43.702 total time=   0.0s\n",
      "[CV 1/5] END criterion=squared_error, max_depth=11, min_samples_leaf=1, min_samples_split=5;, score=-29.520 total time=   0.0s\n",
      "[CV 2/5] END criterion=squared_error, max_depth=11, min_samples_leaf=1, min_samples_split=5;, score=-27.405 total time=   0.0s\n",
      "[CV 3/5] END criterion=squared_error, max_depth=11, min_samples_leaf=1, min_samples_split=5;, score=-29.309 total time=   0.0s\n",
      "[CV 4/5] END criterion=squared_error, max_depth=11, min_samples_leaf=1, min_samples_split=5;, score=-23.735 total time=   0.0s\n",
      "[CV 5/5] END criterion=squared_error, max_depth=11, min_samples_leaf=1, min_samples_split=5;, score=-38.047 total time=   0.0s\n",
      "[CV 1/5] END criterion=squared_error, max_depth=10, min_samples_leaf=17, min_samples_split=35;, score=-28.151 total time=   0.0s\n",
      "[CV 2/5] END criterion=squared_error, max_depth=10, min_samples_leaf=17, min_samples_split=35;, score=-26.335 total time=   0.0s\n",
      "[CV 3/5] END criterion=squared_error, max_depth=10, min_samples_leaf=17, min_samples_split=35;, score=-31.006 total time=   0.0s\n",
      "[CV 4/5] END criterion=squared_error, max_depth=10, min_samples_leaf=17, min_samples_split=35;, score=-28.809 total time=   0.0s\n",
      "[CV 5/5] END criterion=squared_error, max_depth=10, min_samples_leaf=17, min_samples_split=35;, score=-42.746 total time=   0.0s\n",
      "[CV 1/5] END criterion=squared_error, max_depth=3, min_samples_leaf=18, min_samples_split=44;, score=-31.948 total time=   0.0s\n",
      "[CV 2/5] END criterion=squared_error, max_depth=3, min_samples_leaf=18, min_samples_split=44;, score=-33.650 total time=   0.0s\n",
      "[CV 3/5] END criterion=squared_error, max_depth=3, min_samples_leaf=18, min_samples_split=44;, score=-37.343 total time=   0.0s\n",
      "[CV 4/5] END criterion=squared_error, max_depth=3, min_samples_leaf=18, min_samples_split=44;, score=-33.308 total time=   0.0s\n",
      "[CV 5/5] END criterion=squared_error, max_depth=3, min_samples_leaf=18, min_samples_split=44;, score=-45.966 total time=   0.0s\n",
      "[CV 1/5] END criterion=squared_error, max_depth=2, min_samples_leaf=14, min_samples_split=21;, score=-35.083 total time=   0.0s\n",
      "[CV 2/5] END criterion=squared_error, max_depth=2, min_samples_leaf=14, min_samples_split=21;, score=-37.943 total time=   0.0s\n",
      "[CV 3/5] END criterion=squared_error, max_depth=2, min_samples_leaf=14, min_samples_split=21;, score=-38.624 total time=   0.0s\n",
      "[CV 4/5] END criterion=squared_error, max_depth=2, min_samples_leaf=14, min_samples_split=21;, score=-33.856 total time=   0.0s\n",
      "[CV 5/5] END criterion=squared_error, max_depth=2, min_samples_leaf=14, min_samples_split=21;, score=-43.702 total time=   0.0s\n",
      "[CV 1/5] END criterion=squared_error, max_depth=15, min_samples_leaf=6, min_samples_split=47;, score=-27.752 total time=   0.0s\n",
      "[CV 2/5] END criterion=squared_error, max_depth=15, min_samples_leaf=6, min_samples_split=47;, score=-26.179 total time=   0.0s\n",
      "[CV 3/5] END criterion=squared_error, max_depth=15, min_samples_leaf=6, min_samples_split=47;, score=-30.751 total time=   0.0s\n",
      "[CV 4/5] END criterion=squared_error, max_depth=15, min_samples_leaf=6, min_samples_split=47;, score=-26.196 total time=   0.0s\n",
      "[CV 5/5] END criterion=squared_error, max_depth=15, min_samples_leaf=6, min_samples_split=47;, score=-43.969 total time=   0.0s\n",
      "[CV 1/5] END criterion=squared_error, max_depth=16, min_samples_leaf=3, min_samples_split=34;, score=-27.889 total time=   0.0s\n",
      "[CV 2/5] END criterion=squared_error, max_depth=16, min_samples_leaf=3, min_samples_split=34;, score=-23.779 total time=   0.0s\n",
      "[CV 3/5] END criterion=squared_error, max_depth=16, min_samples_leaf=3, min_samples_split=34;, score=-29.657 total time=   0.0s\n",
      "[CV 4/5] END criterion=squared_error, max_depth=16, min_samples_leaf=3, min_samples_split=34;, score=-22.133 total time=   0.0s\n",
      "[CV 5/5] END criterion=squared_error, max_depth=16, min_samples_leaf=3, min_samples_split=34;, score=-35.698 total time=   0.0s\n",
      "[CV 1/5] END criterion=squared_error, max_depth=3, min_samples_leaf=13, min_samples_split=16;, score=-32.384 total time=   0.0s\n",
      "[CV 2/5] END criterion=squared_error, max_depth=3, min_samples_leaf=13, min_samples_split=16;, score=-33.650 total time=   0.0s\n",
      "[CV 3/5] END criterion=squared_error, max_depth=3, min_samples_leaf=13, min_samples_split=16;, score=-37.322 total time=   0.0s\n",
      "[CV 4/5] END criterion=squared_error, max_depth=3, min_samples_leaf=13, min_samples_split=16;, score=-33.308 total time=   0.0s\n",
      "[CV 5/5] END criterion=squared_error, max_depth=3, min_samples_leaf=13, min_samples_split=16;, score=-45.966 total time=   0.0s\n",
      "[CV 1/5] END criterion=squared_error, max_depth=5, min_samples_leaf=14, min_samples_split=17;, score=-28.637 total time=   0.0s\n",
      "[CV 2/5] END criterion=squared_error, max_depth=5, min_samples_leaf=14, min_samples_split=17;, score=-29.619 total time=   0.0s\n",
      "[CV 3/5] END criterion=squared_error, max_depth=5, min_samples_leaf=14, min_samples_split=17;, score=-36.805 total time=   0.0s\n",
      "[CV 4/5] END criterion=squared_error, max_depth=5, min_samples_leaf=14, min_samples_split=17;, score=-28.935 total time=   0.0s\n",
      "[CV 5/5] END criterion=squared_error, max_depth=5, min_samples_leaf=14, min_samples_split=17;, score=-43.507 total time=   0.0s\n",
      "[CV 1/5] END criterion=squared_error, max_depth=17, min_samples_leaf=5, min_samples_split=14;, score=-28.066 total time=   0.0s\n",
      "[CV 2/5] END criterion=squared_error, max_depth=17, min_samples_leaf=5, min_samples_split=14;, score=-25.273 total time=   0.0s\n",
      "[CV 3/5] END criterion=squared_error, max_depth=17, min_samples_leaf=5, min_samples_split=14;, score=-28.979 total time=   0.0s\n",
      "[CV 4/5] END criterion=squared_error, max_depth=17, min_samples_leaf=5, min_samples_split=14;, score=-24.379 total time=   0.0s\n",
      "[CV 5/5] END criterion=squared_error, max_depth=17, min_samples_leaf=5, min_samples_split=14;, score=-42.798 total time=   0.0s\n",
      "[CV 1/5] END criterion=squared_error, max_depth=9, min_samples_leaf=11, min_samples_split=44;, score=-28.666 total time=   0.0s\n",
      "[CV 2/5] END criterion=squared_error, max_depth=9, min_samples_leaf=11, min_samples_split=44;, score=-29.183 total time=   0.0s\n",
      "[CV 3/5] END criterion=squared_error, max_depth=9, min_samples_leaf=11, min_samples_split=44;, score=-32.434 total time=   0.0s\n",
      "[CV 4/5] END criterion=squared_error, max_depth=9, min_samples_leaf=11, min_samples_split=44;, score=-29.176 total time=   0.0s\n",
      "[CV 5/5] END criterion=squared_error, max_depth=9, min_samples_leaf=11, min_samples_split=44;, score=-44.886 total time=   0.0s\n",
      "[CV 1/5] END criterion=squared_error, max_depth=17, min_samples_leaf=13, min_samples_split=4;, score=-30.062 total time=   0.0s\n",
      "[CV 2/5] END criterion=squared_error, max_depth=17, min_samples_leaf=13, min_samples_split=4;, score=-26.651 total time=   0.0s\n",
      "[CV 3/5] END criterion=squared_error, max_depth=17, min_samples_leaf=13, min_samples_split=4;, score=-30.447 total time=   0.0s\n",
      "[CV 4/5] END criterion=squared_error, max_depth=17, min_samples_leaf=13, min_samples_split=4;, score=-29.957 total time=   0.0s\n",
      "[CV 5/5] END criterion=squared_error, max_depth=17, min_samples_leaf=13, min_samples_split=4;, score=-40.834 total time=   0.0s\n",
      "[CV 1/5] END criterion=squared_error, max_depth=14, min_samples_leaf=4, min_samples_split=43;, score=-29.162 total time=   0.0s\n",
      "[CV 2/5] END criterion=squared_error, max_depth=14, min_samples_leaf=4, min_samples_split=43;, score=-26.315 total time=   0.0s\n",
      "[CV 3/5] END criterion=squared_error, max_depth=14, min_samples_leaf=4, min_samples_split=43;, score=-30.922 total time=   0.0s\n",
      "[CV 4/5] END criterion=squared_error, max_depth=14, min_samples_leaf=4, min_samples_split=43;, score=-26.131 total time=   0.0s\n",
      "[CV 5/5] END criterion=squared_error, max_depth=14, min_samples_leaf=4, min_samples_split=43;, score=-43.453 total time=   0.0s\n",
      "[CV 1/5] END criterion=squared_error, max_depth=3, min_samples_leaf=17, min_samples_split=44;, score=-31.955 total time=   0.0s\n",
      "[CV 2/5] END criterion=squared_error, max_depth=3, min_samples_leaf=17, min_samples_split=44;, score=-33.650 total time=   0.0s\n",
      "[CV 3/5] END criterion=squared_error, max_depth=3, min_samples_leaf=17, min_samples_split=44;, score=-37.343 total time=   0.0s\n",
      "[CV 4/5] END criterion=squared_error, max_depth=3, min_samples_leaf=17, min_samples_split=44;, score=-33.308 total time=   0.0s\n",
      "[CV 5/5] END criterion=squared_error, max_depth=3, min_samples_leaf=17, min_samples_split=44;, score=-45.966 total time=   0.0s\n",
      "[CV 1/5] END criterion=squared_error, max_depth=11, min_samples_leaf=18, min_samples_split=5;, score=-29.270 total time=   0.0s\n",
      "[CV 2/5] END criterion=squared_error, max_depth=11, min_samples_leaf=18, min_samples_split=5;, score=-26.313 total time=   0.0s\n",
      "[CV 3/5] END criterion=squared_error, max_depth=11, min_samples_leaf=18, min_samples_split=5;, score=-30.671 total time=   0.0s\n",
      "[CV 4/5] END criterion=squared_error, max_depth=11, min_samples_leaf=18, min_samples_split=5;, score=-28.289 total time=   0.0s\n",
      "[CV 5/5] END criterion=squared_error, max_depth=11, min_samples_leaf=18, min_samples_split=5;, score=-44.161 total time=   0.0s\n",
      "[CV 1/5] END criterion=squared_error, max_depth=1, min_samples_leaf=5, min_samples_split=43;, score=-37.130 total time=   0.0s\n",
      "[CV 2/5] END criterion=squared_error, max_depth=1, min_samples_leaf=5, min_samples_split=43;, score=-39.825 total time=   0.0s\n",
      "[CV 3/5] END criterion=squared_error, max_depth=1, min_samples_leaf=5, min_samples_split=43;, score=-42.073 total time=   0.0s\n",
      "[CV 4/5] END criterion=squared_error, max_depth=1, min_samples_leaf=5, min_samples_split=43;, score=-36.297 total time=   0.0s\n",
      "[CV 5/5] END criterion=squared_error, max_depth=1, min_samples_leaf=5, min_samples_split=43;, score=-45.081 total time=   0.0s\n",
      "[CV 1/5] END criterion=squared_error, max_depth=18, min_samples_leaf=11, min_samples_split=18;, score=-28.579 total time=   0.0s\n",
      "[CV 2/5] END criterion=squared_error, max_depth=18, min_samples_leaf=11, min_samples_split=18;, score=-26.461 total time=   0.0s\n",
      "[CV 3/5] END criterion=squared_error, max_depth=18, min_samples_leaf=11, min_samples_split=18;, score=-29.738 total time=   0.0s\n",
      "[CV 4/5] END criterion=squared_error, max_depth=18, min_samples_leaf=11, min_samples_split=18;, score=-29.499 total time=   0.0s\n",
      "[CV 5/5] END criterion=squared_error, max_depth=18, min_samples_leaf=11, min_samples_split=18;, score=-41.547 total time=   0.0s\n",
      "[CV 1/5] END criterion=squared_error, max_depth=6, min_samples_leaf=9, min_samples_split=4;, score=-29.173 total time=   0.0s\n",
      "[CV 2/5] END criterion=squared_error, max_depth=6, min_samples_leaf=9, min_samples_split=4;, score=-30.896 total time=   0.0s\n",
      "[CV 3/5] END criterion=squared_error, max_depth=6, min_samples_leaf=9, min_samples_split=4;, score=-31.033 total time=   0.0s\n",
      "[CV 4/5] END criterion=squared_error, max_depth=6, min_samples_leaf=9, min_samples_split=4;, score=-31.149 total time=   0.0s\n",
      "[CV 5/5] END criterion=squared_error, max_depth=6, min_samples_leaf=9, min_samples_split=4;, score=-42.616 total time=   0.0s\n",
      "[CV 1/5] END criterion=squared_error, max_depth=8, min_samples_leaf=6, min_samples_split=25;, score=-29.434 total time=   0.0s\n",
      "[CV 2/5] END criterion=squared_error, max_depth=8, min_samples_leaf=6, min_samples_split=25;, score=-28.683 total time=   0.0s\n",
      "[CV 3/5] END criterion=squared_error, max_depth=8, min_samples_leaf=6, min_samples_split=25;, score=-30.474 total time=   0.0s\n",
      "[CV 4/5] END criterion=squared_error, max_depth=8, min_samples_leaf=6, min_samples_split=25;, score=-27.356 total time=   0.0s\n",
      "[CV 5/5] END criterion=squared_error, max_depth=8, min_samples_leaf=6, min_samples_split=25;, score=-42.837 total time=   0.0s\n",
      "[CV 1/5] END criterion=squared_error, max_depth=2, min_samples_leaf=16, min_samples_split=23;, score=-35.083 total time=   0.0s\n",
      "[CV 2/5] END criterion=squared_error, max_depth=2, min_samples_leaf=16, min_samples_split=23;, score=-37.943 total time=   0.0s\n",
      "[CV 3/5] END criterion=squared_error, max_depth=2, min_samples_leaf=16, min_samples_split=23;, score=-38.624 total time=   0.0s\n",
      "[CV 4/5] END criterion=squared_error, max_depth=2, min_samples_leaf=16, min_samples_split=23;, score=-33.856 total time=   0.0s\n",
      "[CV 5/5] END criterion=squared_error, max_depth=2, min_samples_leaf=16, min_samples_split=23;, score=-43.702 total time=   0.0s\n",
      "[CV 1/5] END criterion=squared_error, max_depth=3, min_samples_leaf=18, min_samples_split=33;, score=-31.948 total time=   0.0s\n",
      "[CV 2/5] END criterion=squared_error, max_depth=3, min_samples_leaf=18, min_samples_split=33;, score=-33.650 total time=   0.0s\n",
      "[CV 3/5] END criterion=squared_error, max_depth=3, min_samples_leaf=18, min_samples_split=33;, score=-37.343 total time=   0.0s\n",
      "[CV 4/5] END criterion=squared_error, max_depth=3, min_samples_leaf=18, min_samples_split=33;, score=-33.308 total time=   0.0s\n",
      "[CV 5/5] END criterion=squared_error, max_depth=3, min_samples_leaf=18, min_samples_split=33;, score=-45.966 total time=   0.0s\n",
      "[CV 1/5] END criterion=squared_error, max_depth=15, min_samples_leaf=12, min_samples_split=15;, score=-29.764 total time=   0.0s\n",
      "[CV 2/5] END criterion=squared_error, max_depth=15, min_samples_leaf=12, min_samples_split=15;, score=-26.204 total time=   0.0s\n",
      "[CV 3/5] END criterion=squared_error, max_depth=15, min_samples_leaf=12, min_samples_split=15;, score=-29.144 total time=   0.0s\n",
      "[CV 4/5] END criterion=squared_error, max_depth=15, min_samples_leaf=12, min_samples_split=15;, score=-29.026 total time=   0.0s\n",
      "[CV 5/5] END criterion=squared_error, max_depth=15, min_samples_leaf=12, min_samples_split=15;, score=-40.070 total time=   0.0s\n",
      "[CV 1/5] END criterion=squared_error, max_depth=4, min_samples_leaf=4, min_samples_split=4;, score=-33.681 total time=   0.0s\n",
      "[CV 2/5] END criterion=squared_error, max_depth=4, min_samples_leaf=4, min_samples_split=4;, score=-34.123 total time=   0.0s\n",
      "[CV 3/5] END criterion=squared_error, max_depth=4, min_samples_leaf=4, min_samples_split=4;, score=-36.232 total time=   0.0s\n",
      "[CV 4/5] END criterion=squared_error, max_depth=4, min_samples_leaf=4, min_samples_split=4;, score=-31.398 total time=   0.0s\n",
      "[CV 5/5] END criterion=squared_error, max_depth=4, min_samples_leaf=4, min_samples_split=4;, score=-47.436 total time=   0.0s\n",
      "[CV 1/5] END criterion=squared_error, max_depth=17, min_samples_leaf=19, min_samples_split=38;, score=-28.973 total time=   0.0s\n",
      "[CV 2/5] END criterion=squared_error, max_depth=17, min_samples_leaf=19, min_samples_split=38;, score=-26.976 total time=   0.0s\n",
      "[CV 3/5] END criterion=squared_error, max_depth=17, min_samples_leaf=19, min_samples_split=38;, score=-31.757 total time=   0.0s\n",
      "[CV 4/5] END criterion=squared_error, max_depth=17, min_samples_leaf=19, min_samples_split=38;, score=-28.175 total time=   0.0s\n",
      "[CV 5/5] END criterion=squared_error, max_depth=17, min_samples_leaf=19, min_samples_split=38;, score=-44.277 total time=   0.0s\n",
      "[CV 1/5] END criterion=squared_error, max_depth=3, min_samples_leaf=11, min_samples_split=19;, score=-32.105 total time=   0.0s\n",
      "[CV 2/5] END criterion=squared_error, max_depth=3, min_samples_leaf=11, min_samples_split=19;, score=-36.201 total time=   0.0s\n",
      "[CV 3/5] END criterion=squared_error, max_depth=3, min_samples_leaf=11, min_samples_split=19;, score=-37.317 total time=   0.0s\n",
      "[CV 4/5] END criterion=squared_error, max_depth=3, min_samples_leaf=11, min_samples_split=19;, score=-33.231 total time=   0.0s\n",
      "[CV 5/5] END criterion=squared_error, max_depth=3, min_samples_leaf=11, min_samples_split=19;, score=-45.846 total time=   0.0s\n",
      "[CV 1/5] END criterion=squared_error, max_depth=13, min_samples_leaf=2, min_samples_split=34;, score=-28.281 total time=   0.0s\n",
      "[CV 2/5] END criterion=squared_error, max_depth=13, min_samples_leaf=2, min_samples_split=34;, score=-21.510 total time=   0.0s\n",
      "[CV 3/5] END criterion=squared_error, max_depth=13, min_samples_leaf=2, min_samples_split=34;, score=-30.158 total time=   0.0s\n",
      "[CV 4/5] END criterion=squared_error, max_depth=13, min_samples_leaf=2, min_samples_split=34;, score=-22.275 total time=   0.0s\n",
      "[CV 5/5] END criterion=squared_error, max_depth=13, min_samples_leaf=2, min_samples_split=34;, score=-35.662 total time=   0.0s\n",
      "[CV 1/5] END criterion=squared_error, max_depth=10, min_samples_leaf=14, min_samples_split=19;, score=-30.362 total time=   0.0s\n",
      "[CV 2/5] END criterion=squared_error, max_depth=10, min_samples_leaf=14, min_samples_split=19;, score=-26.353 total time=   0.0s\n",
      "[CV 3/5] END criterion=squared_error, max_depth=10, min_samples_leaf=14, min_samples_split=19;, score=-30.833 total time=   0.0s\n",
      "[CV 4/5] END criterion=squared_error, max_depth=10, min_samples_leaf=14, min_samples_split=19;, score=-29.216 total time=   0.0s\n",
      "[CV 5/5] END criterion=squared_error, max_depth=10, min_samples_leaf=14, min_samples_split=19;, score=-41.856 total time=   0.0s\n",
      "[CV 1/5] END criterion=squared_error, max_depth=13, min_samples_leaf=19, min_samples_split=46;, score=-29.015 total time=   0.0s\n",
      "[CV 2/5] END criterion=squared_error, max_depth=13, min_samples_leaf=19, min_samples_split=46;, score=-26.949 total time=   0.0s\n",
      "[CV 3/5] END criterion=squared_error, max_depth=13, min_samples_leaf=19, min_samples_split=46;, score=-33.304 total time=   0.0s\n",
      "[CV 4/5] END criterion=squared_error, max_depth=13, min_samples_leaf=19, min_samples_split=46;, score=-28.576 total time=   0.0s\n",
      "[CV 5/5] END criterion=squared_error, max_depth=13, min_samples_leaf=19, min_samples_split=46;, score=-44.201 total time=   0.0s\n"
     ]
    },
    {
     "data": {
      "text/html": [
       "<style>#sk-container-id-3 {\n",
       "  /* Definition of color scheme common for light and dark mode */\n",
       "  --sklearn-color-text: black;\n",
       "  --sklearn-color-line: gray;\n",
       "  /* Definition of color scheme for unfitted estimators */\n",
       "  --sklearn-color-unfitted-level-0: #fff5e6;\n",
       "  --sklearn-color-unfitted-level-1: #f6e4d2;\n",
       "  --sklearn-color-unfitted-level-2: #ffe0b3;\n",
       "  --sklearn-color-unfitted-level-3: chocolate;\n",
       "  /* Definition of color scheme for fitted estimators */\n",
       "  --sklearn-color-fitted-level-0: #f0f8ff;\n",
       "  --sklearn-color-fitted-level-1: #d4ebff;\n",
       "  --sklearn-color-fitted-level-2: #b3dbfd;\n",
       "  --sklearn-color-fitted-level-3: cornflowerblue;\n",
       "\n",
       "  /* Specific color for light theme */\n",
       "  --sklearn-color-text-on-default-background: var(--sg-text-color, var(--theme-code-foreground, var(--jp-content-font-color1, black)));\n",
       "  --sklearn-color-background: var(--sg-background-color, var(--theme-background, var(--jp-layout-color0, white)));\n",
       "  --sklearn-color-border-box: var(--sg-text-color, var(--theme-code-foreground, var(--jp-content-font-color1, black)));\n",
       "  --sklearn-color-icon: #696969;\n",
       "\n",
       "  @media (prefers-color-scheme: dark) {\n",
       "    /* Redefinition of color scheme for dark theme */\n",
       "    --sklearn-color-text-on-default-background: var(--sg-text-color, var(--theme-code-foreground, var(--jp-content-font-color1, white)));\n",
       "    --sklearn-color-background: var(--sg-background-color, var(--theme-background, var(--jp-layout-color0, #111)));\n",
       "    --sklearn-color-border-box: var(--sg-text-color, var(--theme-code-foreground, var(--jp-content-font-color1, white)));\n",
       "    --sklearn-color-icon: #878787;\n",
       "  }\n",
       "}\n",
       "\n",
       "#sk-container-id-3 {\n",
       "  color: var(--sklearn-color-text);\n",
       "}\n",
       "\n",
       "#sk-container-id-3 pre {\n",
       "  padding: 0;\n",
       "}\n",
       "\n",
       "#sk-container-id-3 input.sk-hidden--visually {\n",
       "  border: 0;\n",
       "  clip: rect(1px 1px 1px 1px);\n",
       "  clip: rect(1px, 1px, 1px, 1px);\n",
       "  height: 1px;\n",
       "  margin: -1px;\n",
       "  overflow: hidden;\n",
       "  padding: 0;\n",
       "  position: absolute;\n",
       "  width: 1px;\n",
       "}\n",
       "\n",
       "#sk-container-id-3 div.sk-dashed-wrapped {\n",
       "  border: 1px dashed var(--sklearn-color-line);\n",
       "  margin: 0 0.4em 0.5em 0.4em;\n",
       "  box-sizing: border-box;\n",
       "  padding-bottom: 0.4em;\n",
       "  background-color: var(--sklearn-color-background);\n",
       "}\n",
       "\n",
       "#sk-container-id-3 div.sk-container {\n",
       "  /* jupyter's `normalize.less` sets `[hidden] { display: none; }`\n",
       "     but bootstrap.min.css set `[hidden] { display: none !important; }`\n",
       "     so we also need the `!important` here to be able to override the\n",
       "     default hidden behavior on the sphinx rendered scikit-learn.org.\n",
       "     See: https://github.com/scikit-learn/scikit-learn/issues/21755 */\n",
       "  display: inline-block !important;\n",
       "  position: relative;\n",
       "}\n",
       "\n",
       "#sk-container-id-3 div.sk-text-repr-fallback {\n",
       "  display: none;\n",
       "}\n",
       "\n",
       "div.sk-parallel-item,\n",
       "div.sk-serial,\n",
       "div.sk-item {\n",
       "  /* draw centered vertical line to link estimators */\n",
       "  background-image: linear-gradient(var(--sklearn-color-text-on-default-background), var(--sklearn-color-text-on-default-background));\n",
       "  background-size: 2px 100%;\n",
       "  background-repeat: no-repeat;\n",
       "  background-position: center center;\n",
       "}\n",
       "\n",
       "/* Parallel-specific style estimator block */\n",
       "\n",
       "#sk-container-id-3 div.sk-parallel-item::after {\n",
       "  content: \"\";\n",
       "  width: 100%;\n",
       "  border-bottom: 2px solid var(--sklearn-color-text-on-default-background);\n",
       "  flex-grow: 1;\n",
       "}\n",
       "\n",
       "#sk-container-id-3 div.sk-parallel {\n",
       "  display: flex;\n",
       "  align-items: stretch;\n",
       "  justify-content: center;\n",
       "  background-color: var(--sklearn-color-background);\n",
       "  position: relative;\n",
       "}\n",
       "\n",
       "#sk-container-id-3 div.sk-parallel-item {\n",
       "  display: flex;\n",
       "  flex-direction: column;\n",
       "}\n",
       "\n",
       "#sk-container-id-3 div.sk-parallel-item:first-child::after {\n",
       "  align-self: flex-end;\n",
       "  width: 50%;\n",
       "}\n",
       "\n",
       "#sk-container-id-3 div.sk-parallel-item:last-child::after {\n",
       "  align-self: flex-start;\n",
       "  width: 50%;\n",
       "}\n",
       "\n",
       "#sk-container-id-3 div.sk-parallel-item:only-child::after {\n",
       "  width: 0;\n",
       "}\n",
       "\n",
       "/* Serial-specific style estimator block */\n",
       "\n",
       "#sk-container-id-3 div.sk-serial {\n",
       "  display: flex;\n",
       "  flex-direction: column;\n",
       "  align-items: center;\n",
       "  background-color: var(--sklearn-color-background);\n",
       "  padding-right: 1em;\n",
       "  padding-left: 1em;\n",
       "}\n",
       "\n",
       "\n",
       "/* Toggleable style: style used for estimator/Pipeline/ColumnTransformer box that is\n",
       "clickable and can be expanded/collapsed.\n",
       "- Pipeline and ColumnTransformer use this feature and define the default style\n",
       "- Estimators will overwrite some part of the style using the `sk-estimator` class\n",
       "*/\n",
       "\n",
       "/* Pipeline and ColumnTransformer style (default) */\n",
       "\n",
       "#sk-container-id-3 div.sk-toggleable {\n",
       "  /* Default theme specific background. It is overwritten whether we have a\n",
       "  specific estimator or a Pipeline/ColumnTransformer */\n",
       "  background-color: var(--sklearn-color-background);\n",
       "}\n",
       "\n",
       "/* Toggleable label */\n",
       "#sk-container-id-3 label.sk-toggleable__label {\n",
       "  cursor: pointer;\n",
       "  display: block;\n",
       "  width: 100%;\n",
       "  margin-bottom: 0;\n",
       "  padding: 0.5em;\n",
       "  box-sizing: border-box;\n",
       "  text-align: center;\n",
       "}\n",
       "\n",
       "#sk-container-id-3 label.sk-toggleable__label-arrow:before {\n",
       "  /* Arrow on the left of the label */\n",
       "  content: \"▸\";\n",
       "  float: left;\n",
       "  margin-right: 0.25em;\n",
       "  color: var(--sklearn-color-icon);\n",
       "}\n",
       "\n",
       "#sk-container-id-3 label.sk-toggleable__label-arrow:hover:before {\n",
       "  color: var(--sklearn-color-text);\n",
       "}\n",
       "\n",
       "/* Toggleable content - dropdown */\n",
       "\n",
       "#sk-container-id-3 div.sk-toggleable__content {\n",
       "  max-height: 0;\n",
       "  max-width: 0;\n",
       "  overflow: hidden;\n",
       "  text-align: left;\n",
       "  /* unfitted */\n",
       "  background-color: var(--sklearn-color-unfitted-level-0);\n",
       "}\n",
       "\n",
       "#sk-container-id-3 div.sk-toggleable__content.fitted {\n",
       "  /* fitted */\n",
       "  background-color: var(--sklearn-color-fitted-level-0);\n",
       "}\n",
       "\n",
       "#sk-container-id-3 div.sk-toggleable__content pre {\n",
       "  margin: 0.2em;\n",
       "  border-radius: 0.25em;\n",
       "  color: var(--sklearn-color-text);\n",
       "  /* unfitted */\n",
       "  background-color: var(--sklearn-color-unfitted-level-0);\n",
       "}\n",
       "\n",
       "#sk-container-id-3 div.sk-toggleable__content.fitted pre {\n",
       "  /* unfitted */\n",
       "  background-color: var(--sklearn-color-fitted-level-0);\n",
       "}\n",
       "\n",
       "#sk-container-id-3 input.sk-toggleable__control:checked~div.sk-toggleable__content {\n",
       "  /* Expand drop-down */\n",
       "  max-height: 200px;\n",
       "  max-width: 100%;\n",
       "  overflow: auto;\n",
       "}\n",
       "\n",
       "#sk-container-id-3 input.sk-toggleable__control:checked~label.sk-toggleable__label-arrow:before {\n",
       "  content: \"▾\";\n",
       "}\n",
       "\n",
       "/* Pipeline/ColumnTransformer-specific style */\n",
       "\n",
       "#sk-container-id-3 div.sk-label input.sk-toggleable__control:checked~label.sk-toggleable__label {\n",
       "  color: var(--sklearn-color-text);\n",
       "  background-color: var(--sklearn-color-unfitted-level-2);\n",
       "}\n",
       "\n",
       "#sk-container-id-3 div.sk-label.fitted input.sk-toggleable__control:checked~label.sk-toggleable__label {\n",
       "  background-color: var(--sklearn-color-fitted-level-2);\n",
       "}\n",
       "\n",
       "/* Estimator-specific style */\n",
       "\n",
       "/* Colorize estimator box */\n",
       "#sk-container-id-3 div.sk-estimator input.sk-toggleable__control:checked~label.sk-toggleable__label {\n",
       "  /* unfitted */\n",
       "  background-color: var(--sklearn-color-unfitted-level-2);\n",
       "}\n",
       "\n",
       "#sk-container-id-3 div.sk-estimator.fitted input.sk-toggleable__control:checked~label.sk-toggleable__label {\n",
       "  /* fitted */\n",
       "  background-color: var(--sklearn-color-fitted-level-2);\n",
       "}\n",
       "\n",
       "#sk-container-id-3 div.sk-label label.sk-toggleable__label,\n",
       "#sk-container-id-3 div.sk-label label {\n",
       "  /* The background is the default theme color */\n",
       "  color: var(--sklearn-color-text-on-default-background);\n",
       "}\n",
       "\n",
       "/* On hover, darken the color of the background */\n",
       "#sk-container-id-3 div.sk-label:hover label.sk-toggleable__label {\n",
       "  color: var(--sklearn-color-text);\n",
       "  background-color: var(--sklearn-color-unfitted-level-2);\n",
       "}\n",
       "\n",
       "/* Label box, darken color on hover, fitted */\n",
       "#sk-container-id-3 div.sk-label.fitted:hover label.sk-toggleable__label.fitted {\n",
       "  color: var(--sklearn-color-text);\n",
       "  background-color: var(--sklearn-color-fitted-level-2);\n",
       "}\n",
       "\n",
       "/* Estimator label */\n",
       "\n",
       "#sk-container-id-3 div.sk-label label {\n",
       "  font-family: monospace;\n",
       "  font-weight: bold;\n",
       "  display: inline-block;\n",
       "  line-height: 1.2em;\n",
       "}\n",
       "\n",
       "#sk-container-id-3 div.sk-label-container {\n",
       "  text-align: center;\n",
       "}\n",
       "\n",
       "/* Estimator-specific */\n",
       "#sk-container-id-3 div.sk-estimator {\n",
       "  font-family: monospace;\n",
       "  border: 1px dotted var(--sklearn-color-border-box);\n",
       "  border-radius: 0.25em;\n",
       "  box-sizing: border-box;\n",
       "  margin-bottom: 0.5em;\n",
       "  /* unfitted */\n",
       "  background-color: var(--sklearn-color-unfitted-level-0);\n",
       "}\n",
       "\n",
       "#sk-container-id-3 div.sk-estimator.fitted {\n",
       "  /* fitted */\n",
       "  background-color: var(--sklearn-color-fitted-level-0);\n",
       "}\n",
       "\n",
       "/* on hover */\n",
       "#sk-container-id-3 div.sk-estimator:hover {\n",
       "  /* unfitted */\n",
       "  background-color: var(--sklearn-color-unfitted-level-2);\n",
       "}\n",
       "\n",
       "#sk-container-id-3 div.sk-estimator.fitted:hover {\n",
       "  /* fitted */\n",
       "  background-color: var(--sklearn-color-fitted-level-2);\n",
       "}\n",
       "\n",
       "/* Specification for estimator info (e.g. \"i\" and \"?\") */\n",
       "\n",
       "/* Common style for \"i\" and \"?\" */\n",
       "\n",
       ".sk-estimator-doc-link,\n",
       "a:link.sk-estimator-doc-link,\n",
       "a:visited.sk-estimator-doc-link {\n",
       "  float: right;\n",
       "  font-size: smaller;\n",
       "  line-height: 1em;\n",
       "  font-family: monospace;\n",
       "  background-color: var(--sklearn-color-background);\n",
       "  border-radius: 1em;\n",
       "  height: 1em;\n",
       "  width: 1em;\n",
       "  text-decoration: none !important;\n",
       "  margin-left: 1ex;\n",
       "  /* unfitted */\n",
       "  border: var(--sklearn-color-unfitted-level-1) 1pt solid;\n",
       "  color: var(--sklearn-color-unfitted-level-1);\n",
       "}\n",
       "\n",
       ".sk-estimator-doc-link.fitted,\n",
       "a:link.sk-estimator-doc-link.fitted,\n",
       "a:visited.sk-estimator-doc-link.fitted {\n",
       "  /* fitted */\n",
       "  border: var(--sklearn-color-fitted-level-1) 1pt solid;\n",
       "  color: var(--sklearn-color-fitted-level-1);\n",
       "}\n",
       "\n",
       "/* On hover */\n",
       "div.sk-estimator:hover .sk-estimator-doc-link:hover,\n",
       ".sk-estimator-doc-link:hover,\n",
       "div.sk-label-container:hover .sk-estimator-doc-link:hover,\n",
       ".sk-estimator-doc-link:hover {\n",
       "  /* unfitted */\n",
       "  background-color: var(--sklearn-color-unfitted-level-3);\n",
       "  color: var(--sklearn-color-background);\n",
       "  text-decoration: none;\n",
       "}\n",
       "\n",
       "div.sk-estimator.fitted:hover .sk-estimator-doc-link.fitted:hover,\n",
       ".sk-estimator-doc-link.fitted:hover,\n",
       "div.sk-label-container:hover .sk-estimator-doc-link.fitted:hover,\n",
       ".sk-estimator-doc-link.fitted:hover {\n",
       "  /* fitted */\n",
       "  background-color: var(--sklearn-color-fitted-level-3);\n",
       "  color: var(--sklearn-color-background);\n",
       "  text-decoration: none;\n",
       "}\n",
       "\n",
       "/* Span, style for the box shown on hovering the info icon */\n",
       ".sk-estimator-doc-link span {\n",
       "  display: none;\n",
       "  z-index: 9999;\n",
       "  position: relative;\n",
       "  font-weight: normal;\n",
       "  right: .2ex;\n",
       "  padding: .5ex;\n",
       "  margin: .5ex;\n",
       "  width: min-content;\n",
       "  min-width: 20ex;\n",
       "  max-width: 50ex;\n",
       "  color: var(--sklearn-color-text);\n",
       "  box-shadow: 2pt 2pt 4pt #999;\n",
       "  /* unfitted */\n",
       "  background: var(--sklearn-color-unfitted-level-0);\n",
       "  border: .5pt solid var(--sklearn-color-unfitted-level-3);\n",
       "}\n",
       "\n",
       ".sk-estimator-doc-link.fitted span {\n",
       "  /* fitted */\n",
       "  background: var(--sklearn-color-fitted-level-0);\n",
       "  border: var(--sklearn-color-fitted-level-3);\n",
       "}\n",
       "\n",
       ".sk-estimator-doc-link:hover span {\n",
       "  display: block;\n",
       "}\n",
       "\n",
       "/* \"?\"-specific style due to the `<a>` HTML tag */\n",
       "\n",
       "#sk-container-id-3 a.estimator_doc_link {\n",
       "  float: right;\n",
       "  font-size: 1rem;\n",
       "  line-height: 1em;\n",
       "  font-family: monospace;\n",
       "  background-color: var(--sklearn-color-background);\n",
       "  border-radius: 1rem;\n",
       "  height: 1rem;\n",
       "  width: 1rem;\n",
       "  text-decoration: none;\n",
       "  /* unfitted */\n",
       "  color: var(--sklearn-color-unfitted-level-1);\n",
       "  border: var(--sklearn-color-unfitted-level-1) 1pt solid;\n",
       "}\n",
       "\n",
       "#sk-container-id-3 a.estimator_doc_link.fitted {\n",
       "  /* fitted */\n",
       "  border: var(--sklearn-color-fitted-level-1) 1pt solid;\n",
       "  color: var(--sklearn-color-fitted-level-1);\n",
       "}\n",
       "\n",
       "/* On hover */\n",
       "#sk-container-id-3 a.estimator_doc_link:hover {\n",
       "  /* unfitted */\n",
       "  background-color: var(--sklearn-color-unfitted-level-3);\n",
       "  color: var(--sklearn-color-background);\n",
       "  text-decoration: none;\n",
       "}\n",
       "\n",
       "#sk-container-id-3 a.estimator_doc_link.fitted:hover {\n",
       "  /* fitted */\n",
       "  background-color: var(--sklearn-color-fitted-level-3);\n",
       "}\n",
       "</style><div id=\"sk-container-id-3\" class=\"sk-top-container\"><div class=\"sk-text-repr-fallback\"><pre>RandomizedSearchCV(cv=5, estimator=DecisionTreeRegressor(random_state=42),\n",
       "                   n_iter=100,\n",
       "                   param_distributions={&#x27;criterion&#x27;: [&#x27;squared_error&#x27;],\n",
       "                                        &#x27;max_depth&#x27;: &lt;scipy.stats._distn_infrastructure.rv_discrete_frozen object at 0x000001F6A3ECC770&gt;,\n",
       "                                        &#x27;min_samples_leaf&#x27;: &lt;scipy.stats._distn_infrastructure.rv_discrete_frozen object at 0x000001F6A34AF3B0&gt;,\n",
       "                                        &#x27;min_samples_split&#x27;: &lt;scipy.stats._distn_infrastructure.rv_discrete_frozen object at 0x000001F6A318CAA0&gt;},\n",
       "                   scoring=&#x27;neg_mean_squared_error&#x27;, verbose=3)</pre><b>In a Jupyter environment, please rerun this cell to show the HTML representation or trust the notebook. <br />On GitHub, the HTML representation is unable to render, please try loading this page with nbviewer.org.</b></div><div class=\"sk-container\" hidden><div class=\"sk-item sk-dashed-wrapped\"><div class=\"sk-label-container\"><div class=\"sk-label fitted sk-toggleable\"><input class=\"sk-toggleable__control sk-hidden--visually\" id=\"sk-estimator-id-3\" type=\"checkbox\" ><label for=\"sk-estimator-id-3\" class=\"sk-toggleable__label fitted sk-toggleable__label-arrow fitted\">&nbsp;&nbsp;RandomizedSearchCV<a class=\"sk-estimator-doc-link fitted\" rel=\"noreferrer\" target=\"_blank\" href=\"https://scikit-learn.org/1.4/modules/generated/sklearn.model_selection.RandomizedSearchCV.html\">?<span>Documentation for RandomizedSearchCV</span></a><span class=\"sk-estimator-doc-link fitted\">i<span>Fitted</span></span></label><div class=\"sk-toggleable__content fitted\"><pre>RandomizedSearchCV(cv=5, estimator=DecisionTreeRegressor(random_state=42),\n",
       "                   n_iter=100,\n",
       "                   param_distributions={&#x27;criterion&#x27;: [&#x27;squared_error&#x27;],\n",
       "                                        &#x27;max_depth&#x27;: &lt;scipy.stats._distn_infrastructure.rv_discrete_frozen object at 0x000001F6A3ECC770&gt;,\n",
       "                                        &#x27;min_samples_leaf&#x27;: &lt;scipy.stats._distn_infrastructure.rv_discrete_frozen object at 0x000001F6A34AF3B0&gt;,\n",
       "                                        &#x27;min_samples_split&#x27;: &lt;scipy.stats._distn_infrastructure.rv_discrete_frozen object at 0x000001F6A318CAA0&gt;},\n",
       "                   scoring=&#x27;neg_mean_squared_error&#x27;, verbose=3)</pre></div> </div></div><div class=\"sk-parallel\"><div class=\"sk-parallel-item\"><div class=\"sk-item\"><div class=\"sk-label-container\"><div class=\"sk-label fitted sk-toggleable\"><input class=\"sk-toggleable__control sk-hidden--visually\" id=\"sk-estimator-id-4\" type=\"checkbox\" ><label for=\"sk-estimator-id-4\" class=\"sk-toggleable__label fitted sk-toggleable__label-arrow fitted\">estimator: DecisionTreeRegressor</label><div class=\"sk-toggleable__content fitted\"><pre>DecisionTreeRegressor(random_state=42)</pre></div> </div></div><div class=\"sk-serial\"><div class=\"sk-item\"><div class=\"sk-estimator fitted sk-toggleable\"><input class=\"sk-toggleable__control sk-hidden--visually\" id=\"sk-estimator-id-5\" type=\"checkbox\" ><label for=\"sk-estimator-id-5\" class=\"sk-toggleable__label fitted sk-toggleable__label-arrow fitted\">&nbsp;DecisionTreeRegressor<a class=\"sk-estimator-doc-link fitted\" rel=\"noreferrer\" target=\"_blank\" href=\"https://scikit-learn.org/1.4/modules/generated/sklearn.tree.DecisionTreeRegressor.html\">?<span>Documentation for DecisionTreeRegressor</span></a></label><div class=\"sk-toggleable__content fitted\"><pre>DecisionTreeRegressor(random_state=42)</pre></div> </div></div></div></div></div></div></div></div></div>"
      ],
      "text/plain": [
       "RandomizedSearchCV(cv=5, estimator=DecisionTreeRegressor(random_state=42),\n",
       "                   n_iter=100,\n",
       "                   param_distributions={'criterion': ['squared_error'],\n",
       "                                        'max_depth': <scipy.stats._distn_infrastructure.rv_discrete_frozen object at 0x000001F6A3ECC770>,\n",
       "                                        'min_samples_leaf': <scipy.stats._distn_infrastructure.rv_discrete_frozen object at 0x000001F6A34AF3B0>,\n",
       "                                        'min_samples_split': <scipy.stats._distn_infrastructure.rv_discrete_frozen object at 0x000001F6A318CAA0>},\n",
       "                   scoring='neg_mean_squared_error', verbose=3)"
      ]
     },
     "execution_count": 144,
     "metadata": {},
     "output_type": "execute_result"
    }
   ],
   "source": [
    "rs_dtr = RandomizedSearchCV(estimator=dtr, param_distributions=param_dist_rs, cv=5, scoring='neg_mean_squared_error', verbose=3, n_iter=100)\n",
    "rs_dtr.fit(X_train, y_train)"
   ]
  },
  {
   "cell_type": "code",
   "execution_count": 145,
   "metadata": {},
   "outputs": [
    {
     "name": "stdout",
     "output_type": "stream",
     "text": [
      "Best hyperparameters for RandomizedSearchCV: {'criterion': 'squared_error', 'max_depth': 19, 'min_samples_leaf': 2, 'min_samples_split': 27}\n",
      "Cross-validation score for RandomizedSearchCV: 5.214145759356108\n"
     ]
    }
   ],
   "source": [
    "print(\"Best hyperparameters for RandomizedSearchCV:\", rs_dtr.best_params_)\n",
    "print(\"Cross-validation score for RandomizedSearchCV:\", np.sqrt(-rs_dtr.best_score_))"
   ]
  },
  {
   "cell_type": "code",
   "execution_count": 146,
   "metadata": {},
   "outputs": [],
   "source": [
    "y_pred_rs_dtr = rs_dtr.predict(X_test)\n",
    "mse_rs_dtr = mean_squared_error(y_test, y_pred_rs_dtr)\n",
    "rmse_rs_dtr = root_mean_squared_error(y_test, y_pred_rs_dtr)\n",
    "r2_rs_dtr = r2_score(y_test, y_pred_rs_dtr)"
   ]
  },
  {
   "cell_type": "code",
   "execution_count": 147,
   "metadata": {},
   "outputs": [
    {
     "name": "stdout",
     "output_type": "stream",
     "text": [
      "Decision Tree Regressor with RandomizedSearchCV\n",
      "MSE: 27.94\n",
      "RMSE: 5.29\n",
      "R^2: 0.36\n",
      "\n"
     ]
    }
   ],
   "source": [
    "print(f\"Decision Tree Regressor with RandomizedSearchCV\\nMSE: {mse_rs_dtr:.2f}\\nRMSE: {rmse_rs_dtr:.2f}\\nR^2: {r2_rs_dtr:.2f}\\n\")"
   ]
  },
  {
   "cell_type": "markdown",
   "metadata": {},
   "source": [
    "---"
   ]
  },
  {
   "cell_type": "markdown",
   "metadata": {},
   "source": [
    "### Decision Tree Regressor with GridSearchCV"
   ]
  },
  {
   "cell_type": "code",
   "execution_count": 148,
   "metadata": {},
   "outputs": [
    {
     "name": "stdout",
     "output_type": "stream",
     "text": [
      "Decision Tree Regressor with GridSearchCV\n",
      "MSE: 30.93\n",
      "RMSE: 5.56\n",
      "R^2: 0.29\n",
      "\n"
     ]
    }
   ],
   "source": [
    "from sklearn.model_selection import GridSearchCV\n",
    "\n",
    "# Define search space\n",
    "param_grid = {\n",
    "    'max_depth': [3, 5, 7, 10],\n",
    "    'min_samples_split': [2, 5, 10, 20],\n",
    "    'min_samples_leaf': [1, 2, 4, 8],\n",
    "    'criterion': ['squared_error']\n",
    "}\n",
    "\n",
    "# Train model\n",
    "dtr_gs = DecisionTreeRegressor()\n",
    "dtr_gs_cv = GridSearchCV(dtr_gs, param_grid, cv=5, scoring='neg_mean_squared_error')\n",
    "dtr_gs_cv.fit(X_train, y_train)\n",
    "\n",
    "# Evaluate model\n",
    "y_pred_dtr_gs = dtr_gs_cv.predict(X_test)\n",
    "mse_dtr_gs = mean_squared_error(y_test, y_pred_dtr_gs)\n",
    "rmse_dtr_gs = root_mean_squared_error(y_test, y_pred_dtr_gs)\n",
    "r2_dtr_gs = r2_score(y_test, y_pred_dtr_gs)\n",
    "\n",
    "print(f\"Decision Tree Regressor with GridSearchCV\\nMSE: {mse_dtr_gs:.2f}\\nRMSE: {rmse_dtr_gs:.2f}\\nR^2: {r2_dtr_gs:.2f}\\n\")"
   ]
  },
  {
   "cell_type": "markdown",
   "metadata": {},
   "source": [
    "### Random Forest Regressor with RandomizedSearchCV"
   ]
  },
  {
   "cell_type": "code",
   "execution_count": 149,
   "metadata": {},
   "outputs": [
    {
     "name": "stdout",
     "output_type": "stream",
     "text": [
      "Random Forest Regressor with RandomizedSearchCV\n",
      "MSE: 27.43\n",
      "RMSE: 5.24\n",
      "R^2: 0.37\n",
      "\n"
     ]
    }
   ],
   "source": [
    "from sklearn.model_selection import RandomizedSearchCV\n",
    "from scipy.stats import randint\n",
    "\n",
    "param_dist = {\n",
    "    'n_estimators': [100, 200, 300],\n",
    "    'max_depth': [None, 5, 10],\n",
    "    'min_samples_split': [2, 5, 10],\n",
    "    'min_samples_leaf': [1, 2, 4],\n",
    "    'max_features': randint(1, X.shape[1])  # X.shape[1] represents the number of features in your dataset\n",
    "}\n",
    "\n",
    "\n",
    "# Train model\n",
    "rfr_rs = RandomForestRegressor()\n",
    "rfr_rs_cv = RandomizedSearchCV(rfr_rs, param_dist, n_iter=100, cv=5, scoring='neg_mean_squared_error')\n",
    "rfr_rs_cv.fit(X_train, y_train)\n",
    "\n",
    "# Evaluate model\n",
    "y_pred_rfr_rs = rfr_rs_cv.predict(X_test)\n",
    "mse_rfr_rs = mean_squared_error(y_test, y_pred_rfr_rs)\n",
    "rmse_rfr_rs = root_mean_squared_error(y_test, y_pred_rfr_rs)\n",
    "r2_rfr_rs = r2_score(y_test, y_pred_rfr_rs)\n",
    "\n",
    "print(f\"Random Forest Regressor with RandomizedSearchCV\\nMSE: {mse_rfr_rs:.2f}\\nRMSE: {rmse_rfr_rs:.2f}\\nR^2: {r2_rfr_rs:.2f}\\n\")\n"
   ]
  },
  {
   "cell_type": "markdown",
   "metadata": {},
   "source": [
    "---"
   ]
  },
  {
   "cell_type": "markdown",
   "metadata": {},
   "source": [
    "### Random Forest Regressor with GridSearchCV"
   ]
  },
  {
   "cell_type": "code",
   "execution_count": 150,
   "metadata": {},
   "outputs": [
    {
     "name": "stdout",
     "output_type": "stream",
     "text": [
      "Random Forest Regressor with GridSearchCV\n",
      "MSE: 27.08\n",
      "RMSE: 5.20\n",
      "R^2: 0.38\n",
      "\n"
     ]
    }
   ],
   "source": [
    "# from sklearn.model_selection import GridSearchCV\n",
    "\n",
    "from scipy.stats import randint\n",
    "\n",
    "param_grid = {\n",
    "    'bootstrap': [True, False],\n",
    "    'max_depth': [None, 10, 20, 30],\n",
    "    'max_features': [1, 2, 3, 4, 5, 6, 7, 8, 9, 10, 11, 12, 13, 14, 15, 'log2', 'sqrt', None],\n",
    "    'n_estimators': [10, 50, 100]\n",
    "}\n",
    "\n",
    "# Train model\n",
    "rfr_gs = RandomForestRegressor()\n",
    "rfr_gs_cv = GridSearchCV(rfr_gs, param_grid, cv=5, scoring='neg_mean_squared_error')\n",
    "rfr_gs_cv.fit(X_train, y_train)\n",
    "\n",
    "# Evaluate model\n",
    "y_pred_rfr_gs = rfr_gs_cv.predict(X_test)\n",
    "mse_rfr_gs = mean_squared_error(y_test, y_pred_rfr_gs)\n",
    "rmse_rfr_gs = root_mean_squared_error(y_test, y_pred_rfr_gs)\n",
    "r2_rfr_gs = r2_score(y_test, y_pred_rfr_gs)\n",
    "\n",
    "print(f\"Random Forest Regressor with GridSearchCV\\nMSE: {mse_rfr_gs:.2f}\\nRMSE: {rmse_rfr_gs:.2f}\\nR^2: {r2_rfr_gs:.2f}\\n\")\n"
   ]
  },
  {
   "cell_type": "markdown",
   "metadata": {},
   "source": [
    "---"
   ]
  },
  {
   "cell_type": "markdown",
   "metadata": {},
   "source": [
    "### Gradient Boosting Regressor with RandomizedSearchCV"
   ]
  },
  {
   "cell_type": "code",
   "execution_count": 151,
   "metadata": {},
   "outputs": [
    {
     "name": "stdout",
     "output_type": "stream",
     "text": [
      "Gradient Boosting Regressor with RandomizedSearchCV\n",
      "MSE: 26.49\n",
      "RMSE: 26.49\n",
      "R^2: 0.39\n",
      "\n"
     ]
    }
   ],
   "source": [
    "from sklearn.model_selection import RandomizedSearchCV\n",
    "\n",
    "from scipy.stats import randint\n",
    "\n",
    "param_dist = {\n",
    "    'n_estimators': [100, 200, 300],\n",
    "    'max_depth': [None, 5, 10],\n",
    "    'min_samples_split': [2, 5, 10],\n",
    "    'min_samples_leaf': [1, 2, 4],\n",
    "    'max_features': randint(1, X.shape[1])  # X.shape[1] represents the number of features in your dataset\n",
    "}\n",
    "\n",
    "# Train model\n",
    "gbr_rs = GradientBoostingRegressor()\n",
    "gbr_rs_cv = RandomizedSearchCV(gbr_rs, param_dist, n_iter=100, cv=5, scoring='neg_mean_squared_error')\n",
    "gbr_rs_cv.fit(X_train, y_train)\n",
    "\n",
    "# Evaluate model\n",
    "y_pred_gbr_rs = gbr_rs_cv.predict(X_test)\n",
    "mse_gbr_rs = mean_squared_error(y_test, y_pred_gbr_rs)\n",
    "rmse_gbr_rs = mean_squared_error(y_test, y_pred_gbr_rs)\n",
    "r2_gbr_rs = r2_score(y_test, y_pred_gbr_rs)\n",
    "\n",
    "print(f\"Gradient Boosting Regressor with RandomizedSearchCV\\nMSE: {mse_gbr_rs:.2f}\\nRMSE: {rmse_gbr_rs:.2f}\\nR^2: {r2_gbr_rs:.2f}\\n\")\n"
   ]
  },
  {
   "cell_type": "markdown",
   "metadata": {},
   "source": [
    "---"
   ]
  },
  {
   "cell_type": "markdown",
   "metadata": {},
   "source": [
    "### Gradient Boosting Regressor with GridSearchCV"
   ]
  },
  {
   "cell_type": "code",
   "execution_count": 152,
   "metadata": {},
   "outputs": [
    {
     "name": "stdout",
     "output_type": "stream",
     "text": [
      "Gradient Boosting Regressor with GridSearchCV\n",
      "MSE: 29.11\n",
      "RMSE: 5.40\n",
      "R^2: 0.33\n",
      "\n"
     ]
    }
   ],
   "source": [
    "from sklearn.model_selection import GridSearchCV\n",
    "from scipy.stats import randint\n",
    "\n",
    "param_grid = {\n",
    "    'n_estimators': [100, 200, 300],\n",
    "    'learning_rate': [0.01, 0.1, 0.5],\n",
    "    'max_features': [0.5, 0.75, 1.0]\n",
    "}\n",
    "\n",
    "# Train model\n",
    "gbr_gs = GradientBoostingRegressor()\n",
    "gbr_gs_cv = GridSearchCV(gbr_gs, param_grid, cv=5, scoring='neg_mean_squared_error')\n",
    "gbr_gs_cv.fit(X_train, y_train)\n",
    "\n",
    "# Evaluate model\n",
    "y_pred_gbr_gs = gbr_gs_cv.predict(X_test)\n",
    "mse_gbr_gs = mean_squared_error(y_test, y_pred_gbr_gs)\n",
    "rmse_gbr_gs = root_mean_squared_error(y_test, y_pred_gbr_gs)\n",
    "r2_gbr_gs = r2_score(y_test, y_pred_gbr_gs)\n",
    "\n",
    "print(f\"Gradient Boosting Regressor with GridSearchCV\\nMSE: {mse_gbr_gs:.2f}\\nRMSE: {rmse_gbr_gs:.2f}\\nR^2: {r2_gbr_gs:.2f}\\n\")"
   ]
  },
  {
   "cell_type": "code",
   "execution_count": 153,
   "metadata": {},
   "outputs": [],
   "source": [
    "r2_list = {\"DecisionTreeRegressor\": r2_dtr,\n",
    "          \"RandomForestRegressor\": r2_rf,\n",
    "          \"GradientBoostingRegressor\": r2_gb,\n",
    "          \"DecisionTreeRegressor w/ RandomSearchCV\": r2_rs_dtr,\n",
    "          \"DecisionTreeRegressor w/ GridSearchCV\": r2_dtr_gs,\n",
    "          \"RandomForestRegressor w/ RandomSearchCV\":r2_rfr_rs ,\n",
    "          \"RandomForestRegressor w/ GridSearchCV\":r2_rfr_gs ,\n",
    "          \"GradientBoostingRegressor w/ RandomSearchCV\": r2_gbr_rs,\n",
    "          \"GradientBoostingRegressor w/ GridSearchCV\": r2_gbr_gs}\n",
    "\n",
    "# mae_list = {\"DecisionTreeRegressor\": mae_dtr,\n",
    "#           \"RandomForestRegressor\": mae_rf ,\n",
    "#           \"GradientBoostingRegressor\": mae_gb,\n",
    "#           \"DecisionTreeRegressor w/ RandomSearchCV\": mae_rs_dtr,\n",
    "#           \"DecisionTreeRegressor w/ GridSearchCV\": mae_dtr_gs,\n",
    "#           \"RandomForestRegressor w/ RandomSearchCV\":mae_rfr_rs ,\n",
    "#           \"RandomForestRegressor w/ GridSearchCV\":mae_rfr_gs ,\n",
    "#           \"GradientBoostingRegressor w/ RandomSearchCV\": mae_gbr_rs,\n",
    "#           \"GradientBoostingRegressor w/ GridSearchCV\": mae_gbr_gs}\n",
    "\n",
    "mse_list = {\"DecisionTreeRegressor\": mse_dtr,\n",
    "          \"RandomForestRegressor\": mse_rf ,\n",
    "          \"GradientBoostingRegressor\": mse_gb,\n",
    "          \"DecisionTreeRegressor w/ RandomSearchCV\": mse_rs_dtr,\n",
    "          \"DecisionTreeRegressor w/ GridSearchCV\": mse_dtr_gs,\n",
    "          \"RandomForestRegressor w/ RandomSearchCV\":mse_rfr_rs ,\n",
    "          \"RandomForestRegressor w/ GridSearchCV\":mse_rfr_gs ,\n",
    "          \"GradientBoostingRegressor w/ RandomSearchCV\": mse_gbr_rs,\n",
    "          \"GradientBoostingRegressor w/ GridSearchCV\": mse_gbr_gs}\n",
    "\n",
    "rmse_list = {\"DecisionTreeRegressor\": rmse_dtr,\n",
    "          \"RandomForestRegressor\": rmse_rf,\n",
    "          \"GradientBoostingRegressor\": rmse_gb,\n",
    "          \"DecisionTreeRegressor w/ RandomSearchCV\": rmse_rs_dtr,\n",
    "          \"DecisionTreeRegressor w/ GridSearchCV\": rmse_dtr_gs,\n",
    "          \"RandomForestRegressor w/ RandomSearchCV\": rmse_rfr_rs,\n",
    "          \"RandomForestRegressor w/ GridSearchCV\": rmse_rfr_gs,\n",
    "          \"GradientBoostingRegressor w/ RandomSearchCV\": rmse_gbr_rs,\n",
    "          \"GradientBoostingRegressor w/ GridSearchCV\": rmse_gbr_rs}"
   ]
  },
  {
   "cell_type": "code",
   "execution_count": 154,
   "metadata": {},
   "outputs": [],
   "source": [
    "a1 =  pd.DataFrame.from_dict(r2_list, orient = 'index', columns = [\"R2 SCORE\"])\n",
    "# a2 =  pd.DataFrame.from_dict(mae_list, orient = 'index', columns = [\"MEAN ABSOLUTE ERROR\"])\n",
    "a3 =  pd.DataFrame.from_dict(mse_list, orient = 'index', columns = [\"MEAN SQUARRED ERROR\"])\n",
    "a4 =  pd.DataFrame.from_dict(rmse_list, orient = 'index', columns = [\"ROOT MEAN SQUARRED ERROR\"])"
   ]
  },
  {
   "cell_type": "code",
   "execution_count": 155,
   "metadata": {},
   "outputs": [
    {
     "data": {
      "text/html": [
       "<div>\n",
       "<style scoped>\n",
       "    .dataframe tbody tr th:only-of-type {\n",
       "        vertical-align: middle;\n",
       "    }\n",
       "\n",
       "    .dataframe tbody tr th {\n",
       "        vertical-align: top;\n",
       "    }\n",
       "\n",
       "    .dataframe thead th {\n",
       "        text-align: right;\n",
       "    }\n",
       "</style>\n",
       "<table border=\"1\" class=\"dataframe\">\n",
       "  <thead>\n",
       "    <tr style=\"text-align: right;\">\n",
       "      <th></th>\n",
       "      <th>R2 SCORE</th>\n",
       "      <th>MEAN SQUARRED ERROR</th>\n",
       "      <th>ROOT MEAN SQUARRED ERROR</th>\n",
       "    </tr>\n",
       "  </thead>\n",
       "  <tbody>\n",
       "    <tr>\n",
       "      <th>DecisionTreeRegressor</th>\n",
       "      <td>0.203157</td>\n",
       "      <td>34.607347</td>\n",
       "      <td>5.882801</td>\n",
       "    </tr>\n",
       "    <tr>\n",
       "      <th>RandomForestRegressor</th>\n",
       "      <td>0.426695</td>\n",
       "      <td>25.389127</td>\n",
       "      <td>5.038762</td>\n",
       "    </tr>\n",
       "    <tr>\n",
       "      <th>GradientBoostingRegressor</th>\n",
       "      <td>0.331973</td>\n",
       "      <td>29.012792</td>\n",
       "      <td>5.386352</td>\n",
       "    </tr>\n",
       "    <tr>\n",
       "      <th>DecisionTreeRegressor w/ RandomSearchCV</th>\n",
       "      <td>0.356740</td>\n",
       "      <td>27.937164</td>\n",
       "      <td>5.285562</td>\n",
       "    </tr>\n",
       "    <tr>\n",
       "      <th>DecisionTreeRegressor w/ GridSearchCV</th>\n",
       "      <td>0.287734</td>\n",
       "      <td>30.934103</td>\n",
       "      <td>5.561844</td>\n",
       "    </tr>\n",
       "    <tr>\n",
       "      <th>RandomForestRegressor w/ RandomSearchCV</th>\n",
       "      <td>0.368468</td>\n",
       "      <td>27.427775</td>\n",
       "      <td>5.237153</td>\n",
       "    </tr>\n",
       "    <tr>\n",
       "      <th>RandomForestRegressor w/ GridSearchCV</th>\n",
       "      <td>0.376440</td>\n",
       "      <td>27.081546</td>\n",
       "      <td>5.203993</td>\n",
       "    </tr>\n",
       "    <tr>\n",
       "      <th>GradientBoostingRegressor w/ RandomSearchCV</th>\n",
       "      <td>0.390038</td>\n",
       "      <td>26.490990</td>\n",
       "      <td>26.490990</td>\n",
       "    </tr>\n",
       "    <tr>\n",
       "      <th>GradientBoostingRegressor w/ GridSearchCV</th>\n",
       "      <td>0.329642</td>\n",
       "      <td>29.114031</td>\n",
       "      <td>26.490990</td>\n",
       "    </tr>\n",
       "  </tbody>\n",
       "</table>\n",
       "</div>"
      ],
      "text/plain": [
       "                                             R2 SCORE  MEAN SQUARRED ERROR  \\\n",
       "DecisionTreeRegressor                        0.203157            34.607347   \n",
       "RandomForestRegressor                        0.426695            25.389127   \n",
       "GradientBoostingRegressor                    0.331973            29.012792   \n",
       "DecisionTreeRegressor w/ RandomSearchCV      0.356740            27.937164   \n",
       "DecisionTreeRegressor w/ GridSearchCV        0.287734            30.934103   \n",
       "RandomForestRegressor w/ RandomSearchCV      0.368468            27.427775   \n",
       "RandomForestRegressor w/ GridSearchCV        0.376440            27.081546   \n",
       "GradientBoostingRegressor w/ RandomSearchCV  0.390038            26.490990   \n",
       "GradientBoostingRegressor w/ GridSearchCV    0.329642            29.114031   \n",
       "\n",
       "                                             ROOT MEAN SQUARRED ERROR  \n",
       "DecisionTreeRegressor                                        5.882801  \n",
       "RandomForestRegressor                                        5.038762  \n",
       "GradientBoostingRegressor                                    5.386352  \n",
       "DecisionTreeRegressor w/ RandomSearchCV                      5.285562  \n",
       "DecisionTreeRegressor w/ GridSearchCV                        5.561844  \n",
       "RandomForestRegressor w/ RandomSearchCV                      5.237153  \n",
       "RandomForestRegressor w/ GridSearchCV                        5.203993  \n",
       "GradientBoostingRegressor w/ RandomSearchCV                 26.490990  \n",
       "GradientBoostingRegressor w/ GridSearchCV                   26.490990  "
      ]
     },
     "execution_count": 155,
     "metadata": {},
     "output_type": "execute_result"
    }
   ],
   "source": [
    "org = pd.concat([a1, a3, a4], axis = 1)\n",
    "org"
   ]
  },
  {
   "cell_type": "code",
   "execution_count": 156,
   "metadata": {},
   "outputs": [
    {
     "data": {
      "image/png": "[encoded data removed]",
      "text/plain": [
       "<Figure size 640x480 with 1 Axes>"
      ]
     },
     "metadata": {},
     "output_type": "display_data"
    }
   ],
   "source": [
    "alg = ['DecisionTreeRegressor','RandomForestRegressor','GradientBoostingRegressor','DecisionTreeRegressor w/ RandomSearchCV','DecisionTreeRegressor w/ GridSearchCV','RandomForestRegressor w/ RandomSearchCV', 'RandomForestRegressor w/ GridSearchCV', 'GradientBoostingRegressor w/ RandomSearchCV', 'GradientBoostingRegressor w/ GridSearchCV']\n",
    "plt.plot(alg,a1)\n",
    "# plt.plot(alg,a2)\n",
    "plt.plot(alg,a3)\n",
    "plt.plot(alg,a4)\n",
    "legend = [\"R2 SCORE\", \"MEAN SQUARRED ERROR\", \"ROOT MEAN SQUARRED ERROR\"]\n",
    "plt.xticks(rotation=90)\n",
    "plt.title(\"METRICS COMPARISION\")\n",
    "plt.legend(legend, loc= 'right', fontsize='xx-small')\n",
    "plt.show()"
   ]
  }
 ],
 "metadata": {
  "kernelspec": {
   "display_name": "Python 3 (ipykernel)",
   "language": "python",
   "name": "python3"
  },
  "language_info": {
   "codemirror_mode": {
    "name": "ipython",
    "version": 3
   },
   "file_extension": ".py",
   "mimetype": "text/x-python",
   "name": "python",
   "nbconvert_exporter": "python",
   "pygments_lexer": "ipython3",
   "version": "3.12.0"
  }
 },
 "nbformat": 4,
 "nbformat_minor": 4
}
