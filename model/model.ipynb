{
 "cells": [
  {
   "cell_type": "code",
   "execution_count": 7,
   "id": "f5bc3f70-32d6-4153-bc93-d926aaa38ce4",
   "metadata": {},
   "outputs": [],
   "source": [
    "# import pandas as pd\n",
    "# from sklearn.ensemble import RandomForestRegressor\n",
    "\n",
    "# # Load the preprocessed data\n",
    "# data = pd.read_csv('./datasets/final.csv')\n",
    "\n",
    "# # Define the feature columns\n",
    "# feature_cols = ['university', 'school', 'degree']\n",
    "\n",
    "# # Define the target column\n",
    "# target_col = 'employment_rate_overall'\n",
    "\n",
    "# # Create the RandomForestRegressor model\n",
    "# model = RandomForestRegressor(n_estimators=100, random_state=42)\n",
    "\n",
    "# # Train the model\n",
    "# model.fit(data[feature_cols], data[target_col])\n",
    "\n",
    "# # Get user input for University, School, and Degree\n",
    "# university = input(\"Enter the University (e.g., '0', '1', '2', etc.): \")\n",
    "# school = input(\"Enter the School (e.g., '0', '1', '2', etc.): \")\n",
    "# degree = input(\"Enter the Degree (e.g., '5', '137', '153', etc.): \")\n",
    "\n",
    "# # Map the text inputs to numerical values using the final.csv dataset\n",
    "# university_map = {row['university']: idx for idx, row in data[['university', 'university_id']].drop_duplicates().values}\n",
    "# school_map = {row['school']: idx for idx, row in data[['school', 'school_id']].drop_duplicates().values}\n",
    "# degree_map = {row['degree']: idx for idx, row in data[['degree', 'degree_id']].drop_duplicates().values}\n",
    "\n",
    "# university_id = university_map[int(university)]\n",
    "# school_id = school_map[int(school)]\n",
    "# degree_id = degree_map[int(degree)]\n",
    "\n",
    "# # Create a new dataframe with the user input\n",
    "# new_data = pd.DataFrame({'university': [university_id], 'school': [school_id], 'degree': [degree_id]})\n",
    "\n",
    "# # Predict the employment rate\n",
    "# employment_rate = model.predict(new_data)[0]\n",
    "\n",
    "# # Print the predicted employment rate\n",
    "# print(f\"The predicted employment rate for the specified University, School, and Degree is: {employment_rate:.2f}%\")"
   ]
  },
  {
   "cell_type": "code",
   "execution_count": 3,
   "id": "015ba95b-0dc7-4f79-929b-2fccec746ad3",
   "metadata": {},
   "outputs": [
    {
     "name": "stdout",
     "output_type": "stream",
     "text": [
      "LabelEncoder mapping for university: {'Nanyang Technological University': 0, 'National University of Singapore': 1, 'Singapore Institute of Technology': 2, 'Singapore Management University': 3, 'Singapore University of Social Sciences': 4}\n",
      "LabelEncoder mapping for school: {'College of Business (Nanyang Business School)': 0, 'College of Engineering': 1, 'College of Humanities, Arts & Social Sciences': 2, 'College of Science': 3, 'Faculty of Arts & Social Sciences': 4, 'Faculty of Dentistry': 5, 'Faculty of Engineering': 6, 'Faculty of Law': 7, 'Faculty of Science': 8, 'Lee Kong Chian School of Medicine': 9, 'Multi-Disciplinary Programmes': 10, 'Multidisciplinary Programmes': 11, 'NUS Business School': 12, 'National Institute of Education (NIE)': 13, 'S R Nathan School of Human Development': 14, 'SIT-DigiPen Institute of Technology': 15, 'SIT-Massey University': 16, 'SIT-Newcastle University': 17, 'SIT-University of Glasgow': 18, 'School of Accountancy (4-year programme)': 19, 'School of Business': 20, 'School of Business (4-year programme)': 21, 'School of Computing': 22, 'School of Design & Environment': 23, 'School of Economics (4-year programme)': 24, 'School of Information Systems (4-year programme)': 25, 'School of Law (4-year programme)': 26, 'School of Social Sciences (4-year programme)': 27, 'Singapore Institute of Technology': 28, 'Sports Science and Management': 29, 'Technische University Munich': 30, 'The Culinary Institute of America': 31, 'The Glasgow School of Art': 32, 'Trinity College Dublin': 33, 'University of Liverpool': 34, 'University of Manchester': 35, 'University of Nevada, Las Vegas': 36, 'Wheelock College': 37, 'YLL School of Medicine': 38, 'YST Conservatory of Music': 39, 'Yale-NUS College': 40}\n",
      "LabelEncoder mapping for degree: {'Accountancy': 0, 'Accountancy (3-yr direct Honours Programme)': 1, 'Accountancy (4-years programme)': 2, 'Accountancy (4-years programme) (Hons)': 3, 'Accountancy (Hons)': 4, 'Accountancy and Business': 5, 'Aerospace Engineering': 6, 'Art, Design & Media': 7, 'Art, Design and Media': 8, 'Arts (with Education)': 9, 'Bachelor of Accountancy': 10, 'Bachelor of Accountancy (Hons)': 11, 'Bachelor of Accountancy with Honours': 12, 'Bachelor of Applied Science (Hons)': 13, 'Bachelor of Arts': 14, 'Bachelor of Arts (Architecture)': 15, 'Bachelor of Arts (Hons)': 16, 'Bachelor of Arts (Hons) (Education)': 17, 'Bachelor of Arts (Hons) in Chinese': 18, 'Bachelor of Arts (Hons) in Economics': 19, 'Bachelor of Arts (Hons) in English': 20, 'Bachelor of Arts (Hons) in History': 21, 'Bachelor of Arts (Hons) in Linguistics And Multilingual Studies': 22, 'Bachelor of Arts (Hons) in Psychology': 23, 'Bachelor of Arts (Hons) in Public Policy And Global Affairs': 24, 'Bachelor of Arts (Hons) in Sociology': 25, 'Bachelor of Arts (Industrial Design)': 26, 'Bachelor of Arts in Game Design': 27, 'Bachelor of Arts with Honours': 28, 'Bachelor of Arts with Honours in Communication Design': 29, 'Bachelor of Arts with Honours in Criminology and Security': 30, 'Bachelor of Arts with Honours in Interior Design': 31, 'Bachelor of Business (Hons)': 32, 'Bachelor of Business Administration': 33, 'Bachelor of Business Administration (Accountancy)': 34, 'Bachelor of Business Administration (Accountancy) (Hons)': 35, 'Bachelor of Business Administration (Hons)': 36, 'Bachelor of Business Administration in Food Business Management': 37, 'Bachelor of Communication Studies (Hons)': 38, 'Bachelor of Computing (Communications and Media)': 39, 'Bachelor of Computing (Computer Science)': 40, 'Bachelor of Computing (Electronic Commerce)': 41, 'Bachelor of Computing (Information Systems)': 42, 'Bachelor of Dental Surgery': 43, 'Bachelor of Early Childhood Education': 44, 'Bachelor of Engineering  (Hons) (Chemical And Biomolecular Engineering)': 45, 'Bachelor of Engineering (Bioengineering)': 46, 'Bachelor of Engineering (Biomedical Engineering)': 47, 'Bachelor of Engineering (Chemical Engineering)': 48, 'Bachelor of Engineering (Civil Engineering)': 49, 'Bachelor of Engineering (Computer Engineering)': 50, 'Bachelor of Engineering (Electrical Engineering)': 51, 'Bachelor of Engineering (Engineering Science)': 52, 'Bachelor of Engineering (Environmental Engineering)': 53, 'Bachelor of Engineering (Hons) (Aerospace Engineering)': 54, 'Bachelor of Engineering (Hons) (Bioengineering)': 55, 'Bachelor of Engineering (Hons) (Civil Engineering)': 56, 'Bachelor of Engineering (Hons) (Computer Engineering)': 57, 'Bachelor of Engineering (Hons) (Computer Science)': 58, 'Bachelor of Engineering (Hons) (Electrical & Electronic Engineering)': 59, 'Bachelor of Engineering (Hons) (Environmental Engineering)': 60, 'Bachelor of Engineering (Hons) (Information Engineering & Media)': 61, 'Bachelor of Engineering (Hons) (Materials Engineering)': 62, 'Bachelor of Engineering (Hons) (Mechanical Engineering)': 63, 'Bachelor of Engineering (Industrial and Systems Engineering)': 64, 'Bachelor of Engineering (Materials Science and Engineering)': 65, 'Bachelor of Engineering (Mechanical Engineering)': 66, 'Bachelor of Engineering with Honours in Aeronautical Engineering': 67, 'Bachelor of Engineering with Honours in Aerospace Systems': 68, 'Bachelor of Engineering with Honours in Aircraft Systems Engineering': 69, 'Bachelor of Engineering with Honours in Chemical Engineering': 70, 'Bachelor of Engineering with Honours in Civil Engineering': 71, 'Bachelor of Engineering with Honours in Electrical Power Engineering': 72, 'Bachelor of Engineering with Honours in Information & Communications Technology (Information Security)': 73, 'Bachelor of Engineering with Honours in Information & Communications Technology (Software Engineering)': 74, 'Bachelor of Engineering with Honours in Marine Engineering': 75, 'Bachelor of Engineering with Honours in Mechanical Design & Manufacturing Engineering': 76, 'Bachelor of Engineering with Honours in Mechanical Design Engineering': 77, 'Bachelor of Engineering with Honours in Mechanical Design and Manufacturing Engineering': 78, 'Bachelor of Engineering with Honours in Mechatronics': 79, 'Bachelor of Engineering with Honours in Naval Architecture': 80, 'Bachelor of Engineering with Honours in Offshore Engineering': 81, 'Bachelor of Engineering with Honours in Pharmaceutical Engineering': 82, 'Bachelor of Engineering with Honours in Sustainable Infrastructure Engineering (Building Services)': 83, 'Bachelor of Engineering with Honours in Sustainable Infrastructure Engineering (Land)': 84, 'Bachelor of Engineering with Honours in Systems Engineering (ElectroMechanical Systems)': 85, 'Bachelor of Engineering with Honours in Telematics (Intelligent Transportation Systems Engineering)': 86, 'Bachelor of Environmental Studies': 87, 'Bachelor of Fine Arts (Hons)': 88, 'Bachelor of Fine Arts in Digital Arts and Animation': 89, 'Bachelor of Food Technology with Honours': 90, 'Bachelor of Hospitality Business with Honours': 91, 'Bachelor of Human Resource Management': 92, 'Bachelor of Laws': 93, 'Bachelor of Laws (LLB) (Hons)': 94, 'Bachelor of Medicine and Bachelor of Surgery (MBBS)': 95, 'Bachelor of Music': 96, 'Bachelor of Professional Studies in Culinary Arts Management': 97, 'Bachelor of Science': 98, 'Bachelor of Science (Business Analytics)': 99, 'Bachelor of Science (Data Science and Analytics)': 100, 'Bachelor of Science (Diagnostic Radiography)': 101, 'Bachelor of Science (Hons)': 102, 'Bachelor of Science (Hons) (Education)': 103, 'Bachelor of Science (Hons) (Maritime Studies)': 104, 'Bachelor of Science (Hons) (Sport Science & Management)': 105, 'Bachelor of Science (Hons) in Biological Sciences': 106, 'Bachelor of Science (Hons) in Chemistry & Biological Chemistry': 107, 'Bachelor of Science (Hons) in Mathematical Sciences': 108, 'Bachelor of Science (Hons) in Mathematics & Economics': 109, 'Bachelor of Science (Hons) in Physics/Applied Physics': 110, 'Bachelor of Science (Major in Hospitality Management)': 111, 'Bachelor of Science (Nursing)': 112, 'Bachelor of Science (Nursing) (Hons)': 113, 'Bachelor of Science (Occupational Therapy)': 114, 'Bachelor of Science (Pharmacy)': 115, 'Bachelor of Science (Pharmacy) (Hons)': 116, 'Bachelor of Science (Physiotherapy)': 117, 'Bachelor of Science (Project and Facilities Management)': 118, 'Bachelor of Science (Real Estate)': 119, 'Bachelor of Science in Business Analytics': 120, 'Bachelor of Science in Chemical Engineering': 121, 'Bachelor of Science in Computer Science and Game Design': 122, 'Bachelor of Science in Computer Science in Real-Time Interactive Simulation': 123, 'Bachelor of Science in Early Childhood Education': 124, 'Bachelor of Science in Electrical Engineering & Information Technology': 125, 'Bachelor of Science in Finance': 126, 'Bachelor of Science in Marketing': 127, 'Bachelor of Science in Supply Chain Management': 128, 'Bachelor of Science with Honours': 129, 'Bachelor of Science with Honours in Computing Science': 130, 'Bachelor of Science with Honours in Food & Human Nutrition': 131, 'Bachelor of Science with Honours in Food and Human Nutrition': 132, 'Bachelor of Science with Honours in Nursing': 133, 'Bachelor of Science with Honours in Nursing Practice': 134, 'Bachelor of Social Sciences': 135, 'Bachelor of Social Work': 136, 'Bioengineering': 137, 'Biological Sciences': 138, 'Biological Sciences / Biomedical Sciences': 139, 'Biomedical Science (Traditional Chinese Medicine) #': 140, 'Biomedical Sciences & Chinese Medicine #': 141, 'Biomedical Sciences & Chinese Medicine # ^': 142, 'Biomedical Sciences (Traditional Chinese Medicine) #': 143, 'Biomedical Sciences and Chinese Medicine # ^': 144, 'Business': 145, 'Business (3-yr direct Honours Programme)': 146, 'Business Management': 147, 'Business Management (4-years programme)': 148, 'Business Management (4-years programme) (Hons)': 149, 'Business Management (Hons)': 150, 'Business and Computing': 151, 'Chemical & Biomolecular Engineering': 152, 'Chemical and Biomolecular Engineering': 153, 'Chemistry & Biological Chemistry': 154, 'Chemistry and Biological Chemistry': 155, 'Chinese': 156, 'Civil Engineering': 157, 'Communication Studies': 158, 'Computer Engineering': 159, 'Computer Science': 160, 'Double Degree in Bachelor of Accountancy (Hons) and Bachelor of Business (Hons)': 161, 'Double Degree in Bachelor of Business (Hons) and Bachelor of Engineering (Hons) (Computer Science)': 162, 'Double Degree in Bachelor of Science (Hons) in Biomedical Sciences and Bachelor of Medicine (Chinese Medicine) #': 163, 'Double Degree in Business and Computer Engineering/Computing': 164, 'Double Degree in Engineering and Economics ^': 165, 'Economics (4-years programme)': 166, 'Economics (4-years programme) (Hons)': 167, 'Economics (Hons)': 168, 'Electrical And Electronic Engineering': 169, 'Electrical and Electronic Engineering': 170, 'English': 171, 'Environmental Earth Systems Science ^': 172, 'Environmental Earth Systems Sciences ^': 173, 'Environmental Engineering': 174, 'History': 175, 'Information Engineering And Media': 176, 'Information Engineering and Media': 177, 'Information Systems': 178, 'Information Systems (Hons)': 179, 'Information Systems Management': 180, 'Information Systems Management (4-year programme)': 181, 'Information Systems Management (4-year programme) (Hons)': 182, 'Information Systems Management (4-years programme)': 183, 'Information Systems Management (4-years programme) (Hons)': 184, 'Information Systems Management (Hons)': 185, 'Inter-Disciplinary Double Major ^': 186, 'Law #': 187, 'Law (4-year programme) #': 188, 'Law (4-year programme) Cum Laude and above #': 189, 'Law (4-years programme) #': 190, 'Law (4-years programme) Cum Laude and above #': 191, 'Law (Cum Laude and above) #': 192, 'Law Cum Laude and above #': 193, 'Linguistics & Multilingual Studies': 194, 'Linguistics And Multilingual Studies': 195, 'Linguistics and Multilingual Studies': 196, 'Maritime Studies': 197, 'Materials Engineering': 198, 'Mathematical Science': 199, 'Mathematical Sciences': 200, 'Mathematical Sciences / Mathematical Sciences and Economics': 201, 'Mathematics & Economics': 202, 'Mathematics and Economics': 203, 'Mechanical Engineering': 204, 'Medicine #': 205, 'Philosophy': 206, 'Philosophy ^': 207, 'Physics & Applied Physics': 208, 'Physics / Applied Physics': 209, 'Physics and Applied Physics': 210, 'Psychology': 211, 'Public Policy And Global Affairs': 212, 'Public Policy and Global Affairs': 213, 'Science (with Education)': 214, 'Science (with Education) ^': 215, 'Social Sciences': 216, 'Social Sciences (4-years programme)': 217, 'Social Sciences (4-years programme) (Hons)': 218, 'Social Sciences (Hons)': 219, 'Sociology': 220, 'Sports Science and Management': 221}\n"
     ]
    }
   ],
   "source": [
    "# Import necessary libraries\n",
    "import pandas as pd\n",
    "from sklearn.ensemble import RandomForestRegressor\n",
    "from sklearn.preprocessing import LabelEncoder\n",
    "import pickle\n",
    "\n",
    "# Load the data from the provided CSV file\n",
    "data = pd.read_csv('normal.csv')\n",
    "\n",
    "# Preprocess the data\n",
    "# Encode categorical variables (University, School, Degree) using LabelEncoder\n",
    "label_encoders = {}\n",
    "for col in ['university', 'school', 'degree']:\n",
    "    le = LabelEncoder()\n",
    "    data[col] = le.fit_transform(data[col])\n",
    "    label_encoders[col] = le\n",
    "    print(f\"LabelEncoder mapping for {col}: {dict(zip(le.classes_, le.transform(le.classes_)))}\")\n",
    "\n",
    "# Define features (X) and target variable (y)\n",
    "X = data[['university', 'school', 'degree']]\n",
    "y1 = data['employment_rate_overall']\n",
    "y2 = data['gross_monthly_mean']\n",
    "\n",
    "# Initialize the RandomForestRegressor model\n",
    "model = RandomForestRegressor()\n",
    "\n",
    "# Fit the model on the data\n",
    "model.fit(X, y1)\n",
    "\n",
    "pickle.dump(model, open('model.pkl','wb'))"
   ]
  },
  {
   "cell_type": "code",
   "execution_count": 18,
   "id": "337cc008-5ed1-46e5-9c23-6e458ffe53dc",
   "metadata": {},
   "outputs": [
    {
     "name": "stdout",
     "output_type": "stream",
     "text": [
      "Key: university, Value: National University of Singapore, Type: <class 'str'>\n",
      "Key: school, Value: School of Computing, Type: <class 'str'>\n",
      "Key: degree, Value: Bachelor of Computing (Information Systems), Type: <class 'str'>\n",
      "Mean Employment Rate: 95.56%\n"
     ]
    },
    {
     "name": "stderr",
     "output_type": "stream",
     "text": [
      "c:\\Users\\Meet\\AppData\\Local\\Programs\\Python\\Python312\\Lib\\site-packages\\sklearn\\base.py:493: UserWarning: X does not have valid feature names, but RandomForestRegressor was fitted with feature names\n",
      "  warnings.warn(\n"
     ]
    }
   ],
   "source": [
    "mean_employment_rate = []\n",
    "\n",
    "for _ in range(1):\n",
    "    # FILEPATH: /d:/Projects/graduate/model/model.ipynb\n",
    "    model.fit(X, y1)\n",
    "\n",
    "    # User input data for prediction\n",
    "    # Assuming user_input is a dictionary with keys 'university', 'school', 'degree'\n",
    "    user_input = {'university': 'National University of Singapore', 'school': 'School of Computing', 'degree': 'Bachelor of Computing (Information Systems)'}\n",
    "    for key, value in user_input.items():\n",
    "        print(f'Key: {key}, Value: {value}, Type: {type(value)}')\n",
    "    # Preprocess user input data\n",
    "    user_input_encoded = [label_encoders[col].transform([user_input[col]])[0] for col in ['university', 'school', 'degree']]\n",
    "\n",
    "    # Predict the employment rate for the user input data\n",
    "    predicted_employment_rate = model.predict([user_input_encoded])\n",
    "    mean_employment_rate.append(predicted_employment_rate[0])\n",
    "\n",
    "    # Print the predicted employment rate\n",
    "    # print(\"Predicted Employment Rate: {:.2f}%\".format(predicted_employment_rate[0]))\n",
    "\n",
    "print(\"Mean Employment Rate: {:.2f}%\".format(sum(mean_employment_rate) / len(mean_employment_rate)))\n"
   ]
  },
  {
   "cell_type": "code",
   "execution_count": 10,
   "id": "936effb7-d7ef-4859-992a-6e2e3caf966b",
   "metadata": {},
   "outputs": [],
   "source": [
    "# model.fit(X, y1)\n",
    "\n",
    "# def predict_employment_rate():\n",
    "#     university = input(\"Enter the University name: \")\n",
    "#     school = input(\"Enter the School name: \")\n",
    "#     degree = input(\"Enter the Degree name: \")\n",
    "\n",
    "#     user_input_encoded = [label_encoders[col].transform([user_input[col]])[0] for col in ['university', 'school', 'degree']]\n",
    "\n",
    "#     predicted_employment_rate = model.predict([user_input_encoded])\n",
    "\n",
    "#     print(\"Predicted Employment Rate: {:.2f}%\".format(predicted_employment_rate[0]))\n",
    "\n",
    "# # Call the function to get user input and predict the employment rate\n",
    "# predict_employment_rate()"
   ]
  },
  {
   "cell_type": "code",
   "execution_count": 11,
   "id": "b2856e53-3cea-43a9-ac4e-776408f7734c",
   "metadata": {},
   "outputs": [
    {
     "name": "stdout",
     "output_type": "stream",
     "text": [
      "Predicted Yearly Salary: 50252.09\n"
     ]
    },
    {
     "name": "stderr",
     "output_type": "stream",
     "text": [
      "c:\\Users\\Meet\\AppData\\Local\\Programs\\Python\\Python312\\Lib\\site-packages\\sklearn\\base.py:493: UserWarning: X does not have valid feature names, but RandomForestRegressor was fitted with feature names\n",
      "  warnings.warn(\n"
     ]
    }
   ],
   "source": [
    "model.fit(X, y2)\n",
    "\n",
    "# User input data for prediction\n",
    "# Assuming user_input is a dictionary with keys 'university', 'school', 'degree'\n",
    "user_input = {'university': 'National University of Singapore', 'school': 'School of Computing', 'degree': 'Bachelor of Computing (Information Systems)'}\n",
    "\n",
    "# Preprocess user input data\n",
    "user_input_encoded1 = [label_encoders[col].transform([user_input[col]])[0] for col in ['university', 'school', 'degree']]\n",
    "\n",
    "# Predict the employment rate for the user input data\n",
    "predicted_yearly_salary = model.predict([user_input_encoded1])\n",
    "\n",
    "# Print the predicted employment rate\n",
    "print(\"Predicted Yearly Salary: {:.2f}\".format(predicted_yearly_salary[0] * 12))"
   ]
  }
 ],
 "metadata": {
  "kernelspec": {
   "display_name": "Python 3 (ipykernel)",
   "language": "python",
   "name": "python3"
  },
  "language_info": {
   "codemirror_mode": {
    "name": "ipython",
    "version": 3
   },
   "file_extension": ".py",
   "mimetype": "text/x-python",
   "name": "python",
   "nbconvert_exporter": "python",
   "pygments_lexer": "ipython3",
   "version": "3.12.0"
  }
 },
 "nbformat": 4,
 "nbformat_minor": 5
}
